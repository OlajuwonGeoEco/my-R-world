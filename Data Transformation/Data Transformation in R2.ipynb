{
 "cells": [
  {
   "cell_type": "markdown",
   "id": "8ef82997",
   "metadata": {},
   "source": [
    "##Data Wrangling"
   ]
  },
  {
   "cell_type": "code",
   "execution_count": 1,
   "id": "32e1fc30",
   "metadata": {},
   "outputs": [
    {
     "name": "stderr",
     "output_type": "stream",
     "text": [
      "Registered S3 methods overwritten by 'ggplot2':\n",
      "  method         from \n",
      "  [.quosures     rlang\n",
      "  c.quosures     rlang\n",
      "  print.quosures rlang\n",
      "Registered S3 method overwritten by 'rvest':\n",
      "  method            from\n",
      "  read_xml.response xml2\n",
      "-- Attaching packages --------------------------------------- tidyverse 1.2.1 --\n",
      "v ggplot2 3.1.1       v purrr   0.3.2  \n",
      "v tibble  2.1.1       v dplyr   0.8.0.1\n",
      "v tidyr   0.8.3       v stringr 1.4.0  \n",
      "v readr   1.3.1       v forcats 0.4.0  \n",
      "-- Conflicts ------------------------------------------ tidyverse_conflicts() --\n",
      "x dplyr::filter() masks stats::filter()\n",
      "x dplyr::lag()    masks stats::lag()\n"
     ]
    }
   ],
   "source": [
    "library('tidyverse')"
   ]
  },
  {
   "cell_type": "code",
   "execution_count": 10,
   "id": "ec3b868d",
   "metadata": {},
   "outputs": [
    {
     "data": {
      "text/html": [
       "<table>\n",
       "<thead><tr><th scope=col>ad_id</th><th scope=col>ad_name</th><th scope=col>long_version_video_id</th><th scope=col>short_version_video_id</th></tr></thead>\n",
       "<tbody>\n",
       "\t<tr><td>0                     </td><td>chats-conditionate    </td><td> 392                  </td><td> 243                  </td></tr>\n",
       "\t<tr><td>1                     </td><td>isomerizing-louma     </td><td>1455                  </td><td>1694                  </td></tr>\n",
       "\t<tr><td>2                     </td><td>tipcat-preorder       </td><td> 853                  </td><td> 306                  </td></tr>\n",
       "\t<tr><td>3                     </td><td>incipient-mumpishly   </td><td> 893                  </td><td> 211                  </td></tr>\n",
       "\t<tr><td>4                     </td><td>xylorimbas-drosophilas</td><td> 753                  </td><td> 126                  </td></tr>\n",
       "\t<tr><td>5                     </td><td>disloyalties-modulates</td><td>  27                  </td><td> 836                  </td></tr>\n",
       "</tbody>\n",
       "</table>\n"
      ],
      "text/latex": [
       "\\begin{tabular}{r|llll}\n",
       " ad\\_id & ad\\_name & long\\_version\\_video\\_id & short\\_version\\_video\\_id\\\\\n",
       "\\hline\n",
       "\t 0                      & chats-conditionate     &  392                   &  243                  \\\\\n",
       "\t 1                      & isomerizing-louma      & 1455                   & 1694                  \\\\\n",
       "\t 2                      & tipcat-preorder        &  853                   &  306                  \\\\\n",
       "\t 3                      & incipient-mumpishly    &  893                   &  211                  \\\\\n",
       "\t 4                      & xylorimbas-drosophilas &  753                   &  126                  \\\\\n",
       "\t 5                      & disloyalties-modulates &   27                   &  836                  \\\\\n",
       "\\end{tabular}\n"
      ],
      "text/markdown": [
       "\n",
       "| ad_id | ad_name | long_version_video_id | short_version_video_id |\n",
       "|---|---|---|---|\n",
       "| 0                      | chats-conditionate     |  392                   |  243                   |\n",
       "| 1                      | isomerizing-louma      | 1455                   | 1694                   |\n",
       "| 2                      | tipcat-preorder        |  853                   |  306                   |\n",
       "| 3                      | incipient-mumpishly    |  893                   |  211                   |\n",
       "| 4                      | xylorimbas-drosophilas |  753                   |  126                   |\n",
       "| 5                      | disloyalties-modulates |   27                   |  836                   |\n",
       "\n"
      ],
      "text/plain": [
       "  ad_id ad_name                long_version_video_id short_version_video_id\n",
       "1 0     chats-conditionate      392                   243                  \n",
       "2 1     isomerizing-louma      1455                  1694                  \n",
       "3 2     tipcat-preorder         853                   306                  \n",
       "4 3     incipient-mumpishly     893                   211                  \n",
       "5 4     xylorimbas-drosophilas  753                   126                  \n",
       "6 5     disloyalties-modulates   27                   836                  "
      ]
     },
     "metadata": {},
     "output_type": "display_data"
    }
   ],
   "source": [
    "ads<-read.csv(file.choose(),header=T)\n",
    "\n",
    "head(ads)"
   ]
  },
  {
   "cell_type": "code",
   "execution_count": 29,
   "id": "4fd60bac",
   "metadata": {},
   "outputs": [
    {
     "data": {
      "text/html": [
       "<table>\n",
       "<thead><tr><th scope=col>ad_id</th><th scope=col>ad_name</th><th scope=col>long_version_video_id</th><th scope=col>short_version_video_id</th></tr></thead>\n",
       "<tbody>\n",
       "\t<tr><td>654                       </td><td>begorra-hobdayed          </td><td>1899                      </td><td>1999                      </td></tr>\n",
       "\t<tr><td>476                       </td><td>shells-romanizing         </td><td> 351                      </td><td>1995                      </td></tr>\n",
       "\t<tr><td>483                       </td><td>panzerotto-frangipanni    </td><td>1894                      </td><td>1992                      </td></tr>\n",
       "\t<tr><td>571                       </td><td>labiates-comsymp          </td><td>1701                      </td><td>1991                      </td></tr>\n",
       "\t<tr><td>191                       </td><td>relieved-utilitarianized  </td><td>1053                      </td><td>1989                      </td></tr>\n",
       "\t<tr><td>776                       </td><td>sulfureted-polymorphically</td><td> 991                      </td><td>1983                      </td></tr>\n",
       "</tbody>\n",
       "</table>\n"
      ],
      "text/latex": [
       "\\begin{tabular}{r|llll}\n",
       " ad\\_id & ad\\_name & long\\_version\\_video\\_id & short\\_version\\_video\\_id\\\\\n",
       "\\hline\n",
       "\t 654                        & begorra-hobdayed           & 1899                       & 1999                      \\\\\n",
       "\t 476                        & shells-romanizing          &  351                       & 1995                      \\\\\n",
       "\t 483                        & panzerotto-frangipanni     & 1894                       & 1992                      \\\\\n",
       "\t 571                        & labiates-comsymp           & 1701                       & 1991                      \\\\\n",
       "\t 191                        & relieved-utilitarianized   & 1053                       & 1989                      \\\\\n",
       "\t 776                        & sulfureted-polymorphically &  991                       & 1983                      \\\\\n",
       "\\end{tabular}\n"
      ],
      "text/markdown": [
       "\n",
       "| ad_id | ad_name | long_version_video_id | short_version_video_id |\n",
       "|---|---|---|---|\n",
       "| 654                        | begorra-hobdayed           | 1899                       | 1999                       |\n",
       "| 476                        | shells-romanizing          |  351                       | 1995                       |\n",
       "| 483                        | panzerotto-frangipanni     | 1894                       | 1992                       |\n",
       "| 571                        | labiates-comsymp           | 1701                       | 1991                       |\n",
       "| 191                        | relieved-utilitarianized   | 1053                       | 1989                       |\n",
       "| 776                        | sulfureted-polymorphically |  991                       | 1983                       |\n",
       "\n"
      ],
      "text/plain": [
       "  ad_id ad_name                    long_version_video_id short_version_video_id\n",
       "1 654   begorra-hobdayed           1899                  1999                  \n",
       "2 476   shells-romanizing           351                  1995                  \n",
       "3 483   panzerotto-frangipanni     1894                  1992                  \n",
       "4 571   labiates-comsymp           1701                  1991                  \n",
       "5 191   relieved-utilitarianized   1053                  1989                  \n",
       "6 776   sulfureted-polymorphically  991                  1983                  "
      ]
     },
     "metadata": {},
     "output_type": "display_data"
    }
   ],
   "source": [
    "a<-ads %>% \n",
    "arrange(desc(short_version_video_id))\n",
    "\n",
    "head(a)"
   ]
  },
  {
   "cell_type": "code",
   "execution_count": 28,
   "id": "0616cd51",
   "metadata": {},
   "outputs": [
    {
     "data": {
      "text/html": [
       "<table>\n",
       "<thead><tr><th scope=col>ad_id</th><th scope=col>ad_name</th><th scope=col>long_version_video_id</th><th scope=col>short_version_video_id</th></tr></thead>\n",
       "<tbody>\n",
       "\t<tr><td>147                  </td><td>saliences-experiencer</td><td>807                  </td><td>0                    </td></tr>\n",
       "</tbody>\n",
       "</table>\n"
      ],
      "text/latex": [
       "\\begin{tabular}{r|llll}\n",
       " ad\\_id & ad\\_name & long\\_version\\_video\\_id & short\\_version\\_video\\_id\\\\\n",
       "\\hline\n",
       "\t 147                   & saliences-experiencer & 807                   & 0                    \\\\\n",
       "\\end{tabular}\n"
      ],
      "text/markdown": [
       "\n",
       "| ad_id | ad_name | long_version_video_id | short_version_video_id |\n",
       "|---|---|---|---|\n",
       "| 147                   | saliences-experiencer | 807                   | 0                     |\n",
       "\n"
      ],
      "text/plain": [
       "  ad_id ad_name               long_version_video_id short_version_video_id\n",
       "1 147   saliences-experiencer 807                   0                     "
      ]
     },
     "metadata": {},
     "output_type": "display_data"
    }
   ],
   "source": [
    "top_n(ads,-1,short_version_video_id)   #ad with the shortest video"
   ]
  },
  {
   "cell_type": "code",
   "execution_count": 48,
   "id": "6a1f7928",
   "metadata": {},
   "outputs": [
    {
     "data": {
      "text/html": [
       "<table>\n",
       "<thead><tr><th scope=col>ad_id</th><th scope=col>ad_name</th><th scope=col>long_version_video_id</th><th scope=col>short_version_video_id</th></tr></thead>\n",
       "<tbody>\n",
       "\t<tr><td>643              </td><td>savoyards-hognuts</td><td>1998             </td><td>777              </td></tr>\n",
       "</tbody>\n",
       "</table>\n"
      ],
      "text/latex": [
       "\\begin{tabular}{r|llll}\n",
       " ad\\_id & ad\\_name & long\\_version\\_video\\_id & short\\_version\\_video\\_id\\\\\n",
       "\\hline\n",
       "\t 643               & savoyards-hognuts & 1998              & 777              \\\\\n",
       "\\end{tabular}\n"
      ],
      "text/markdown": [
       "\n",
       "| ad_id | ad_name | long_version_video_id | short_version_video_id |\n",
       "|---|---|---|---|\n",
       "| 643               | savoyards-hognuts | 1998              | 777               |\n",
       "\n"
      ],
      "text/plain": [
       "  ad_id ad_name           long_version_video_id short_version_video_id\n",
       "1 643   savoyards-hognuts 1998                  777                   "
      ]
     },
     "metadata": {},
     "output_type": "display_data"
    }
   ],
   "source": [
    "top_n(ads,1,long_version_video_id)  #ad with the longest video"
   ]
  },
  {
   "cell_type": "code",
   "execution_count": 11,
   "id": "0b8e1f4f",
   "metadata": {},
   "outputs": [
    {
     "data": {
      "text/html": [
       "<table>\n",
       "<thead><tr><th scope=col>platform_id</th><th scope=col>video_id</th><th scope=col>watch_count</th><th scope=col>total_time_watched</th><th scope=col>price_per_watch</th></tr></thead>\n",
       "<tbody>\n",
       "\t<tr><td>160    </td><td>1606   </td><td>  1999 </td><td>  27986</td><td>0.32   </td></tr>\n",
       "\t<tr><td>159    </td><td> 642   </td><td>  1507 </td><td>  45210</td><td>0.43   </td></tr>\n",
       "\t<tr><td> 22    </td><td> 400   </td><td> 43705 </td><td>1748200</td><td>0.10   </td></tr>\n",
       "\t<tr><td>156    </td><td>1143   </td><td>186402 </td><td>4660050</td><td>0.14   </td></tr>\n",
       "\t<tr><td>159    </td><td>1840   </td><td>  1509 </td><td>  39234</td><td>0.12   </td></tr>\n",
       "\t<tr><td>158    </td><td>1755   </td><td>  1502 </td><td>  16522</td><td>0.33   </td></tr>\n",
       "</tbody>\n",
       "</table>\n"
      ],
      "text/latex": [
       "\\begin{tabular}{r|lllll}\n",
       " platform\\_id & video\\_id & watch\\_count & total\\_time\\_watched & price\\_per\\_watch\\\\\n",
       "\\hline\n",
       "\t 160     & 1606    &   1999  &   27986 & 0.32   \\\\\n",
       "\t 159     &  642    &   1507  &   45210 & 0.43   \\\\\n",
       "\t  22     &  400    &  43705  & 1748200 & 0.10   \\\\\n",
       "\t 156     & 1143    & 186402  & 4660050 & 0.14   \\\\\n",
       "\t 159     & 1840    &   1509  &   39234 & 0.12   \\\\\n",
       "\t 158     & 1755    &   1502  &   16522 & 0.33   \\\\\n",
       "\\end{tabular}\n"
      ],
      "text/markdown": [
       "\n",
       "| platform_id | video_id | watch_count | total_time_watched | price_per_watch |\n",
       "|---|---|---|---|---|\n",
       "| 160     | 1606    |   1999  |   27986 | 0.32    |\n",
       "| 159     |  642    |   1507  |   45210 | 0.43    |\n",
       "|  22     |  400    |  43705  | 1748200 | 0.10    |\n",
       "| 156     | 1143    | 186402  | 4660050 | 0.14    |\n",
       "| 159     | 1840    |   1509  |   39234 | 0.12    |\n",
       "| 158     | 1755    |   1502  |   16522 | 0.33    |\n",
       "\n"
      ],
      "text/plain": [
       "  platform_id video_id watch_count total_time_watched price_per_watch\n",
       "1 160         1606       1999        27986            0.32           \n",
       "2 159          642       1507        45210            0.43           \n",
       "3  22          400      43705      1748200            0.10           \n",
       "4 156         1143     186402      4660050            0.14           \n",
       "5 159         1840       1509        39234            0.12           \n",
       "6 158         1755       1502        16522            0.33           "
      ]
     },
     "metadata": {},
     "output_type": "display_data"
    }
   ],
   "source": [
    "ads_stats<-read.csv(file.choose(),header=T)\n",
    "\n",
    "head(ads_stats)"
   ]
  },
  {
   "cell_type": "code",
   "execution_count": 60,
   "id": "eeb4c1d9",
   "metadata": {},
   "outputs": [
    {
     "data": {
      "text/html": [
       "<table>\n",
       "<thead><tr><th scope=col>platform_id</th><th scope=col>video_id</th><th scope=col>watch_count</th><th scope=col>total_time_watched</th><th scope=col>price_per_watch</th><th scope=col>price</th></tr></thead>\n",
       "<tbody>\n",
       "\t<tr><td> 11     </td><td>1997    </td><td>995892  </td><td>55769952</td><td>0.50    </td><td>497946.0</td></tr>\n",
       "\t<tr><td> 24     </td><td>1996    </td><td>993691  </td><td>34779185</td><td>0.50    </td><td>496845.5</td></tr>\n",
       "\t<tr><td>109     </td><td> 706    </td><td>967023  </td><td>44483058</td><td>0.50    </td><td>483511.5</td></tr>\n",
       "\t<tr><td> 59     </td><td>1307    </td><td>972781  </td><td> 9727810</td><td>0.49    </td><td>476662.7</td></tr>\n",
       "\t<tr><td>106     </td><td>1965    </td><td>990917  </td><td>16845589</td><td>0.48    </td><td>475640.2</td></tr>\n",
       "\t<tr><td>105     </td><td> 961    </td><td>950211  </td><td>54162027</td><td>0.50    </td><td>475105.5</td></tr>\n",
       "</tbody>\n",
       "</table>\n"
      ],
      "text/latex": [
       "\\begin{tabular}{r|llllll}\n",
       " platform\\_id & video\\_id & watch\\_count & total\\_time\\_watched & price\\_per\\_watch & price\\\\\n",
       "\\hline\n",
       "\t  11      & 1997     & 995892   & 55769952 & 0.50     & 497946.0\\\\\n",
       "\t  24      & 1996     & 993691   & 34779185 & 0.50     & 496845.5\\\\\n",
       "\t 109      &  706     & 967023   & 44483058 & 0.50     & 483511.5\\\\\n",
       "\t  59      & 1307     & 972781   &  9727810 & 0.49     & 476662.7\\\\\n",
       "\t 106      & 1965     & 990917   & 16845589 & 0.48     & 475640.2\\\\\n",
       "\t 105      &  961     & 950211   & 54162027 & 0.50     & 475105.5\\\\\n",
       "\\end{tabular}\n"
      ],
      "text/markdown": [
       "\n",
       "| platform_id | video_id | watch_count | total_time_watched | price_per_watch | price |\n",
       "|---|---|---|---|---|---|\n",
       "|  11      | 1997     | 995892   | 55769952 | 0.50     | 497946.0 |\n",
       "|  24      | 1996     | 993691   | 34779185 | 0.50     | 496845.5 |\n",
       "| 109      |  706     | 967023   | 44483058 | 0.50     | 483511.5 |\n",
       "|  59      | 1307     | 972781   |  9727810 | 0.49     | 476662.7 |\n",
       "| 106      | 1965     | 990917   | 16845589 | 0.48     | 475640.2 |\n",
       "| 105      |  961     | 950211   | 54162027 | 0.50     | 475105.5 |\n",
       "\n"
      ],
      "text/plain": [
       "  platform_id video_id watch_count total_time_watched price_per_watch price   \n",
       "1  11         1997     995892      55769952           0.50            497946.0\n",
       "2  24         1996     993691      34779185           0.50            496845.5\n",
       "3 109          706     967023      44483058           0.50            483511.5\n",
       "4  59         1307     972781       9727810           0.49            476662.7\n",
       "5 106         1965     990917      16845589           0.48            475640.2\n",
       "6 105          961     950211      54162027           0.50            475105.5"
      ]
     },
     "metadata": {},
     "output_type": "display_data"
    }
   ],
   "source": [
    "a<-ads_stats %>% #calculate the price of each advertisement\n",
    "mutate(price= price_per_watch*watch_count) %>%\n",
    "arrange(desc(price))  #order by price\n",
    "\n",
    "head(a)"
   ]
  },
  {
   "cell_type": "code",
   "execution_count": 79,
   "id": "d33cbf62",
   "metadata": {},
   "outputs": [
    {
     "data": {
      "text/html": [
       "<table>\n",
       "<thead><tr><th scope=col>platform_id</th><th scope=col>video_id</th><th scope=col>watch_count</th><th scope=col>total_time_watched</th><th scope=col>price_per_watch</th><th scope=col>price</th></tr></thead>\n",
       "<tbody>\n",
       "\t<tr><td> 11     </td><td>1997    </td><td>995892  </td><td>55769952</td><td>0.50    </td><td>497946.0</td></tr>\n",
       "\t<tr><td> 24     </td><td>1996    </td><td>993691  </td><td>34779185</td><td>0.50    </td><td>496845.5</td></tr>\n",
       "\t<tr><td>109     </td><td> 706    </td><td>967023  </td><td>44483058</td><td>0.50    </td><td>483511.5</td></tr>\n",
       "\t<tr><td>105     </td><td> 961    </td><td>950211  </td><td>54162027</td><td>0.50    </td><td>475105.5</td></tr>\n",
       "\t<tr><td> 51     </td><td> 538    </td><td>964333  </td><td>56895647</td><td>0.49    </td><td>472523.2</td></tr>\n",
       "</tbody>\n",
       "</table>\n"
      ],
      "text/latex": [
       "\\begin{tabular}{r|llllll}\n",
       " platform\\_id & video\\_id & watch\\_count & total\\_time\\_watched & price\\_per\\_watch & price\\\\\n",
       "\\hline\n",
       "\t  11      & 1997     & 995892   & 55769952 & 0.50     & 497946.0\\\\\n",
       "\t  24      & 1996     & 993691   & 34779185 & 0.50     & 496845.5\\\\\n",
       "\t 109      &  706     & 967023   & 44483058 & 0.50     & 483511.5\\\\\n",
       "\t 105      &  961     & 950211   & 54162027 & 0.50     & 475105.5\\\\\n",
       "\t  51      &  538     & 964333   & 56895647 & 0.49     & 472523.2\\\\\n",
       "\\end{tabular}\n"
      ],
      "text/markdown": [
       "\n",
       "| platform_id | video_id | watch_count | total_time_watched | price_per_watch | price |\n",
       "|---|---|---|---|---|---|\n",
       "|  11      | 1997     | 995892   | 55769952 | 0.50     | 497946.0 |\n",
       "|  24      | 1996     | 993691   | 34779185 | 0.50     | 496845.5 |\n",
       "| 109      |  706     | 967023   | 44483058 | 0.50     | 483511.5 |\n",
       "| 105      |  961     | 950211   | 54162027 | 0.50     | 475105.5 |\n",
       "|  51      |  538     | 964333   | 56895647 | 0.49     | 472523.2 |\n",
       "\n"
      ],
      "text/plain": [
       "  platform_id video_id watch_count total_time_watched price_per_watch price   \n",
       "1  11         1997     995892      55769952           0.50            497946.0\n",
       "2  24         1996     993691      34779185           0.50            496845.5\n",
       "3 109          706     967023      44483058           0.50            483511.5\n",
       "4 105          961     950211      54162027           0.50            475105.5\n",
       "5  51          538     964333      56895647           0.49            472523.2"
      ]
     },
     "metadata": {},
     "output_type": "display_data"
    }
   ],
   "source": [
    "ads_stats %>% \n",
    "filter(watch_count> mean(watch_count)) %>%    \n",
    "filter(total_time_watched>mean(total_time_watched)) %>% \n",
    "mutate(price=price_per_watch*watch_count) %>% \n",
    "arrange(desc(price)) %>% \n",
    "slice(1:5)\n",
    "\n"
   ]
  },
  {
   "cell_type": "code",
   "execution_count": 12,
   "id": "2195cfaa",
   "metadata": {},
   "outputs": [
    {
     "data": {
      "text/html": [
       "<table>\n",
       "<thead><tr><th scope=col>platform_id</th><th scope=col>contact_mail</th><th scope=col>website</th></tr></thead>\n",
       "<tbody>\n",
       "\t<tr><td> 3                    </td><td>caronni@comcast.net   </td><td>facebook.com          </td></tr>\n",
       "\t<tr><td>11                    </td><td>null                  </td><td>usgs.gov              </td></tr>\n",
       "\t<tr><td>24                    </td><td>mschilli@optonline.net</td><td>null                  </td></tr>\n",
       "\t<tr><td> 0                    </td><td>kmiller@yahoo.com     </td><td>null                  </td></tr>\n",
       "\t<tr><td> 4                    </td><td>ninenine@me.com       </td><td>nymag.com             </td></tr>\n",
       "\t<tr><td> 5                    </td><td>animats@yahoo.com     </td><td>bravesites.com        </td></tr>\n",
       "</tbody>\n",
       "</table>\n"
      ],
      "text/latex": [
       "\\begin{tabular}{r|lll}\n",
       " platform\\_id & contact\\_mail & website\\\\\n",
       "\\hline\n",
       "\t  3                     & caronni@comcast.net    & facebook.com          \\\\\n",
       "\t 11                     & null                   & usgs.gov              \\\\\n",
       "\t 24                     & mschilli@optonline.net & null                  \\\\\n",
       "\t  0                     & kmiller@yahoo.com      & null                  \\\\\n",
       "\t  4                     & ninenine@me.com        & nymag.com             \\\\\n",
       "\t  5                     & animats@yahoo.com      & bravesites.com        \\\\\n",
       "\\end{tabular}\n"
      ],
      "text/markdown": [
       "\n",
       "| platform_id | contact_mail | website |\n",
       "|---|---|---|\n",
       "|  3                     | caronni@comcast.net    | facebook.com           |\n",
       "| 11                     | null                   | usgs.gov               |\n",
       "| 24                     | mschilli@optonline.net | null                   |\n",
       "|  0                     | kmiller@yahoo.com      | null                   |\n",
       "|  4                     | ninenine@me.com        | nymag.com              |\n",
       "|  5                     | animats@yahoo.com      | bravesites.com         |\n",
       "\n"
      ],
      "text/plain": [
       "  platform_id contact_mail           website       \n",
       "1  3          caronni@comcast.net    facebook.com  \n",
       "2 11          null                   usgs.gov      \n",
       "3 24          mschilli@optonline.net null          \n",
       "4  0          kmiller@yahoo.com      null          \n",
       "5  4          ninenine@me.com        nymag.com     \n",
       "6  5          animats@yahoo.com      bravesites.com"
      ]
     },
     "metadata": {},
     "output_type": "display_data"
    }
   ],
   "source": [
    "platform<-read.csv(file.choose(),header=T)\n",
    "\n",
    "head(platform)"
   ]
  },
  {
   "cell_type": "code",
   "execution_count": 100,
   "id": "57d94100",
   "metadata": {},
   "outputs": [
    {
     "data": {
      "text/html": [
       "<table>\n",
       "<thead><tr><th scope=col>website</th><th scope=col>web</th></tr></thead>\n",
       "<tbody>\n",
       "\t<tr><td>null           </td><td>25             </td></tr>\n",
       "\t<tr><td>about.me       </td><td> 3             </td></tr>\n",
       "\t<tr><td>sourceforge.net</td><td> 3             </td></tr>\n",
       "\t<tr><td>spiegel.de     </td><td> 3             </td></tr>\n",
       "\t<tr><td>wired.com      </td><td> 3             </td></tr>\n",
       "</tbody>\n",
       "</table>\n"
      ],
      "text/latex": [
       "\\begin{tabular}{r|ll}\n",
       " website & web\\\\\n",
       "\\hline\n",
       "\t null            & 25             \\\\\n",
       "\t about.me        &  3             \\\\\n",
       "\t sourceforge.net &  3             \\\\\n",
       "\t spiegel.de      &  3             \\\\\n",
       "\t wired.com       &  3             \\\\\n",
       "\\end{tabular}\n"
      ],
      "text/markdown": [
       "\n",
       "| website | web |\n",
       "|---|---|\n",
       "| null            | 25              |\n",
       "| about.me        |  3              |\n",
       "| sourceforge.net |  3              |\n",
       "| spiegel.de      |  3              |\n",
       "| wired.com       |  3              |\n",
       "\n"
      ],
      "text/plain": [
       "  website         web\n",
       "1 null            25 \n",
       "2 about.me         3 \n",
       "3 sourceforge.net  3 \n",
       "4 spiegel.de       3 \n",
       "5 wired.com        3 "
      ]
     },
     "metadata": {},
     "output_type": "display_data"
    }
   ],
   "source": [
    "platform %>%   #website count\n",
    "group_by(website) %>% \n",
    "summarise(web = n()) %>% \n",
    "arrange(desc(web)) %>% \n",
    "slice(1:5)"
   ]
  },
  {
   "cell_type": "code",
   "execution_count": 82,
   "id": "3c7a49b0",
   "metadata": {},
   "outputs": [
    {
     "data": {
      "text/html": [
       "<table>\n",
       "<thead><tr><th scope=col>platform_id</th><th scope=col>contact_mail</th><th scope=col>website</th></tr></thead>\n",
       "<tbody>\n",
       "\t<tr><td> 3                  </td><td>caronni@comcast.net </td><td>facebook.com        </td></tr>\n",
       "\t<tr><td>74                  </td><td>roesch@sbcglobal.net</td><td>facebook.com        </td></tr>\n",
       "</tbody>\n",
       "</table>\n"
      ],
      "text/latex": [
       "\\begin{tabular}{r|lll}\n",
       " platform\\_id & contact\\_mail & website\\\\\n",
       "\\hline\n",
       "\t  3                   & caronni@comcast.net  & facebook.com        \\\\\n",
       "\t 74                   & roesch@sbcglobal.net & facebook.com        \\\\\n",
       "\\end{tabular}\n"
      ],
      "text/markdown": [
       "\n",
       "| platform_id | contact_mail | website |\n",
       "|---|---|---|\n",
       "|  3                   | caronni@comcast.net  | facebook.com         |\n",
       "| 74                   | roesch@sbcglobal.net | facebook.com         |\n",
       "\n"
      ],
      "text/plain": [
       "  platform_id contact_mail         website     \n",
       "1  3          caronni@comcast.net  facebook.com\n",
       "2 74          roesch@sbcglobal.net facebook.com"
      ]
     },
     "metadata": {},
     "output_type": "display_data"
    }
   ],
   "source": [
    "platform %>%    #contacts where website is facebook.com\n",
    "filter(website==\"facebook.com\")"
   ]
  },
  {
   "cell_type": "code",
   "execution_count": 40,
   "id": "61de1d5b",
   "metadata": {},
   "outputs": [
    {
     "data": {
      "text/html": [
       "<table>\n",
       "<thead><tr><th scope=col>platform_id</th><th scope=col>contact_mail</th><th scope=col>website</th></tr></thead>\n",
       "<tbody>\n",
       "\t<tr><td>160 </td><td>null</td><td>null</td></tr>\n",
       "</tbody>\n",
       "</table>\n"
      ],
      "text/latex": [
       "\\begin{tabular}{r|lll}\n",
       " platform\\_id & contact\\_mail & website\\\\\n",
       "\\hline\n",
       "\t 160  & null & null\\\\\n",
       "\\end{tabular}\n"
      ],
      "text/markdown": [
       "\n",
       "| platform_id | contact_mail | website |\n",
       "|---|---|---|\n",
       "| 160  | null | null |\n",
       "\n"
      ],
      "text/plain": [
       "  platform_id contact_mail website\n",
       "1 160         null         null   "
      ]
     },
     "metadata": {},
     "output_type": "display_data"
    }
   ],
   "source": [
    "platform %>% \n",
    "filter(website== \"null\") %>% \n",
    "filter(contact_mail==\"null\")"
   ]
  },
  {
   "cell_type": "code",
   "execution_count": 47,
   "id": "f746b53a",
   "metadata": {},
   "outputs": [
    {
     "data": {
      "text/html": [
       "<table>\n",
       "<thead><tr><th scope=col>count</th></tr></thead>\n",
       "<tbody>\n",
       "\t<tr><td>135</td></tr>\n",
       "</tbody>\n",
       "</table>\n"
      ],
      "text/latex": [
       "\\begin{tabular}{r|l}\n",
       " count\\\\\n",
       "\\hline\n",
       "\t 135\\\\\n",
       "\\end{tabular}\n"
      ],
      "text/markdown": [
       "\n",
       "| count |\n",
       "|---|\n",
       "| 135 |\n",
       "\n"
      ],
      "text/plain": [
       "  count\n",
       "1 135  "
      ]
     },
     "metadata": {},
     "output_type": "display_data"
    }
   ],
   "source": [
    "platform %>% \n",
    "filter(website!= \"null\") %>% \n",
    "filter(contact_mail!=\"null\") %>% \n",
    "summarise(count=n())"
   ]
  },
  {
   "cell_type": "code",
   "execution_count": 45,
   "id": "8bd1395b",
   "metadata": {},
   "outputs": [
    {
     "data": {
      "text/html": [
       "<table>\n",
       "<thead><tr><th scope=col>contact_mail</th><th scope=col>count</th></tr></thead>\n",
       "<tbody>\n",
       "\t<tr><td>null</td><td>21  </td></tr>\n",
       "</tbody>\n",
       "</table>\n"
      ],
      "text/latex": [
       "\\begin{tabular}{r|ll}\n",
       " contact\\_mail & count\\\\\n",
       "\\hline\n",
       "\t null & 21  \\\\\n",
       "\\end{tabular}\n"
      ],
      "text/markdown": [
       "\n",
       "| contact_mail | count |\n",
       "|---|---|\n",
       "| null | 21   |\n",
       "\n"
      ],
      "text/plain": [
       "  contact_mail count\n",
       "1 null         21   "
      ]
     },
     "metadata": {},
     "output_type": "display_data"
    }
   ],
   "source": [
    "platform %>% \n",
    "group_by(contact_mail) %>% \n",
    "filter(contact_mail==\"null\") %>% \n",
    "summarise(count=n())"
   ]
  },
  {
   "cell_type": "code",
   "execution_count": 13,
   "id": "74cf742f",
   "metadata": {},
   "outputs": [
    {
     "data": {
      "text/html": [
       "<table>\n",
       "<thead><tr><th scope=col>video_id</th><th scope=col>path</th><th scope=col>duration</th></tr></thead>\n",
       "<tbody>\n",
       "\t<tr><td>2000                                         </td><td>/root/bucket5/halfwitted-steganographs.mp4   </td><td>59                                           </td></tr>\n",
       "\t<tr><td>2001                                         </td><td>/root/bucket2/plottier-tortoises.mp4         </td><td>54                                           </td></tr>\n",
       "\t<tr><td>2002                                         </td><td>/root/bucket1/optic-buzzbaits.mp4            </td><td>53                                           </td></tr>\n",
       "\t<tr><td>2003                                         </td><td>/root/bucket2/reinvestment-changa.mp4        </td><td>35                                           </td></tr>\n",
       "\t<tr><td>2004                                         </td><td>/videos/2020-02-02/avizandums-gratulatory.mp4</td><td>40                                           </td></tr>\n",
       "\t<tr><td>2005                                         </td><td>/root/bucket2/carboxylases-faint.mp4         </td><td>54                                           </td></tr>\n",
       "</tbody>\n",
       "</table>\n"
      ],
      "text/latex": [
       "\\begin{tabular}{r|lll}\n",
       " video\\_id & path & duration\\\\\n",
       "\\hline\n",
       "\t 2000                                          & /root/bucket5/halfwitted-steganographs.mp4    & 59                                           \\\\\n",
       "\t 2001                                          & /root/bucket2/plottier-tortoises.mp4          & 54                                           \\\\\n",
       "\t 2002                                          & /root/bucket1/optic-buzzbaits.mp4             & 53                                           \\\\\n",
       "\t 2003                                          & /root/bucket2/reinvestment-changa.mp4         & 35                                           \\\\\n",
       "\t 2004                                          & /videos/2020-02-02/avizandums-gratulatory.mp4 & 40                                           \\\\\n",
       "\t 2005                                          & /root/bucket2/carboxylases-faint.mp4          & 54                                           \\\\\n",
       "\\end{tabular}\n"
      ],
      "text/markdown": [
       "\n",
       "| video_id | path | duration |\n",
       "|---|---|---|\n",
       "| 2000                                          | /root/bucket5/halfwitted-steganographs.mp4    | 59                                            |\n",
       "| 2001                                          | /root/bucket2/plottier-tortoises.mp4          | 54                                            |\n",
       "| 2002                                          | /root/bucket1/optic-buzzbaits.mp4             | 53                                            |\n",
       "| 2003                                          | /root/bucket2/reinvestment-changa.mp4         | 35                                            |\n",
       "| 2004                                          | /videos/2020-02-02/avizandums-gratulatory.mp4 | 40                                            |\n",
       "| 2005                                          | /root/bucket2/carboxylases-faint.mp4          | 54                                            |\n",
       "\n"
      ],
      "text/plain": [
       "  video_id path                                          duration\n",
       "1 2000     /root/bucket5/halfwitted-steganographs.mp4    59      \n",
       "2 2001     /root/bucket2/plottier-tortoises.mp4          54      \n",
       "3 2002     /root/bucket1/optic-buzzbaits.mp4             53      \n",
       "4 2003     /root/bucket2/reinvestment-changa.mp4         35      \n",
       "5 2004     /videos/2020-02-02/avizandums-gratulatory.mp4 40      \n",
       "6 2005     /root/bucket2/carboxylases-faint.mp4          54      "
      ]
     },
     "metadata": {},
     "output_type": "display_data"
    }
   ],
   "source": [
    "videos<-read.csv(file.choose(),header=T)\n",
    "\n",
    "head(videos)"
   ]
  },
  {
   "cell_type": "code",
   "execution_count": 15,
   "id": "f2abedf5",
   "metadata": {},
   "outputs": [
    {
     "data": {
      "text/html": [
       "56"
      ],
      "text/latex": [
       "56"
      ],
      "text/markdown": [
       "56"
      ],
      "text/plain": [
       "[1] 56"
      ]
     },
     "metadata": {},
     "output_type": "display_data"
    }
   ],
   "source": [
    "nrow(distinct(videos,duration))"
   ]
  },
  {
   "cell_type": "markdown",
   "id": "7b84aac7",
   "metadata": {},
   "source": [
    "##Joins"
   ]
  },
  {
   "cell_type": "code",
   "execution_count": 109,
   "id": "921a5f63",
   "metadata": {},
   "outputs": [],
   "source": [
    "ad_stats_vid<- ads_stats %>% \n",
    "left_join(videos, by = \"video_id\")"
   ]
  },
  {
   "cell_type": "code",
   "execution_count": 110,
   "id": "467ecc0a",
   "metadata": {},
   "outputs": [
    {
     "data": {
      "text/html": [
       "<table>\n",
       "<thead><tr><th scope=col>platform_id</th><th scope=col>video_id</th><th scope=col>watch_count</th><th scope=col>total_time_watched</th><th scope=col>price_per_watch</th><th scope=col>path</th><th scope=col>duration</th></tr></thead>\n",
       "<tbody>\n",
       "\t<tr><td>160                                                 </td><td>1606                                                </td><td>  1999                                              </td><td>  27986                                             </td><td>0.32                                                </td><td>/videos/2020-02-03/momzer-eloigns-short.mp4         </td><td>14                                                  </td></tr>\n",
       "\t<tr><td>159                                                 </td><td> 642                                                </td><td>  1507                                              </td><td>  45210                                             </td><td>0.43                                                </td><td>/root/bucket4/beastly-clitella-long.mp4             </td><td>30                                                  </td></tr>\n",
       "\t<tr><td> 22                                                 </td><td> 400                                                </td><td> 43705                                              </td><td>1748200                                             </td><td>0.10                                                </td><td>/videos/2020-02-01/balletomania-falderaling-long.mp4</td><td>40                                                  </td></tr>\n",
       "\t<tr><td>156                                                 </td><td>1143                                                </td><td>186402                                              </td><td>4660050                                             </td><td>0.14                                                </td><td>/videos/2020-02-04/baron-anagrammatizing-long.mp4   </td><td>25                                                  </td></tr>\n",
       "\t<tr><td>159                                                 </td><td>1840                                                </td><td>  1509                                              </td><td>  39234                                             </td><td>0.12                                                </td><td>/videos/2020-02-02/dubitates-homologise-long.mp4    </td><td>26                                                  </td></tr>\n",
       "\t<tr><td>158                                                 </td><td>1755                                                </td><td>  1502                                              </td><td>  16522                                             </td><td>0.33                                                </td><td>/videos/2020-02-01/unequitable-seismometer-short.mp4</td><td>11                                                  </td></tr>\n",
       "</tbody>\n",
       "</table>\n"
      ],
      "text/latex": [
       "\\begin{tabular}{r|lllllll}\n",
       " platform\\_id & video\\_id & watch\\_count & total\\_time\\_watched & price\\_per\\_watch & path & duration\\\\\n",
       "\\hline\n",
       "\t 160                                                  & 1606                                                 &   1999                                               &   27986                                              & 0.32                                                 & /videos/2020-02-03/momzer-eloigns-short.mp4          & 14                                                  \\\\\n",
       "\t 159                                                  &  642                                                 &   1507                                               &   45210                                              & 0.43                                                 & /root/bucket4/beastly-clitella-long.mp4              & 30                                                  \\\\\n",
       "\t  22                                                  &  400                                                 &  43705                                               & 1748200                                              & 0.10                                                 & /videos/2020-02-01/balletomania-falderaling-long.mp4 & 40                                                  \\\\\n",
       "\t 156                                                  & 1143                                                 & 186402                                               & 4660050                                              & 0.14                                                 & /videos/2020-02-04/baron-anagrammatizing-long.mp4    & 25                                                  \\\\\n",
       "\t 159                                                  & 1840                                                 &   1509                                               &   39234                                              & 0.12                                                 & /videos/2020-02-02/dubitates-homologise-long.mp4     & 26                                                  \\\\\n",
       "\t 158                                                  & 1755                                                 &   1502                                               &   16522                                              & 0.33                                                 & /videos/2020-02-01/unequitable-seismometer-short.mp4 & 11                                                  \\\\\n",
       "\\end{tabular}\n"
      ],
      "text/markdown": [
       "\n",
       "| platform_id | video_id | watch_count | total_time_watched | price_per_watch | path | duration |\n",
       "|---|---|---|---|---|---|---|\n",
       "| 160                                                  | 1606                                                 |   1999                                               |   27986                                              | 0.32                                                 | /videos/2020-02-03/momzer-eloigns-short.mp4          | 14                                                   |\n",
       "| 159                                                  |  642                                                 |   1507                                               |   45210                                              | 0.43                                                 | /root/bucket4/beastly-clitella-long.mp4              | 30                                                   |\n",
       "|  22                                                  |  400                                                 |  43705                                               | 1748200                                              | 0.10                                                 | /videos/2020-02-01/balletomania-falderaling-long.mp4 | 40                                                   |\n",
       "| 156                                                  | 1143                                                 | 186402                                               | 4660050                                              | 0.14                                                 | /videos/2020-02-04/baron-anagrammatizing-long.mp4    | 25                                                   |\n",
       "| 159                                                  | 1840                                                 |   1509                                               |   39234                                              | 0.12                                                 | /videos/2020-02-02/dubitates-homologise-long.mp4     | 26                                                   |\n",
       "| 158                                                  | 1755                                                 |   1502                                               |   16522                                              | 0.33                                                 | /videos/2020-02-01/unequitable-seismometer-short.mp4 | 11                                                   |\n",
       "\n"
      ],
      "text/plain": [
       "  platform_id video_id watch_count total_time_watched price_per_watch\n",
       "1 160         1606       1999        27986            0.32           \n",
       "2 159          642       1507        45210            0.43           \n",
       "3  22          400      43705      1748200            0.10           \n",
       "4 156         1143     186402      4660050            0.14           \n",
       "5 159         1840       1509        39234            0.12           \n",
       "6 158         1755       1502        16522            0.33           \n",
       "  path                                                 duration\n",
       "1 /videos/2020-02-03/momzer-eloigns-short.mp4          14      \n",
       "2 /root/bucket4/beastly-clitella-long.mp4              30      \n",
       "3 /videos/2020-02-01/balletomania-falderaling-long.mp4 40      \n",
       "4 /videos/2020-02-04/baron-anagrammatizing-long.mp4    25      \n",
       "5 /videos/2020-02-02/dubitates-homologise-long.mp4     26      \n",
       "6 /videos/2020-02-01/unequitable-seismometer-short.mp4 11      "
      ]
     },
     "metadata": {},
     "output_type": "display_data"
    }
   ],
   "source": [
    "head(ad_stats_vid)"
   ]
  },
  {
   "cell_type": "code",
   "execution_count": 113,
   "id": "895d4aca",
   "metadata": {},
   "outputs": [],
   "source": [
    "ad_stats_vid_plat<- ad_stats_vid %>% \n",
    "right_join(platform, by = \"platform_id\")"
   ]
  },
  {
   "cell_type": "code",
   "execution_count": 115,
   "id": "dea7e5e3",
   "metadata": {},
   "outputs": [
    {
     "data": {
      "text/html": [
       "<table>\n",
       "<thead><tr><th scope=col>platform_id</th><th scope=col>video_id</th><th scope=col>watch_count</th><th scope=col>total_time_watched</th><th scope=col>price_per_watch</th><th scope=col>path</th><th scope=col>duration</th><th scope=col>contact_mail</th><th scope=col>website</th></tr></thead>\n",
       "<tbody>\n",
       "\t<tr><td>3                                                 </td><td> 807                                              </td><td>836214                                            </td><td>21741564                                          </td><td>0.48                                              </td><td>/root/bucket3/saliences-experiencer-long.mp4      </td><td>26                                                </td><td>caronni@comcast.net                               </td><td>facebook.com                                      </td></tr>\n",
       "\t<tr><td>3                                                 </td><td>1812                                              </td><td>186079                                            </td><td> 5954528                                          </td><td>0.17                                              </td><td>/root/bucket5/silphium-outsoars-long.mp4          </td><td>32                                                </td><td>caronni@comcast.net                               </td><td>facebook.com                                      </td></tr>\n",
       "\t<tr><td>3                                                 </td><td> 924                                              </td><td> 36348                                            </td><td>  508872                                          </td><td>0.27                                              </td><td>/videos/2020-02-01/incognitas-asepticise-short.mp4</td><td>14                                                </td><td>caronni@comcast.net                               </td><td>facebook.com                                      </td></tr>\n",
       "\t<tr><td>3                                                 </td><td>1632                                              </td><td>725060                                            </td><td>22476860                                          </td><td>0.14                                              </td><td>/root/bucket2/tumultuousness-vodcasters-long.mp4  </td><td>31                                                </td><td>caronni@comcast.net                               </td><td>facebook.com                                      </td></tr>\n",
       "\t<tr><td>3                                                 </td><td>1866                                              </td><td>761071                                            </td><td> 8371781                                          </td><td>0.29                                              </td><td>/root/bucket4/sparteries-merchantable-short.mp4   </td><td>11                                                </td><td>caronni@comcast.net                               </td><td>facebook.com                                      </td></tr>\n",
       "\t<tr><td>3                                                 </td><td> 620                                              </td><td>373150                                            </td><td>18284350                                          </td><td>0.42                                              </td><td>/root/bucket2/gasohols-enterectomy-long.mp4       </td><td>49                                                </td><td>caronni@comcast.net                               </td><td>facebook.com                                      </td></tr>\n",
       "</tbody>\n",
       "</table>\n"
      ],
      "text/latex": [
       "\\begin{tabular}{r|lllllllll}\n",
       " platform\\_id & video\\_id & watch\\_count & total\\_time\\_watched & price\\_per\\_watch & path & duration & contact\\_mail & website\\\\\n",
       "\\hline\n",
       "\t 3                                                  &  807                                               & 836214                                             & 21741564                                           & 0.48                                               & /root/bucket3/saliences-experiencer-long.mp4       & 26                                                 & caronni@comcast.net                                & facebook.com                                      \\\\\n",
       "\t 3                                                  & 1812                                               & 186079                                             &  5954528                                           & 0.17                                               & /root/bucket5/silphium-outsoars-long.mp4           & 32                                                 & caronni@comcast.net                                & facebook.com                                      \\\\\n",
       "\t 3                                                  &  924                                               &  36348                                             &   508872                                           & 0.27                                               & /videos/2020-02-01/incognitas-asepticise-short.mp4 & 14                                                 & caronni@comcast.net                                & facebook.com                                      \\\\\n",
       "\t 3                                                  & 1632                                               & 725060                                             & 22476860                                           & 0.14                                               & /root/bucket2/tumultuousness-vodcasters-long.mp4   & 31                                                 & caronni@comcast.net                                & facebook.com                                      \\\\\n",
       "\t 3                                                  & 1866                                               & 761071                                             &  8371781                                           & 0.29                                               & /root/bucket4/sparteries-merchantable-short.mp4    & 11                                                 & caronni@comcast.net                                & facebook.com                                      \\\\\n",
       "\t 3                                                  &  620                                               & 373150                                             & 18284350                                           & 0.42                                               & /root/bucket2/gasohols-enterectomy-long.mp4        & 49                                                 & caronni@comcast.net                                & facebook.com                                      \\\\\n",
       "\\end{tabular}\n"
      ],
      "text/markdown": [
       "\n",
       "| platform_id | video_id | watch_count | total_time_watched | price_per_watch | path | duration | contact_mail | website |\n",
       "|---|---|---|---|---|---|---|---|---|\n",
       "| 3                                                  |  807                                               | 836214                                             | 21741564                                           | 0.48                                               | /root/bucket3/saliences-experiencer-long.mp4       | 26                                                 | caronni@comcast.net                                | facebook.com                                       |\n",
       "| 3                                                  | 1812                                               | 186079                                             |  5954528                                           | 0.17                                               | /root/bucket5/silphium-outsoars-long.mp4           | 32                                                 | caronni@comcast.net                                | facebook.com                                       |\n",
       "| 3                                                  |  924                                               |  36348                                             |   508872                                           | 0.27                                               | /videos/2020-02-01/incognitas-asepticise-short.mp4 | 14                                                 | caronni@comcast.net                                | facebook.com                                       |\n",
       "| 3                                                  | 1632                                               | 725060                                             | 22476860                                           | 0.14                                               | /root/bucket2/tumultuousness-vodcasters-long.mp4   | 31                                                 | caronni@comcast.net                                | facebook.com                                       |\n",
       "| 3                                                  | 1866                                               | 761071                                             |  8371781                                           | 0.29                                               | /root/bucket4/sparteries-merchantable-short.mp4    | 11                                                 | caronni@comcast.net                                | facebook.com                                       |\n",
       "| 3                                                  |  620                                               | 373150                                             | 18284350                                           | 0.42                                               | /root/bucket2/gasohols-enterectomy-long.mp4        | 49                                                 | caronni@comcast.net                                | facebook.com                                       |\n",
       "\n"
      ],
      "text/plain": [
       "  platform_id video_id watch_count total_time_watched price_per_watch\n",
       "1 3            807     836214      21741564           0.48           \n",
       "2 3           1812     186079       5954528           0.17           \n",
       "3 3            924      36348        508872           0.27           \n",
       "4 3           1632     725060      22476860           0.14           \n",
       "5 3           1866     761071       8371781           0.29           \n",
       "6 3            620     373150      18284350           0.42           \n",
       "  path                                               duration\n",
       "1 /root/bucket3/saliences-experiencer-long.mp4       26      \n",
       "2 /root/bucket5/silphium-outsoars-long.mp4           32      \n",
       "3 /videos/2020-02-01/incognitas-asepticise-short.mp4 14      \n",
       "4 /root/bucket2/tumultuousness-vodcasters-long.mp4   31      \n",
       "5 /root/bucket4/sparteries-merchantable-short.mp4    11      \n",
       "6 /root/bucket2/gasohols-enterectomy-long.mp4        49      \n",
       "  contact_mail        website     \n",
       "1 caronni@comcast.net facebook.com\n",
       "2 caronni@comcast.net facebook.com\n",
       "3 caronni@comcast.net facebook.com\n",
       "4 caronni@comcast.net facebook.com\n",
       "5 caronni@comcast.net facebook.com\n",
       "6 caronni@comcast.net facebook.com"
      ]
     },
     "metadata": {},
     "output_type": "display_data"
    }
   ],
   "source": [
    "head(ad_stats_vid_plat)"
   ]
  },
  {
   "cell_type": "code",
   "execution_count": 169,
   "id": "22bbb802",
   "metadata": {},
   "outputs": [
    {
     "data": {
      "text/html": [
       "<table>\n",
       "<thead><tr><th scope=col>website</th><th scope=col>mean_web</th></tr></thead>\n",
       "<tbody>\n",
       "\t<tr><td>reference.com      </td><td>37.10811           </td></tr>\n",
       "\t<tr><td>paginegialle.it    </td><td>34.28571           </td></tr>\n",
       "\t<tr><td>miibeian.gov.cn    </td><td>34.24138           </td></tr>\n",
       "\t<tr><td>creativecommons.org</td><td>34.04000           </td></tr>\n",
       "\t<tr><td>smugmug.com        </td><td>33.55556           </td></tr>\n",
       "\t<tr><td>yolasite.com       </td><td>33.09375           </td></tr>\n",
       "\t<tr><td>google.ru          </td><td>33.00000           </td></tr>\n",
       "\t<tr><td>patch.com          </td><td>32.89655           </td></tr>\n",
       "\t<tr><td>msu.edu            </td><td>32.87097           </td></tr>\n",
       "\t<tr><td>newsvine.com       </td><td>32.77419           </td></tr>\n",
       "</tbody>\n",
       "</table>\n"
      ],
      "text/latex": [
       "\\begin{tabular}{r|ll}\n",
       " website & mean\\_web\\\\\n",
       "\\hline\n",
       "\t reference.com       & 37.10811           \\\\\n",
       "\t paginegialle.it     & 34.28571           \\\\\n",
       "\t miibeian.gov.cn     & 34.24138           \\\\\n",
       "\t creativecommons.org & 34.04000           \\\\\n",
       "\t smugmug.com         & 33.55556           \\\\\n",
       "\t yolasite.com        & 33.09375           \\\\\n",
       "\t google.ru           & 33.00000           \\\\\n",
       "\t patch.com           & 32.89655           \\\\\n",
       "\t msu.edu             & 32.87097           \\\\\n",
       "\t newsvine.com        & 32.77419           \\\\\n",
       "\\end{tabular}\n"
      ],
      "text/markdown": [
       "\n",
       "| website | mean_web |\n",
       "|---|---|\n",
       "| reference.com       | 37.10811            |\n",
       "| paginegialle.it     | 34.28571            |\n",
       "| miibeian.gov.cn     | 34.24138            |\n",
       "| creativecommons.org | 34.04000            |\n",
       "| smugmug.com         | 33.55556            |\n",
       "| yolasite.com        | 33.09375            |\n",
       "| google.ru           | 33.00000            |\n",
       "| patch.com           | 32.89655            |\n",
       "| msu.edu             | 32.87097            |\n",
       "| newsvine.com        | 32.77419            |\n",
       "\n"
      ],
      "text/plain": [
       "   website             mean_web\n",
       "1  reference.com       37.10811\n",
       "2  paginegialle.it     34.28571\n",
       "3  miibeian.gov.cn     34.24138\n",
       "4  creativecommons.org 34.04000\n",
       "5  smugmug.com         33.55556\n",
       "6  yolasite.com        33.09375\n",
       "7  google.ru           33.00000\n",
       "8  patch.com           32.89655\n",
       "9  msu.edu             32.87097\n",
       "10 newsvine.com        32.77419"
      ]
     },
     "metadata": {},
     "output_type": "display_data"
    }
   ],
   "source": [
    "#Which website had the highest streaming average \n",
    "\n",
    "ad_stats_vid_plat %>% \n",
    "group_by(website) %>% \n",
    "drop_na() %>% \n",
    "filter(website!=\"null\") %>% \n",
    "filter(contact_mail!=\"null\") %>% \n",
    "summarise(mean_web= mean(duration)) %>% \n",
    "arrange(desc(mean_web)) %>% \n",
    "slice(1:10)"
   ]
  },
  {
   "cell_type": "code",
   "execution_count": 117,
   "id": "dfcf5d17",
   "metadata": {},
   "outputs": [
    {
     "data": {
      "text/html": [
       "<table>\n",
       "<thead><tr><th scope=col>platform_id</th><th scope=col>video_id</th><th scope=col>watch_count</th><th scope=col>total_time_watched</th><th scope=col>price_per_watch</th><th scope=col>path</th><th scope=col>duration</th><th scope=col>contact_mail</th><th scope=col>website</th><th scope=col>price</th></tr></thead>\n",
       "<tbody>\n",
       "\t<tr><td>74                                                 </td><td> 622                                               </td><td>946335                                             </td><td>19873035                                           </td><td>0.45                                               </td><td>/media/eyeshadows-disentrail-short.mp4             </td><td>21                                                 </td><td>roesch@sbcglobal.net                               </td><td>facebook.com                                       </td><td>425850.8                                           </td></tr>\n",
       "\t<tr><td> 3                                                 </td><td> 564                                               </td><td>945614                                             </td><td>25531578                                           </td><td>0.45                                               </td><td>/root/bucket1/budgeter-intravenous-short.mp4       </td><td>27                                                 </td><td>caronni@comcast.net                                </td><td>facebook.com                                       </td><td>425526.3                                           </td></tr>\n",
       "\t<tr><td> 3                                                 </td><td> 625                                               </td><td>883692                                             </td><td>32696604                                           </td><td>0.48                                               </td><td>/root/bucket1/deflagrates-respot-long.mp4          </td><td>37                                                 </td><td>caronni@comcast.net                                </td><td>facebook.com                                       </td><td>424172.2                                           </td></tr>\n",
       "\t<tr><td> 3                                                 </td><td> 807                                               </td><td>836214                                             </td><td>21741564                                           </td><td>0.48                                               </td><td>/root/bucket3/saliences-experiencer-long.mp4       </td><td>26                                                 </td><td>caronni@comcast.net                                </td><td>facebook.com                                       </td><td>401382.7                                           </td></tr>\n",
       "\t<tr><td> 3                                                 </td><td>1905                                               </td><td>830175                                             </td><td> 7471575                                           </td><td>0.48                                               </td><td>/videos/2020-02-04/eukaryon-claim-short.mp4        </td><td> 9                                                 </td><td>caronni@comcast.net                                </td><td>facebook.com                                       </td><td>398484.0                                           </td></tr>\n",
       "\t<tr><td>74                                                 </td><td> 124                                               </td><td>853493                                             </td><td>27311776                                           </td><td>0.42                                               </td><td>/videos/2020-02-03/ignitibilities-agatized-long.mp4</td><td>32                                                 </td><td>roesch@sbcglobal.net                               </td><td>facebook.com                                       </td><td>358467.1                                           </td></tr>\n",
       "\t<tr><td> 3                                                 </td><td>1860                                               </td><td>812617                                             </td><td>13001872                                           </td><td>0.43                                               </td><td>/videos/2020-02-02/photomosaics-pigsconce-short.mp4</td><td>16                                                 </td><td>caronni@comcast.net                                </td><td>facebook.com                                       </td><td>349425.3                                           </td></tr>\n",
       "\t<tr><td> 3                                                 </td><td> 759                                               </td><td>704430                                             </td><td>41561370                                           </td><td>0.49                                               </td><td>/videos/2020-02-01/lollapalooza-unexploded-long.mp4</td><td>59                                                 </td><td>caronni@comcast.net                                </td><td>facebook.com                                       </td><td>345170.7                                           </td></tr>\n",
       "\t<tr><td> 3                                                 </td><td> 170                                               </td><td>859689                                             </td><td> 6017823                                           </td><td>0.40                                               </td><td>/videos/2020-02-03/importable-landgrab-short.mp4   </td><td> 7                                                 </td><td>caronni@comcast.net                                </td><td>facebook.com                                       </td><td>343875.6                                           </td></tr>\n",
       "\t<tr><td> 3                                                 </td><td>1419                                               </td><td>925388                                             </td><td> 8328492                                           </td><td>0.37                                               </td><td>/root/bucket5/hardly-pingler-short.mp4             </td><td> 9                                                 </td><td>caronni@comcast.net                                </td><td>facebook.com                                       </td><td>342393.6                                           </td></tr>\n",
       "</tbody>\n",
       "</table>\n"
      ],
      "text/latex": [
       "\\begin{tabular}{r|llllllllll}\n",
       " platform\\_id & video\\_id & watch\\_count & total\\_time\\_watched & price\\_per\\_watch & path & duration & contact\\_mail & website & price\\\\\n",
       "\\hline\n",
       "\t 74                                                  &  622                                                & 946335                                              & 19873035                                            & 0.45                                                & /media/eyeshadows-disentrail-short.mp4              & 21                                                  & roesch@sbcglobal.net                                & facebook.com                                        & 425850.8                                           \\\\\n",
       "\t  3                                                  &  564                                                & 945614                                              & 25531578                                            & 0.45                                                & /root/bucket1/budgeter-intravenous-short.mp4        & 27                                                  & caronni@comcast.net                                 & facebook.com                                        & 425526.3                                           \\\\\n",
       "\t  3                                                  &  625                                                & 883692                                              & 32696604                                            & 0.48                                                & /root/bucket1/deflagrates-respot-long.mp4           & 37                                                  & caronni@comcast.net                                 & facebook.com                                        & 424172.2                                           \\\\\n",
       "\t  3                                                  &  807                                                & 836214                                              & 21741564                                            & 0.48                                                & /root/bucket3/saliences-experiencer-long.mp4        & 26                                                  & caronni@comcast.net                                 & facebook.com                                        & 401382.7                                           \\\\\n",
       "\t  3                                                  & 1905                                                & 830175                                              &  7471575                                            & 0.48                                                & /videos/2020-02-04/eukaryon-claim-short.mp4         &  9                                                  & caronni@comcast.net                                 & facebook.com                                        & 398484.0                                           \\\\\n",
       "\t 74                                                  &  124                                                & 853493                                              & 27311776                                            & 0.42                                                & /videos/2020-02-03/ignitibilities-agatized-long.mp4 & 32                                                  & roesch@sbcglobal.net                                & facebook.com                                        & 358467.1                                           \\\\\n",
       "\t  3                                                  & 1860                                                & 812617                                              & 13001872                                            & 0.43                                                & /videos/2020-02-02/photomosaics-pigsconce-short.mp4 & 16                                                  & caronni@comcast.net                                 & facebook.com                                        & 349425.3                                           \\\\\n",
       "\t  3                                                  &  759                                                & 704430                                              & 41561370                                            & 0.49                                                & /videos/2020-02-01/lollapalooza-unexploded-long.mp4 & 59                                                  & caronni@comcast.net                                 & facebook.com                                        & 345170.7                                           \\\\\n",
       "\t  3                                                  &  170                                                & 859689                                              &  6017823                                            & 0.40                                                & /videos/2020-02-03/importable-landgrab-short.mp4    &  7                                                  & caronni@comcast.net                                 & facebook.com                                        & 343875.6                                           \\\\\n",
       "\t  3                                                  & 1419                                                & 925388                                              &  8328492                                            & 0.37                                                & /root/bucket5/hardly-pingler-short.mp4              &  9                                                  & caronni@comcast.net                                 & facebook.com                                        & 342393.6                                           \\\\\n",
       "\\end{tabular}\n"
      ],
      "text/markdown": [
       "\n",
       "| platform_id | video_id | watch_count | total_time_watched | price_per_watch | path | duration | contact_mail | website | price |\n",
       "|---|---|---|---|---|---|---|---|---|---|\n",
       "| 74                                                  |  622                                                | 946335                                              | 19873035                                            | 0.45                                                | /media/eyeshadows-disentrail-short.mp4              | 21                                                  | roesch@sbcglobal.net                                | facebook.com                                        | 425850.8                                            |\n",
       "|  3                                                  |  564                                                | 945614                                              | 25531578                                            | 0.45                                                | /root/bucket1/budgeter-intravenous-short.mp4        | 27                                                  | caronni@comcast.net                                 | facebook.com                                        | 425526.3                                            |\n",
       "|  3                                                  |  625                                                | 883692                                              | 32696604                                            | 0.48                                                | /root/bucket1/deflagrates-respot-long.mp4           | 37                                                  | caronni@comcast.net                                 | facebook.com                                        | 424172.2                                            |\n",
       "|  3                                                  |  807                                                | 836214                                              | 21741564                                            | 0.48                                                | /root/bucket3/saliences-experiencer-long.mp4        | 26                                                  | caronni@comcast.net                                 | facebook.com                                        | 401382.7                                            |\n",
       "|  3                                                  | 1905                                                | 830175                                              |  7471575                                            | 0.48                                                | /videos/2020-02-04/eukaryon-claim-short.mp4         |  9                                                  | caronni@comcast.net                                 | facebook.com                                        | 398484.0                                            |\n",
       "| 74                                                  |  124                                                | 853493                                              | 27311776                                            | 0.42                                                | /videos/2020-02-03/ignitibilities-agatized-long.mp4 | 32                                                  | roesch@sbcglobal.net                                | facebook.com                                        | 358467.1                                            |\n",
       "|  3                                                  | 1860                                                | 812617                                              | 13001872                                            | 0.43                                                | /videos/2020-02-02/photomosaics-pigsconce-short.mp4 | 16                                                  | caronni@comcast.net                                 | facebook.com                                        | 349425.3                                            |\n",
       "|  3                                                  |  759                                                | 704430                                              | 41561370                                            | 0.49                                                | /videos/2020-02-01/lollapalooza-unexploded-long.mp4 | 59                                                  | caronni@comcast.net                                 | facebook.com                                        | 345170.7                                            |\n",
       "|  3                                                  |  170                                                | 859689                                              |  6017823                                            | 0.40                                                | /videos/2020-02-03/importable-landgrab-short.mp4    |  7                                                  | caronni@comcast.net                                 | facebook.com                                        | 343875.6                                            |\n",
       "|  3                                                  | 1419                                                | 925388                                              |  8328492                                            | 0.37                                                | /root/bucket5/hardly-pingler-short.mp4              |  9                                                  | caronni@comcast.net                                 | facebook.com                                        | 342393.6                                            |\n",
       "\n"
      ],
      "text/plain": [
       "   platform_id video_id watch_count total_time_watched price_per_watch\n",
       "1  74           622     946335      19873035           0.45           \n",
       "2   3           564     945614      25531578           0.45           \n",
       "3   3           625     883692      32696604           0.48           \n",
       "4   3           807     836214      21741564           0.48           \n",
       "5   3          1905     830175       7471575           0.48           \n",
       "6  74           124     853493      27311776           0.42           \n",
       "7   3          1860     812617      13001872           0.43           \n",
       "8   3           759     704430      41561370           0.49           \n",
       "9   3           170     859689       6017823           0.40           \n",
       "10  3          1419     925388       8328492           0.37           \n",
       "   path                                                duration\n",
       "1  /media/eyeshadows-disentrail-short.mp4              21      \n",
       "2  /root/bucket1/budgeter-intravenous-short.mp4        27      \n",
       "3  /root/bucket1/deflagrates-respot-long.mp4           37      \n",
       "4  /root/bucket3/saliences-experiencer-long.mp4        26      \n",
       "5  /videos/2020-02-04/eukaryon-claim-short.mp4          9      \n",
       "6  /videos/2020-02-03/ignitibilities-agatized-long.mp4 32      \n",
       "7  /videos/2020-02-02/photomosaics-pigsconce-short.mp4 16      \n",
       "8  /videos/2020-02-01/lollapalooza-unexploded-long.mp4 59      \n",
       "9  /videos/2020-02-03/importable-landgrab-short.mp4     7      \n",
       "10 /root/bucket5/hardly-pingler-short.mp4               9      \n",
       "   contact_mail         website      price   \n",
       "1  roesch@sbcglobal.net facebook.com 425850.8\n",
       "2  caronni@comcast.net  facebook.com 425526.3\n",
       "3  caronni@comcast.net  facebook.com 424172.2\n",
       "4  caronni@comcast.net  facebook.com 401382.7\n",
       "5  caronni@comcast.net  facebook.com 398484.0\n",
       "6  roesch@sbcglobal.net facebook.com 358467.1\n",
       "7  caronni@comcast.net  facebook.com 349425.3\n",
       "8  caronni@comcast.net  facebook.com 345170.7\n",
       "9  caronni@comcast.net  facebook.com 343875.6\n",
       "10 caronni@comcast.net  facebook.com 342393.6"
      ]
     },
     "metadata": {},
     "output_type": "display_data"
    }
   ],
   "source": [
    "#price of ads placed on facebook\n",
    "\n",
    "ad_stats_vid_plat %>% \n",
    "filter(website==\"facebook.com\") %>% \n",
    "mutate(price= price_per_watch* watch_count) %>% \n",
    "arrange(desc(price)) %>% \n",
    "slice(1:10)"
   ]
  },
  {
   "cell_type": "code",
   "execution_count": 135,
   "id": "6ea05c50",
   "metadata": {},
   "outputs": [
    {
     "data": {
      "text/html": [
       "<table>\n",
       "<thead><tr><th scope=col>platform_id</th><th scope=col>video_id</th><th scope=col>watch_count</th><th scope=col>total_time_watched</th><th scope=col>price_per_watch</th><th scope=col>path</th><th scope=col>duration</th><th scope=col>contact_mail</th><th scope=col>website</th></tr></thead>\n",
       "<tbody>\n",
       "\t<tr><td> 1                                                     </td><td>1510                                                   </td><td>777880                                                 </td><td>44339160                                               </td><td>0.37                                                   </td><td>/videos/2020-02-02/flittering-containerise-long.mp4    </td><td>57                                                     </td><td>crandall@comcast.net                                   </td><td>google.com.hk                                          </td></tr>\n",
       "\t<tr><td> 1                                                     </td><td>1499                                                   </td><td>979774                                                 </td><td>53887570                                               </td><td>0.28                                                   </td><td>/videos/2020-02-04/mycovirus-nattering-long.mp4        </td><td>55                                                     </td><td>crandall@comcast.net                                   </td><td>google.com.hk                                          </td></tr>\n",
       "\t<tr><td> 3                                                     </td><td> 759                                                   </td><td>704430                                                 </td><td>41561370                                               </td><td>0.49                                                   </td><td>/videos/2020-02-01/lollapalooza-unexploded-long.mp4    </td><td>59                                                     </td><td>caronni@comcast.net                                    </td><td>facebook.com                                           </td></tr>\n",
       "\t<tr><td> 3                                                     </td><td>1787                                                   </td><td>489371                                                 </td><td>27404776                                               </td><td>0.46                                                   </td><td>/videos/2020-02-03/bewrayed-emanations-long.mp4        </td><td>56                                                     </td><td>caronni@comcast.net                                    </td><td>facebook.com                                           </td></tr>\n",
       "\t<tr><td> 4                                                     </td><td>1816                                                   </td><td>249938                                                 </td><td>14746342                                               </td><td>0.49                                                   </td><td>/root/bucket5/outdrinks-apoptoses-long.mp4             </td><td>59                                                     </td><td>ninenine@me.com                                        </td><td>nymag.com                                              </td></tr>\n",
       "\t<tr><td> 4                                                     </td><td> 759                                                   </td><td>512230                                                 </td><td>30221570                                               </td><td>0.24                                                   </td><td>/videos/2020-02-01/lollapalooza-unexploded-long.mp4    </td><td>59                                                     </td><td>ninenine@me.com                                        </td><td>nymag.com                                              </td></tr>\n",
       "\t<tr><td> 5                                                     </td><td> 113                                                   </td><td>204998                                                 </td><td>11479888                                               </td><td>0.13                                                   </td><td>/root/bucket1/electrophysiologically-toothless-long.mp4</td><td>56                                                     </td><td>animats@yahoo.com                                      </td><td>bravesites.com                                         </td></tr>\n",
       "\t<tr><td> 5                                                     </td><td> 667                                                   </td><td> 77311                                                 </td><td> 4020172                                               </td><td>0.49                                                   </td><td>/root/bucket5/miniaturizes-beacon-long.mp4             </td><td>52                                                     </td><td>animats@yahoo.com                                      </td><td>bravesites.com                                         </td></tr>\n",
       "\t<tr><td> 6                                                     </td><td> 577                                                   </td><td>383561                                                 </td><td>20328733                                               </td><td>0.15                                                   </td><td>/root/bucket1/clofibrates-divisional-long.mp4          </td><td>53                                                     </td><td>seurat@yahoo.ca                                        </td><td>comcast.net                                            </td></tr>\n",
       "\t<tr><td> 6                                                     </td><td>1912                                                   </td><td>428507                                                 </td><td>20568336                                               </td><td>0.17                                                   </td><td>/videos/2020-02-04/solely-hemocyte-long.mp4            </td><td>48                                                     </td><td>seurat@yahoo.ca                                        </td><td>comcast.net                                            </td></tr>\n",
       "\t<tr><td> 7                                                     </td><td>1470                                                   </td><td>460924                                                 </td><td>27194516                                               </td><td>0.14                                                   </td><td>/videos/2020-02-02/divineress-febrile-long.mp4         </td><td>59                                                     </td><td>ylchang@me.com                                         </td><td>spiegel.de                                             </td></tr>\n",
       "\t<tr><td> 7                                                     </td><td>1603                                                   </td><td>498004                                                 </td><td>27390220                                               </td><td>0.24                                                   </td><td>/videos/2020-02-04/switchier-catalyst-long.mp4         </td><td>55                                                     </td><td>ylchang@me.com                                         </td><td>spiegel.de                                             </td></tr>\n",
       "\t<tr><td> 8                                                     </td><td> 979                                                   </td><td>486078                                                 </td><td>27706446                                               </td><td>0.13                                                   </td><td>/videos/2020-02-03/eyeshadows-disentrail-long.mp4      </td><td>57                                                     </td><td>rsteiner@optonline.net                                 </td><td>japanpost.jp                                           </td></tr>\n",
       "\t<tr><td> 8                                                     </td><td>  16                                                   </td><td>622161                                                 </td><td>35463177                                               </td><td>0.35                                                   </td><td>/root/bucket1/lightninged-cholestyramine-long.mp4      </td><td>57                                                     </td><td>rsteiner@optonline.net                                 </td><td>japanpost.jp                                           </td></tr>\n",
       "\t<tr><td> 9                                                     </td><td>1374                                                   </td><td>478998                                                 </td><td>28739880                                               </td><td>0.33                                                   </td><td>/root/bucket2/buckayro-halloes-long.mp4                </td><td>60                                                     </td><td>unreal@hotmail.com                                     </td><td>slideshare.net                                         </td></tr>\n",
       "\t<tr><td> 9                                                     </td><td>1757                                                   </td><td>399444                                                 </td><td>23167752                                               </td><td>0.33                                                   </td><td>/root/bucket5/definability-insofar-long.mp4            </td><td>58                                                     </td><td>unreal@hotmail.com                                     </td><td>slideshare.net                                         </td></tr>\n",
       "\t<tr><td>10                                                     </td><td>1678                                                   </td><td>167362                                                 </td><td> 9874358                                               </td><td>0.19                                                   </td><td>/videos/2020-02-04/siffles-touse-long.mp4              </td><td>59                                                     </td><td>clkao@gmail.com                                        </td><td>pbs.org                                                </td></tr>\n",
       "\t<tr><td>10                                                     </td><td>1015                                                   </td><td>853176                                                 </td><td>49484208                                               </td><td>0.36                                                   </td><td>/root/bucket3/manoscopy-naifer-long.mp4                </td><td>58                                                     </td><td>clkao@gmail.com                                        </td><td>pbs.org                                                </td></tr>\n",
       "\t<tr><td>13                                                     </td><td> 308                                                   </td><td>566020                                                 </td><td>33961200                                               </td><td>0.20                                                   </td><td>/videos/2020-02-01/lamenters-namaste-long.mp4          </td><td>60                                                     </td><td>knorr@comcast.net                                      </td><td>china.com.cn                                           </td></tr>\n",
       "\t<tr><td>13                                                     </td><td> 318                                                   </td><td>935065                                                 </td><td>49558445                                               </td><td>0.23                                                   </td><td>/root/bucket4/coprophagies-fantads-long.mp4            </td><td>53                                                     </td><td>knorr@comcast.net                                      </td><td>china.com.cn                                           </td></tr>\n",
       "\t<tr><td>14                                                     </td><td>1108                                                   </td><td>470507                                                 </td><td>28230420                                               </td><td>0.33                                                   </td><td>/root/bucket3/dictatorialness-trillionaires-long.mp4   </td><td>60                                                     </td><td>jdhedden@msn.com                                       </td><td>creativecommons.org                                    </td></tr>\n",
       "\t<tr><td>14                                                     </td><td> 415                                                   </td><td>309185                                                 </td><td>17932730                                               </td><td>0.22                                                   </td><td>/videos/2020-02-04/dueled-antibioses-long.mp4          </td><td>58                                                     </td><td>jdhedden@msn.com                                       </td><td>creativecommons.org                                    </td></tr>\n",
       "\t<tr><td>15                                                     </td><td> 968                                                   </td><td>959319                                                 </td><td>57559140                                               </td><td>0.26                                                   </td><td>/media/counterarguments-bagpiping-long.mp4             </td><td>60                                                     </td><td>crypt@hotmail.com                                      </td><td>jigsy.com                                              </td></tr>\n",
       "\t<tr><td>15                                                     </td><td>1055                                                   </td><td>250200                                                 </td><td>12510000                                               </td><td>0.17                                                   </td><td>/root/bucket4/stigmatiser-preplaces-long.mp4           </td><td>50                                                     </td><td>crypt@hotmail.com                                      </td><td>jigsy.com                                              </td></tr>\n",
       "\t<tr><td>17                                                     </td><td> 144                                                   </td><td>108653                                                 </td><td> 6193221                                               </td><td>0.46                                                   </td><td>/root/bucket2/howling-oeuvre-long.mp4                  </td><td>57                                                     </td><td>william@sbcglobal.net                                  </td><td>elegantthemes.com                                      </td></tr>\n",
       "\t<tr><td>17                                                     </td><td> 794                                                   </td><td> 72683                                                 </td><td> 3997565                                               </td><td>0.11                                                   </td><td>/root/bucket5/bordereau-inquisitive-long.mp4           </td><td>55                                                     </td><td>william@sbcglobal.net                                  </td><td>elegantthemes.com                                      </td></tr>\n",
       "\t<tr><td>18                                                     </td><td> 640                                                   </td><td>744080                                                 </td><td>43900720                                               </td><td>0.45                                                   </td><td>/root/bucket2/contrarinesses-swimmings-long.mp4        </td><td>59                                                     </td><td>hermanab@sbcglobal.net                                 </td><td>ca.gov                                                 </td></tr>\n",
       "\t<tr><td>18                                                     </td><td>1693                                                   </td><td>798851                                                 </td><td>46333358                                               </td><td>0.36                                                   </td><td>/root/bucket2/accessarily-danton-long.mp4              </td><td>58                                                     </td><td>hermanab@sbcglobal.net                                 </td><td>ca.gov                                                 </td></tr>\n",
       "\t<tr><td>19                                                     </td><td> 165                                                   </td><td>986277                                                 </td><td>56217789                                               </td><td>0.20                                                   </td><td>/root/bucket1/felching-shortarses-long.mp4             </td><td>57                                                     </td><td>goldberg@aol.com                                       </td><td>ucoz.com                                               </td></tr>\n",
       "\t<tr><td>19                                                     </td><td> 479                                                   </td><td>627163                                                 </td><td>32612476                                               </td><td>0.13                                                   </td><td>/videos/2020-02-03/unappointed-endash-long.mp4         </td><td>52                                                     </td><td>goldberg@aol.com                                       </td><td>ucoz.com                                               </td></tr>\n",
       "\t<tr><td>...</td><td>...</td><td>...</td><td>...</td><td>...</td><td>...</td><td>...</td><td>...</td><td>...</td></tr>\n",
       "\t<tr><td>142                                                 </td><td>  52                                                </td><td>390073                                              </td><td>23014307                                            </td><td>0.30                                                </td><td>/root/bucket1/carboxylases-faint-long.mp4           </td><td>59                                                  </td><td>bescoto@msn.com                                     </td><td>dailymotion.com                                     </td></tr>\n",
       "\t<tr><td>142                                                 </td><td>1891                                                </td><td>184945                                              </td><td>10911755                                            </td><td>0.11                                                </td><td>/root/bucket2/signeurie-cotemporary-long.mp4        </td><td>59                                                  </td><td>bescoto@msn.com                                     </td><td>dailymotion.com                                     </td></tr>\n",
       "\t<tr><td>143                                                 </td><td>1309                                                </td><td>878140                                              </td><td>51810260                                            </td><td>0.22                                                </td><td>/root/bucket5/divinities-izars-long.mp4             </td><td>59                                                  </td><td>skippy@yahoo.ca                                     </td><td>yellowbook.com                                      </td></tr>\n",
       "\t<tr><td>143                                                 </td><td> 119                                                </td><td>313063                                              </td><td>17218465                                            </td><td>0.48                                                </td><td>/root/bucket4/mathematician-beekeepers-long.mp4     </td><td>55                                                  </td><td>skippy@yahoo.ca                                     </td><td>yellowbook.com                                      </td></tr>\n",
       "\t<tr><td>144                                                 </td><td> 746                                                </td><td>127940                                              </td><td> 7676400                                            </td><td>0.32                                                </td><td>/root/bucket4/vexillologies-echinuses-long.mp4      </td><td>60                                                  </td><td>dbrobins@outlook.com                                </td><td>furl.net                                            </td></tr>\n",
       "\t<tr><td>144                                                 </td><td>1470                                                </td><td> 29196                                              </td><td> 1722564                                            </td><td>0.42                                                </td><td>/videos/2020-02-02/divineress-febrile-long.mp4      </td><td>59                                                  </td><td>dbrobins@outlook.com                                </td><td>furl.net                                            </td></tr>\n",
       "\t<tr><td>146                                                 </td><td> 666                                                </td><td>746940                                              </td><td>42575580                                            </td><td>0.16                                                </td><td>/root/bucket3/bilabiate-belittler-long.mp4          </td><td>57                                                  </td><td>heckerman@msn.com                                   </td><td>aol.com                                             </td></tr>\n",
       "\t<tr><td>146                                                 </td><td> 321                                                </td><td>705166                                              </td><td>35963466                                            </td><td>0.44                                                </td><td>/root/bucket1/cocks-sarrasins-long.mp4              </td><td>51                                                  </td><td>heckerman@msn.com                                   </td><td>aol.com                                             </td></tr>\n",
       "\t<tr><td>148                                                 </td><td> 169                                                </td><td>464237                                              </td><td>27854220                                            </td><td>0.42                                                </td><td>/root/bucket2/preheats-haole-long.mp4               </td><td>60                                                  </td><td>crowemojo@mac.com                                   </td><td>sohu.com                                            </td></tr>\n",
       "\t<tr><td>148                                                 </td><td> 691                                                </td><td>573461                                              </td><td>34407660                                            </td><td>0.35                                                </td><td>/videos/2020-02-02/forcibility-cowtrees-long.mp4    </td><td>60                                                  </td><td>crowemojo@mac.com                                   </td><td>sohu.com                                            </td></tr>\n",
       "\t<tr><td>149                                                 </td><td>1678                                                </td><td> 64114                                              </td><td> 3782726                                            </td><td>0.30                                                </td><td>/videos/2020-02-04/siffles-touse-long.mp4           </td><td>59                                                  </td><td>gtewari@sbcglobal.net                               </td><td>smugmug.com                                         </td></tr>\n",
       "\t<tr><td>149                                                 </td><td> 862                                                </td><td>874069                                              </td><td>51570071                                            </td><td>0.17                                                </td><td>/root/bucket4/uranite-apolipoprotein-long.mp4       </td><td>59                                                  </td><td>gtewari@sbcglobal.net                               </td><td>smugmug.com                                         </td></tr>\n",
       "\t<tr><td>150                                                 </td><td>1772                                                </td><td> 26295                                              </td><td> 1367340                                            </td><td>0.18                                                </td><td>/root/bucket5/smalminess-shisos-long.mp4            </td><td>52                                                  </td><td>kewley@mac.com                                      </td><td>ox.ac.uk                                            </td></tr>\n",
       "\t<tr><td>150                                                 </td><td> 928                                                </td><td>512991                                              </td><td>26162541                                            </td><td>0.15                                                </td><td>/videos/2020-02-04/rapidly-vacantnesses-long.mp4    </td><td>51                                                  </td><td>kewley@mac.com                                      </td><td>ox.ac.uk                                            </td></tr>\n",
       "\t<tr><td>151                                                 </td><td>1816                                                </td><td>522332                                              </td><td>30817588                                            </td><td>0.49                                                </td><td>/root/bucket5/outdrinks-apoptoses-long.mp4          </td><td>59                                                  </td><td>pappp@gmail.com                                     </td><td>springer.com                                        </td></tr>\n",
       "\t<tr><td>151                                                 </td><td>  73                                                </td><td>370162                                              </td><td>20729072                                            </td><td>0.50                                                </td><td>/root/bucket1/verifying-galabieh-long.mp4           </td><td>56                                                  </td><td>pappp@gmail.com                                     </td><td>springer.com                                        </td></tr>\n",
       "\t<tr><td>154                                                 </td><td> 764                                                </td><td>247574                                              </td><td>14359292                                            </td><td>0.35                                                </td><td>/root/bucket3/outbegs-hardbeams-long.mp4            </td><td>58                                                  </td><td>murty@yahoo.com                                     </td><td>ebay.co.uk                                          </td></tr>\n",
       "\t<tr><td>154                                                 </td><td>  19                                                </td><td>211650                                              </td><td>11429100                                            </td><td>0.32                                                </td><td>/media/metalize-ridiculously-long.mp4               </td><td>54                                                  </td><td>murty@yahoo.com                                     </td><td>ebay.co.uk                                          </td></tr>\n",
       "\t<tr><td>155                                                 </td><td> 938                                                </td><td>310685                                              </td><td>17398360                                            </td><td>0.10                                                </td><td>/root/bucket3/decumbencies-lairy-long.mp4           </td><td>56                                                  </td><td>sthomas@yahoo.com                                   </td><td>foxnews.com                                         </td></tr>\n",
       "\t<tr><td>155                                                 </td><td> 926                                                </td><td>602726                                              </td><td>32547204                                            </td><td>0.21                                                </td><td>/videos/2020-02-01/lurch-galivant-long.mp4          </td><td>54                                                  </td><td>sthomas@yahoo.com                                   </td><td>foxnews.com                                         </td></tr>\n",
       "\t<tr><td>156                                                 </td><td> 834                                                </td><td>489643                                              </td><td>28399294                                            </td><td>0.15                                                </td><td>/root/bucket4/turaco-mentorings-long.mp4            </td><td>58                                                  </td><td>stinson@comcast.net                                 </td><td>shinystat.com                                       </td></tr>\n",
       "\t<tr><td>156                                                 </td><td>1903                                                </td><td>815185                                              </td><td>44835175                                            </td><td>0.23                                                </td><td>/root/bucket3/sitosterols-monture-long.mp4          </td><td>55                                                  </td><td>stinson@comcast.net                                 </td><td>shinystat.com                                       </td></tr>\n",
       "\t<tr><td>157                                                 </td><td> 286                                                </td><td> 52653                                              </td><td> 2895915                                            </td><td>0.26                                                </td><td>/videos/2020-02-04/chields-hoten-long.mp4           </td><td>55                                                  </td><td>larry@icloud.com                                    </td><td>slate.com                                           </td></tr>\n",
       "\t<tr><td>157                                                 </td><td>1984                                                </td><td>853441                                              </td><td>46085814                                            </td><td>0.40                                                </td><td>/root/bucket2/embus-slotback-long.mp4               </td><td>54                                                  </td><td>larry@icloud.com                                    </td><td>slate.com                                           </td></tr>\n",
       "\t<tr><td>158                                                 </td><td> 309                                                </td><td>  1501                                              </td><td>   90060                                            </td><td>0.34                                                </td><td>/root/bucket3/unelectrified-gallicise-long.mp4      </td><td>60                                                  </td><td>crusader@yahoo.ca                                   </td><td>feedburner.com                                      </td></tr>\n",
       "\t<tr><td>158                                                 </td><td> 746                                                </td><td>  1498                                              </td><td>   89880                                            </td><td>0.39                                                </td><td>/root/bucket4/vexillologies-echinuses-long.mp4      </td><td>60                                                  </td><td>crusader@yahoo.ca                                   </td><td>feedburner.com                                      </td></tr>\n",
       "\t<tr><td>159                                                 </td><td> 455                                                </td><td>  1507                                              </td><td>   90420                                            </td><td>0.21                                                </td><td>/root/bucket4/abandonment-distinctness-long.mp4     </td><td>60                                                  </td><td>timtroyr@mac.com                                    </td><td>wired.com                                           </td></tr>\n",
       "\t<tr><td>159                                                 </td><td>1108                                                </td><td>  1509                                              </td><td>   90540                                            </td><td>0.27                                                </td><td>/root/bucket3/dictatorialness-trillionaires-long.mp4</td><td>60                                                  </td><td>timtroyr@mac.com                                    </td><td>wired.com                                           </td></tr>\n",
       "\t<tr><td>162                                                 </td><td> 308                                                </td><td>  1499                                              </td><td>   89940                                            </td><td>0.27                                                </td><td>/videos/2020-02-01/lamenters-namaste-long.mp4       </td><td>60                                                  </td><td>dodong@sbcglobal.net                                </td><td>cnet.com                                            </td></tr>\n",
       "\t<tr><td>162                                                 </td><td> 718                                                </td><td>  1493                                              </td><td>   89580                                            </td><td>0.16                                                </td><td>/root/bucket1/pulsidge-spectrometric-long.mp4       </td><td>60                                                  </td><td>dodong@sbcglobal.net                                </td><td>cnet.com                                            </td></tr>\n",
       "</tbody>\n",
       "</table>\n"
      ],
      "text/latex": [
       "\\begin{tabular}{r|lllllllll}\n",
       " platform\\_id & video\\_id & watch\\_count & total\\_time\\_watched & price\\_per\\_watch & path & duration & contact\\_mail & website\\\\\n",
       "\\hline\n",
       "\t  1                                                      & 1510                                                    & 777880                                                  & 44339160                                                & 0.37                                                    & /videos/2020-02-02/flittering-containerise-long.mp4     & 57                                                      & crandall@comcast.net                                    & google.com.hk                                          \\\\\n",
       "\t  1                                                      & 1499                                                    & 979774                                                  & 53887570                                                & 0.28                                                    & /videos/2020-02-04/mycovirus-nattering-long.mp4         & 55                                                      & crandall@comcast.net                                    & google.com.hk                                          \\\\\n",
       "\t  3                                                      &  759                                                    & 704430                                                  & 41561370                                                & 0.49                                                    & /videos/2020-02-01/lollapalooza-unexploded-long.mp4     & 59                                                      & caronni@comcast.net                                     & facebook.com                                           \\\\\n",
       "\t  3                                                      & 1787                                                    & 489371                                                  & 27404776                                                & 0.46                                                    & /videos/2020-02-03/bewrayed-emanations-long.mp4         & 56                                                      & caronni@comcast.net                                     & facebook.com                                           \\\\\n",
       "\t  4                                                      & 1816                                                    & 249938                                                  & 14746342                                                & 0.49                                                    & /root/bucket5/outdrinks-apoptoses-long.mp4              & 59                                                      & ninenine@me.com                                         & nymag.com                                              \\\\\n",
       "\t  4                                                      &  759                                                    & 512230                                                  & 30221570                                                & 0.24                                                    & /videos/2020-02-01/lollapalooza-unexploded-long.mp4     & 59                                                      & ninenine@me.com                                         & nymag.com                                              \\\\\n",
       "\t  5                                                      &  113                                                    & 204998                                                  & 11479888                                                & 0.13                                                    & /root/bucket1/electrophysiologically-toothless-long.mp4 & 56                                                      & animats@yahoo.com                                       & bravesites.com                                         \\\\\n",
       "\t  5                                                      &  667                                                    &  77311                                                  &  4020172                                                & 0.49                                                    & /root/bucket5/miniaturizes-beacon-long.mp4              & 52                                                      & animats@yahoo.com                                       & bravesites.com                                         \\\\\n",
       "\t  6                                                      &  577                                                    & 383561                                                  & 20328733                                                & 0.15                                                    & /root/bucket1/clofibrates-divisional-long.mp4           & 53                                                      & seurat@yahoo.ca                                         & comcast.net                                            \\\\\n",
       "\t  6                                                      & 1912                                                    & 428507                                                  & 20568336                                                & 0.17                                                    & /videos/2020-02-04/solely-hemocyte-long.mp4             & 48                                                      & seurat@yahoo.ca                                         & comcast.net                                            \\\\\n",
       "\t  7                                                      & 1470                                                    & 460924                                                  & 27194516                                                & 0.14                                                    & /videos/2020-02-02/divineress-febrile-long.mp4          & 59                                                      & ylchang@me.com                                          & spiegel.de                                             \\\\\n",
       "\t  7                                                      & 1603                                                    & 498004                                                  & 27390220                                                & 0.24                                                    & /videos/2020-02-04/switchier-catalyst-long.mp4          & 55                                                      & ylchang@me.com                                          & spiegel.de                                             \\\\\n",
       "\t  8                                                      &  979                                                    & 486078                                                  & 27706446                                                & 0.13                                                    & /videos/2020-02-03/eyeshadows-disentrail-long.mp4       & 57                                                      & rsteiner@optonline.net                                  & japanpost.jp                                           \\\\\n",
       "\t  8                                                      &   16                                                    & 622161                                                  & 35463177                                                & 0.35                                                    & /root/bucket1/lightninged-cholestyramine-long.mp4       & 57                                                      & rsteiner@optonline.net                                  & japanpost.jp                                           \\\\\n",
       "\t  9                                                      & 1374                                                    & 478998                                                  & 28739880                                                & 0.33                                                    & /root/bucket2/buckayro-halloes-long.mp4                 & 60                                                      & unreal@hotmail.com                                      & slideshare.net                                         \\\\\n",
       "\t  9                                                      & 1757                                                    & 399444                                                  & 23167752                                                & 0.33                                                    & /root/bucket5/definability-insofar-long.mp4             & 58                                                      & unreal@hotmail.com                                      & slideshare.net                                         \\\\\n",
       "\t 10                                                      & 1678                                                    & 167362                                                  &  9874358                                                & 0.19                                                    & /videos/2020-02-04/siffles-touse-long.mp4               & 59                                                      & clkao@gmail.com                                         & pbs.org                                                \\\\\n",
       "\t 10                                                      & 1015                                                    & 853176                                                  & 49484208                                                & 0.36                                                    & /root/bucket3/manoscopy-naifer-long.mp4                 & 58                                                      & clkao@gmail.com                                         & pbs.org                                                \\\\\n",
       "\t 13                                                      &  308                                                    & 566020                                                  & 33961200                                                & 0.20                                                    & /videos/2020-02-01/lamenters-namaste-long.mp4           & 60                                                      & knorr@comcast.net                                       & china.com.cn                                           \\\\\n",
       "\t 13                                                      &  318                                                    & 935065                                                  & 49558445                                                & 0.23                                                    & /root/bucket4/coprophagies-fantads-long.mp4             & 53                                                      & knorr@comcast.net                                       & china.com.cn                                           \\\\\n",
       "\t 14                                                      & 1108                                                    & 470507                                                  & 28230420                                                & 0.33                                                    & /root/bucket3/dictatorialness-trillionaires-long.mp4    & 60                                                      & jdhedden@msn.com                                        & creativecommons.org                                    \\\\\n",
       "\t 14                                                      &  415                                                    & 309185                                                  & 17932730                                                & 0.22                                                    & /videos/2020-02-04/dueled-antibioses-long.mp4           & 58                                                      & jdhedden@msn.com                                        & creativecommons.org                                    \\\\\n",
       "\t 15                                                      &  968                                                    & 959319                                                  & 57559140                                                & 0.26                                                    & /media/counterarguments-bagpiping-long.mp4              & 60                                                      & crypt@hotmail.com                                       & jigsy.com                                              \\\\\n",
       "\t 15                                                      & 1055                                                    & 250200                                                  & 12510000                                                & 0.17                                                    & /root/bucket4/stigmatiser-preplaces-long.mp4            & 50                                                      & crypt@hotmail.com                                       & jigsy.com                                              \\\\\n",
       "\t 17                                                      &  144                                                    & 108653                                                  &  6193221                                                & 0.46                                                    & /root/bucket2/howling-oeuvre-long.mp4                   & 57                                                      & william@sbcglobal.net                                   & elegantthemes.com                                      \\\\\n",
       "\t 17                                                      &  794                                                    &  72683                                                  &  3997565                                                & 0.11                                                    & /root/bucket5/bordereau-inquisitive-long.mp4            & 55                                                      & william@sbcglobal.net                                   & elegantthemes.com                                      \\\\\n",
       "\t 18                                                      &  640                                                    & 744080                                                  & 43900720                                                & 0.45                                                    & /root/bucket2/contrarinesses-swimmings-long.mp4         & 59                                                      & hermanab@sbcglobal.net                                  & ca.gov                                                 \\\\\n",
       "\t 18                                                      & 1693                                                    & 798851                                                  & 46333358                                                & 0.36                                                    & /root/bucket2/accessarily-danton-long.mp4               & 58                                                      & hermanab@sbcglobal.net                                  & ca.gov                                                 \\\\\n",
       "\t 19                                                      &  165                                                    & 986277                                                  & 56217789                                                & 0.20                                                    & /root/bucket1/felching-shortarses-long.mp4              & 57                                                      & goldberg@aol.com                                        & ucoz.com                                               \\\\\n",
       "\t 19                                                      &  479                                                    & 627163                                                  & 32612476                                                & 0.13                                                    & /videos/2020-02-03/unappointed-endash-long.mp4          & 52                                                      & goldberg@aol.com                                        & ucoz.com                                               \\\\\n",
       "\t ... & ... & ... & ... & ... & ... & ... & ... & ...\\\\\n",
       "\t 142                                                  &   52                                                 & 390073                                               & 23014307                                             & 0.30                                                 & /root/bucket1/carboxylases-faint-long.mp4            & 59                                                   & bescoto@msn.com                                      & dailymotion.com                                     \\\\\n",
       "\t 142                                                  & 1891                                                 & 184945                                               & 10911755                                             & 0.11                                                 & /root/bucket2/signeurie-cotemporary-long.mp4         & 59                                                   & bescoto@msn.com                                      & dailymotion.com                                     \\\\\n",
       "\t 143                                                  & 1309                                                 & 878140                                               & 51810260                                             & 0.22                                                 & /root/bucket5/divinities-izars-long.mp4              & 59                                                   & skippy@yahoo.ca                                      & yellowbook.com                                      \\\\\n",
       "\t 143                                                  &  119                                                 & 313063                                               & 17218465                                             & 0.48                                                 & /root/bucket4/mathematician-beekeepers-long.mp4      & 55                                                   & skippy@yahoo.ca                                      & yellowbook.com                                      \\\\\n",
       "\t 144                                                  &  746                                                 & 127940                                               &  7676400                                             & 0.32                                                 & /root/bucket4/vexillologies-echinuses-long.mp4       & 60                                                   & dbrobins@outlook.com                                 & furl.net                                            \\\\\n",
       "\t 144                                                  & 1470                                                 &  29196                                               &  1722564                                             & 0.42                                                 & /videos/2020-02-02/divineress-febrile-long.mp4       & 59                                                   & dbrobins@outlook.com                                 & furl.net                                            \\\\\n",
       "\t 146                                                  &  666                                                 & 746940                                               & 42575580                                             & 0.16                                                 & /root/bucket3/bilabiate-belittler-long.mp4           & 57                                                   & heckerman@msn.com                                    & aol.com                                             \\\\\n",
       "\t 146                                                  &  321                                                 & 705166                                               & 35963466                                             & 0.44                                                 & /root/bucket1/cocks-sarrasins-long.mp4               & 51                                                   & heckerman@msn.com                                    & aol.com                                             \\\\\n",
       "\t 148                                                  &  169                                                 & 464237                                               & 27854220                                             & 0.42                                                 & /root/bucket2/preheats-haole-long.mp4                & 60                                                   & crowemojo@mac.com                                    & sohu.com                                            \\\\\n",
       "\t 148                                                  &  691                                                 & 573461                                               & 34407660                                             & 0.35                                                 & /videos/2020-02-02/forcibility-cowtrees-long.mp4     & 60                                                   & crowemojo@mac.com                                    & sohu.com                                            \\\\\n",
       "\t 149                                                  & 1678                                                 &  64114                                               &  3782726                                             & 0.30                                                 & /videos/2020-02-04/siffles-touse-long.mp4            & 59                                                   & gtewari@sbcglobal.net                                & smugmug.com                                         \\\\\n",
       "\t 149                                                  &  862                                                 & 874069                                               & 51570071                                             & 0.17                                                 & /root/bucket4/uranite-apolipoprotein-long.mp4        & 59                                                   & gtewari@sbcglobal.net                                & smugmug.com                                         \\\\\n",
       "\t 150                                                  & 1772                                                 &  26295                                               &  1367340                                             & 0.18                                                 & /root/bucket5/smalminess-shisos-long.mp4             & 52                                                   & kewley@mac.com                                       & ox.ac.uk                                            \\\\\n",
       "\t 150                                                  &  928                                                 & 512991                                               & 26162541                                             & 0.15                                                 & /videos/2020-02-04/rapidly-vacantnesses-long.mp4     & 51                                                   & kewley@mac.com                                       & ox.ac.uk                                            \\\\\n",
       "\t 151                                                  & 1816                                                 & 522332                                               & 30817588                                             & 0.49                                                 & /root/bucket5/outdrinks-apoptoses-long.mp4           & 59                                                   & pappp@gmail.com                                      & springer.com                                        \\\\\n",
       "\t 151                                                  &   73                                                 & 370162                                               & 20729072                                             & 0.50                                                 & /root/bucket1/verifying-galabieh-long.mp4            & 56                                                   & pappp@gmail.com                                      & springer.com                                        \\\\\n",
       "\t 154                                                  &  764                                                 & 247574                                               & 14359292                                             & 0.35                                                 & /root/bucket3/outbegs-hardbeams-long.mp4             & 58                                                   & murty@yahoo.com                                      & ebay.co.uk                                          \\\\\n",
       "\t 154                                                  &   19                                                 & 211650                                               & 11429100                                             & 0.32                                                 & /media/metalize-ridiculously-long.mp4                & 54                                                   & murty@yahoo.com                                      & ebay.co.uk                                          \\\\\n",
       "\t 155                                                  &  938                                                 & 310685                                               & 17398360                                             & 0.10                                                 & /root/bucket3/decumbencies-lairy-long.mp4            & 56                                                   & sthomas@yahoo.com                                    & foxnews.com                                         \\\\\n",
       "\t 155                                                  &  926                                                 & 602726                                               & 32547204                                             & 0.21                                                 & /videos/2020-02-01/lurch-galivant-long.mp4           & 54                                                   & sthomas@yahoo.com                                    & foxnews.com                                         \\\\\n",
       "\t 156                                                  &  834                                                 & 489643                                               & 28399294                                             & 0.15                                                 & /root/bucket4/turaco-mentorings-long.mp4             & 58                                                   & stinson@comcast.net                                  & shinystat.com                                       \\\\\n",
       "\t 156                                                  & 1903                                                 & 815185                                               & 44835175                                             & 0.23                                                 & /root/bucket3/sitosterols-monture-long.mp4           & 55                                                   & stinson@comcast.net                                  & shinystat.com                                       \\\\\n",
       "\t 157                                                  &  286                                                 &  52653                                               &  2895915                                             & 0.26                                                 & /videos/2020-02-04/chields-hoten-long.mp4            & 55                                                   & larry@icloud.com                                     & slate.com                                           \\\\\n",
       "\t 157                                                  & 1984                                                 & 853441                                               & 46085814                                             & 0.40                                                 & /root/bucket2/embus-slotback-long.mp4                & 54                                                   & larry@icloud.com                                     & slate.com                                           \\\\\n",
       "\t 158                                                  &  309                                                 &   1501                                               &    90060                                             & 0.34                                                 & /root/bucket3/unelectrified-gallicise-long.mp4       & 60                                                   & crusader@yahoo.ca                                    & feedburner.com                                      \\\\\n",
       "\t 158                                                  &  746                                                 &   1498                                               &    89880                                             & 0.39                                                 & /root/bucket4/vexillologies-echinuses-long.mp4       & 60                                                   & crusader@yahoo.ca                                    & feedburner.com                                      \\\\\n",
       "\t 159                                                  &  455                                                 &   1507                                               &    90420                                             & 0.21                                                 & /root/bucket4/abandonment-distinctness-long.mp4      & 60                                                   & timtroyr@mac.com                                     & wired.com                                           \\\\\n",
       "\t 159                                                  & 1108                                                 &   1509                                               &    90540                                             & 0.27                                                 & /root/bucket3/dictatorialness-trillionaires-long.mp4 & 60                                                   & timtroyr@mac.com                                     & wired.com                                           \\\\\n",
       "\t 162                                                  &  308                                                 &   1499                                               &    89940                                             & 0.27                                                 & /videos/2020-02-01/lamenters-namaste-long.mp4        & 60                                                   & dodong@sbcglobal.net                                 & cnet.com                                            \\\\\n",
       "\t 162                                                  &  718                                                 &   1493                                               &    89580                                             & 0.16                                                 & /root/bucket1/pulsidge-spectrometric-long.mp4        & 60                                                   & dodong@sbcglobal.net                                 & cnet.com                                            \\\\\n",
       "\\end{tabular}\n"
      ],
      "text/markdown": [
       "\n",
       "| platform_id | video_id | watch_count | total_time_watched | price_per_watch | path | duration | contact_mail | website |\n",
       "|---|---|---|---|---|---|---|---|---|\n",
       "|  1                                                      | 1510                                                    | 777880                                                  | 44339160                                                | 0.37                                                    | /videos/2020-02-02/flittering-containerise-long.mp4     | 57                                                      | crandall@comcast.net                                    | google.com.hk                                           |\n",
       "|  1                                                      | 1499                                                    | 979774                                                  | 53887570                                                | 0.28                                                    | /videos/2020-02-04/mycovirus-nattering-long.mp4         | 55                                                      | crandall@comcast.net                                    | google.com.hk                                           |\n",
       "|  3                                                      |  759                                                    | 704430                                                  | 41561370                                                | 0.49                                                    | /videos/2020-02-01/lollapalooza-unexploded-long.mp4     | 59                                                      | caronni@comcast.net                                     | facebook.com                                            |\n",
       "|  3                                                      | 1787                                                    | 489371                                                  | 27404776                                                | 0.46                                                    | /videos/2020-02-03/bewrayed-emanations-long.mp4         | 56                                                      | caronni@comcast.net                                     | facebook.com                                            |\n",
       "|  4                                                      | 1816                                                    | 249938                                                  | 14746342                                                | 0.49                                                    | /root/bucket5/outdrinks-apoptoses-long.mp4              | 59                                                      | ninenine@me.com                                         | nymag.com                                               |\n",
       "|  4                                                      |  759                                                    | 512230                                                  | 30221570                                                | 0.24                                                    | /videos/2020-02-01/lollapalooza-unexploded-long.mp4     | 59                                                      | ninenine@me.com                                         | nymag.com                                               |\n",
       "|  5                                                      |  113                                                    | 204998                                                  | 11479888                                                | 0.13                                                    | /root/bucket1/electrophysiologically-toothless-long.mp4 | 56                                                      | animats@yahoo.com                                       | bravesites.com                                          |\n",
       "|  5                                                      |  667                                                    |  77311                                                  |  4020172                                                | 0.49                                                    | /root/bucket5/miniaturizes-beacon-long.mp4              | 52                                                      | animats@yahoo.com                                       | bravesites.com                                          |\n",
       "|  6                                                      |  577                                                    | 383561                                                  | 20328733                                                | 0.15                                                    | /root/bucket1/clofibrates-divisional-long.mp4           | 53                                                      | seurat@yahoo.ca                                         | comcast.net                                             |\n",
       "|  6                                                      | 1912                                                    | 428507                                                  | 20568336                                                | 0.17                                                    | /videos/2020-02-04/solely-hemocyte-long.mp4             | 48                                                      | seurat@yahoo.ca                                         | comcast.net                                             |\n",
       "|  7                                                      | 1470                                                    | 460924                                                  | 27194516                                                | 0.14                                                    | /videos/2020-02-02/divineress-febrile-long.mp4          | 59                                                      | ylchang@me.com                                          | spiegel.de                                              |\n",
       "|  7                                                      | 1603                                                    | 498004                                                  | 27390220                                                | 0.24                                                    | /videos/2020-02-04/switchier-catalyst-long.mp4          | 55                                                      | ylchang@me.com                                          | spiegel.de                                              |\n",
       "|  8                                                      |  979                                                    | 486078                                                  | 27706446                                                | 0.13                                                    | /videos/2020-02-03/eyeshadows-disentrail-long.mp4       | 57                                                      | rsteiner@optonline.net                                  | japanpost.jp                                            |\n",
       "|  8                                                      |   16                                                    | 622161                                                  | 35463177                                                | 0.35                                                    | /root/bucket1/lightninged-cholestyramine-long.mp4       | 57                                                      | rsteiner@optonline.net                                  | japanpost.jp                                            |\n",
       "|  9                                                      | 1374                                                    | 478998                                                  | 28739880                                                | 0.33                                                    | /root/bucket2/buckayro-halloes-long.mp4                 | 60                                                      | unreal@hotmail.com                                      | slideshare.net                                          |\n",
       "|  9                                                      | 1757                                                    | 399444                                                  | 23167752                                                | 0.33                                                    | /root/bucket5/definability-insofar-long.mp4             | 58                                                      | unreal@hotmail.com                                      | slideshare.net                                          |\n",
       "| 10                                                      | 1678                                                    | 167362                                                  |  9874358                                                | 0.19                                                    | /videos/2020-02-04/siffles-touse-long.mp4               | 59                                                      | clkao@gmail.com                                         | pbs.org                                                 |\n",
       "| 10                                                      | 1015                                                    | 853176                                                  | 49484208                                                | 0.36                                                    | /root/bucket3/manoscopy-naifer-long.mp4                 | 58                                                      | clkao@gmail.com                                         | pbs.org                                                 |\n",
       "| 13                                                      |  308                                                    | 566020                                                  | 33961200                                                | 0.20                                                    | /videos/2020-02-01/lamenters-namaste-long.mp4           | 60                                                      | knorr@comcast.net                                       | china.com.cn                                            |\n",
       "| 13                                                      |  318                                                    | 935065                                                  | 49558445                                                | 0.23                                                    | /root/bucket4/coprophagies-fantads-long.mp4             | 53                                                      | knorr@comcast.net                                       | china.com.cn                                            |\n",
       "| 14                                                      | 1108                                                    | 470507                                                  | 28230420                                                | 0.33                                                    | /root/bucket3/dictatorialness-trillionaires-long.mp4    | 60                                                      | jdhedden@msn.com                                        | creativecommons.org                                     |\n",
       "| 14                                                      |  415                                                    | 309185                                                  | 17932730                                                | 0.22                                                    | /videos/2020-02-04/dueled-antibioses-long.mp4           | 58                                                      | jdhedden@msn.com                                        | creativecommons.org                                     |\n",
       "| 15                                                      |  968                                                    | 959319                                                  | 57559140                                                | 0.26                                                    | /media/counterarguments-bagpiping-long.mp4              | 60                                                      | crypt@hotmail.com                                       | jigsy.com                                               |\n",
       "| 15                                                      | 1055                                                    | 250200                                                  | 12510000                                                | 0.17                                                    | /root/bucket4/stigmatiser-preplaces-long.mp4            | 50                                                      | crypt@hotmail.com                                       | jigsy.com                                               |\n",
       "| 17                                                      |  144                                                    | 108653                                                  |  6193221                                                | 0.46                                                    | /root/bucket2/howling-oeuvre-long.mp4                   | 57                                                      | william@sbcglobal.net                                   | elegantthemes.com                                       |\n",
       "| 17                                                      |  794                                                    |  72683                                                  |  3997565                                                | 0.11                                                    | /root/bucket5/bordereau-inquisitive-long.mp4            | 55                                                      | william@sbcglobal.net                                   | elegantthemes.com                                       |\n",
       "| 18                                                      |  640                                                    | 744080                                                  | 43900720                                                | 0.45                                                    | /root/bucket2/contrarinesses-swimmings-long.mp4         | 59                                                      | hermanab@sbcglobal.net                                  | ca.gov                                                  |\n",
       "| 18                                                      | 1693                                                    | 798851                                                  | 46333358                                                | 0.36                                                    | /root/bucket2/accessarily-danton-long.mp4               | 58                                                      | hermanab@sbcglobal.net                                  | ca.gov                                                  |\n",
       "| 19                                                      |  165                                                    | 986277                                                  | 56217789                                                | 0.20                                                    | /root/bucket1/felching-shortarses-long.mp4              | 57                                                      | goldberg@aol.com                                        | ucoz.com                                                |\n",
       "| 19                                                      |  479                                                    | 627163                                                  | 32612476                                                | 0.13                                                    | /videos/2020-02-03/unappointed-endash-long.mp4          | 52                                                      | goldberg@aol.com                                        | ucoz.com                                                |\n",
       "| ... | ... | ... | ... | ... | ... | ... | ... | ... |\n",
       "| 142                                                  |   52                                                 | 390073                                               | 23014307                                             | 0.30                                                 | /root/bucket1/carboxylases-faint-long.mp4            | 59                                                   | bescoto@msn.com                                      | dailymotion.com                                      |\n",
       "| 142                                                  | 1891                                                 | 184945                                               | 10911755                                             | 0.11                                                 | /root/bucket2/signeurie-cotemporary-long.mp4         | 59                                                   | bescoto@msn.com                                      | dailymotion.com                                      |\n",
       "| 143                                                  | 1309                                                 | 878140                                               | 51810260                                             | 0.22                                                 | /root/bucket5/divinities-izars-long.mp4              | 59                                                   | skippy@yahoo.ca                                      | yellowbook.com                                       |\n",
       "| 143                                                  |  119                                                 | 313063                                               | 17218465                                             | 0.48                                                 | /root/bucket4/mathematician-beekeepers-long.mp4      | 55                                                   | skippy@yahoo.ca                                      | yellowbook.com                                       |\n",
       "| 144                                                  |  746                                                 | 127940                                               |  7676400                                             | 0.32                                                 | /root/bucket4/vexillologies-echinuses-long.mp4       | 60                                                   | dbrobins@outlook.com                                 | furl.net                                             |\n",
       "| 144                                                  | 1470                                                 |  29196                                               |  1722564                                             | 0.42                                                 | /videos/2020-02-02/divineress-febrile-long.mp4       | 59                                                   | dbrobins@outlook.com                                 | furl.net                                             |\n",
       "| 146                                                  |  666                                                 | 746940                                               | 42575580                                             | 0.16                                                 | /root/bucket3/bilabiate-belittler-long.mp4           | 57                                                   | heckerman@msn.com                                    | aol.com                                              |\n",
       "| 146                                                  |  321                                                 | 705166                                               | 35963466                                             | 0.44                                                 | /root/bucket1/cocks-sarrasins-long.mp4               | 51                                                   | heckerman@msn.com                                    | aol.com                                              |\n",
       "| 148                                                  |  169                                                 | 464237                                               | 27854220                                             | 0.42                                                 | /root/bucket2/preheats-haole-long.mp4                | 60                                                   | crowemojo@mac.com                                    | sohu.com                                             |\n",
       "| 148                                                  |  691                                                 | 573461                                               | 34407660                                             | 0.35                                                 | /videos/2020-02-02/forcibility-cowtrees-long.mp4     | 60                                                   | crowemojo@mac.com                                    | sohu.com                                             |\n",
       "| 149                                                  | 1678                                                 |  64114                                               |  3782726                                             | 0.30                                                 | /videos/2020-02-04/siffles-touse-long.mp4            | 59                                                   | gtewari@sbcglobal.net                                | smugmug.com                                          |\n",
       "| 149                                                  |  862                                                 | 874069                                               | 51570071                                             | 0.17                                                 | /root/bucket4/uranite-apolipoprotein-long.mp4        | 59                                                   | gtewari@sbcglobal.net                                | smugmug.com                                          |\n",
       "| 150                                                  | 1772                                                 |  26295                                               |  1367340                                             | 0.18                                                 | /root/bucket5/smalminess-shisos-long.mp4             | 52                                                   | kewley@mac.com                                       | ox.ac.uk                                             |\n",
       "| 150                                                  |  928                                                 | 512991                                               | 26162541                                             | 0.15                                                 | /videos/2020-02-04/rapidly-vacantnesses-long.mp4     | 51                                                   | kewley@mac.com                                       | ox.ac.uk                                             |\n",
       "| 151                                                  | 1816                                                 | 522332                                               | 30817588                                             | 0.49                                                 | /root/bucket5/outdrinks-apoptoses-long.mp4           | 59                                                   | pappp@gmail.com                                      | springer.com                                         |\n",
       "| 151                                                  |   73                                                 | 370162                                               | 20729072                                             | 0.50                                                 | /root/bucket1/verifying-galabieh-long.mp4            | 56                                                   | pappp@gmail.com                                      | springer.com                                         |\n",
       "| 154                                                  |  764                                                 | 247574                                               | 14359292                                             | 0.35                                                 | /root/bucket3/outbegs-hardbeams-long.mp4             | 58                                                   | murty@yahoo.com                                      | ebay.co.uk                                           |\n",
       "| 154                                                  |   19                                                 | 211650                                               | 11429100                                             | 0.32                                                 | /media/metalize-ridiculously-long.mp4                | 54                                                   | murty@yahoo.com                                      | ebay.co.uk                                           |\n",
       "| 155                                                  |  938                                                 | 310685                                               | 17398360                                             | 0.10                                                 | /root/bucket3/decumbencies-lairy-long.mp4            | 56                                                   | sthomas@yahoo.com                                    | foxnews.com                                          |\n",
       "| 155                                                  |  926                                                 | 602726                                               | 32547204                                             | 0.21                                                 | /videos/2020-02-01/lurch-galivant-long.mp4           | 54                                                   | sthomas@yahoo.com                                    | foxnews.com                                          |\n",
       "| 156                                                  |  834                                                 | 489643                                               | 28399294                                             | 0.15                                                 | /root/bucket4/turaco-mentorings-long.mp4             | 58                                                   | stinson@comcast.net                                  | shinystat.com                                        |\n",
       "| 156                                                  | 1903                                                 | 815185                                               | 44835175                                             | 0.23                                                 | /root/bucket3/sitosterols-monture-long.mp4           | 55                                                   | stinson@comcast.net                                  | shinystat.com                                        |\n",
       "| 157                                                  |  286                                                 |  52653                                               |  2895915                                             | 0.26                                                 | /videos/2020-02-04/chields-hoten-long.mp4            | 55                                                   | larry@icloud.com                                     | slate.com                                            |\n",
       "| 157                                                  | 1984                                                 | 853441                                               | 46085814                                             | 0.40                                                 | /root/bucket2/embus-slotback-long.mp4                | 54                                                   | larry@icloud.com                                     | slate.com                                            |\n",
       "| 158                                                  |  309                                                 |   1501                                               |    90060                                             | 0.34                                                 | /root/bucket3/unelectrified-gallicise-long.mp4       | 60                                                   | crusader@yahoo.ca                                    | feedburner.com                                       |\n",
       "| 158                                                  |  746                                                 |   1498                                               |    89880                                             | 0.39                                                 | /root/bucket4/vexillologies-echinuses-long.mp4       | 60                                                   | crusader@yahoo.ca                                    | feedburner.com                                       |\n",
       "| 159                                                  |  455                                                 |   1507                                               |    90420                                             | 0.21                                                 | /root/bucket4/abandonment-distinctness-long.mp4      | 60                                                   | timtroyr@mac.com                                     | wired.com                                            |\n",
       "| 159                                                  | 1108                                                 |   1509                                               |    90540                                             | 0.27                                                 | /root/bucket3/dictatorialness-trillionaires-long.mp4 | 60                                                   | timtroyr@mac.com                                     | wired.com                                            |\n",
       "| 162                                                  |  308                                                 |   1499                                               |    89940                                             | 0.27                                                 | /videos/2020-02-01/lamenters-namaste-long.mp4        | 60                                                   | dodong@sbcglobal.net                                 | cnet.com                                             |\n",
       "| 162                                                  |  718                                                 |   1493                                               |    89580                                             | 0.16                                                 | /root/bucket1/pulsidge-spectrometric-long.mp4        | 60                                                   | dodong@sbcglobal.net                                 | cnet.com                                             |\n",
       "\n"
      ],
      "text/plain": [
       "    platform_id video_id watch_count total_time_watched price_per_watch\n",
       "1    1          1510     777880      44339160           0.37           \n",
       "2    1          1499     979774      53887570           0.28           \n",
       "3    3           759     704430      41561370           0.49           \n",
       "4    3          1787     489371      27404776           0.46           \n",
       "5    4          1816     249938      14746342           0.49           \n",
       "6    4           759     512230      30221570           0.24           \n",
       "7    5           113     204998      11479888           0.13           \n",
       "8    5           667      77311       4020172           0.49           \n",
       "9    6           577     383561      20328733           0.15           \n",
       "10   6          1912     428507      20568336           0.17           \n",
       "11   7          1470     460924      27194516           0.14           \n",
       "12   7          1603     498004      27390220           0.24           \n",
       "13   8           979     486078      27706446           0.13           \n",
       "14   8            16     622161      35463177           0.35           \n",
       "15   9          1374     478998      28739880           0.33           \n",
       "16   9          1757     399444      23167752           0.33           \n",
       "17  10          1678     167362       9874358           0.19           \n",
       "18  10          1015     853176      49484208           0.36           \n",
       "19  13           308     566020      33961200           0.20           \n",
       "20  13           318     935065      49558445           0.23           \n",
       "21  14          1108     470507      28230420           0.33           \n",
       "22  14           415     309185      17932730           0.22           \n",
       "23  15           968     959319      57559140           0.26           \n",
       "24  15          1055     250200      12510000           0.17           \n",
       "25  17           144     108653       6193221           0.46           \n",
       "26  17           794      72683       3997565           0.11           \n",
       "27  18           640     744080      43900720           0.45           \n",
       "28  18          1693     798851      46333358           0.36           \n",
       "29  19           165     986277      56217789           0.20           \n",
       "30  19           479     627163      32612476           0.13           \n",
       "... ...         ...      ...         ...                ...            \n",
       "215 142           52     390073      23014307           0.30           \n",
       "216 142         1891     184945      10911755           0.11           \n",
       "217 143         1309     878140      51810260           0.22           \n",
       "218 143          119     313063      17218465           0.48           \n",
       "219 144          746     127940       7676400           0.32           \n",
       "220 144         1470      29196       1722564           0.42           \n",
       "221 146          666     746940      42575580           0.16           \n",
       "222 146          321     705166      35963466           0.44           \n",
       "223 148          169     464237      27854220           0.42           \n",
       "224 148          691     573461      34407660           0.35           \n",
       "225 149         1678      64114       3782726           0.30           \n",
       "226 149          862     874069      51570071           0.17           \n",
       "227 150         1772      26295       1367340           0.18           \n",
       "228 150          928     512991      26162541           0.15           \n",
       "229 151         1816     522332      30817588           0.49           \n",
       "230 151           73     370162      20729072           0.50           \n",
       "231 154          764     247574      14359292           0.35           \n",
       "232 154           19     211650      11429100           0.32           \n",
       "233 155          938     310685      17398360           0.10           \n",
       "234 155          926     602726      32547204           0.21           \n",
       "235 156          834     489643      28399294           0.15           \n",
       "236 156         1903     815185      44835175           0.23           \n",
       "237 157          286      52653       2895915           0.26           \n",
       "238 157         1984     853441      46085814           0.40           \n",
       "239 158          309       1501         90060           0.34           \n",
       "240 158          746       1498         89880           0.39           \n",
       "241 159          455       1507         90420           0.21           \n",
       "242 159         1108       1509         90540           0.27           \n",
       "243 162          308       1499         89940           0.27           \n",
       "244 162          718       1493         89580           0.16           \n",
       "    path                                                    duration\n",
       "1   /videos/2020-02-02/flittering-containerise-long.mp4     57      \n",
       "2   /videos/2020-02-04/mycovirus-nattering-long.mp4         55      \n",
       "3   /videos/2020-02-01/lollapalooza-unexploded-long.mp4     59      \n",
       "4   /videos/2020-02-03/bewrayed-emanations-long.mp4         56      \n",
       "5   /root/bucket5/outdrinks-apoptoses-long.mp4              59      \n",
       "6   /videos/2020-02-01/lollapalooza-unexploded-long.mp4     59      \n",
       "7   /root/bucket1/electrophysiologically-toothless-long.mp4 56      \n",
       "8   /root/bucket5/miniaturizes-beacon-long.mp4              52      \n",
       "9   /root/bucket1/clofibrates-divisional-long.mp4           53      \n",
       "10  /videos/2020-02-04/solely-hemocyte-long.mp4             48      \n",
       "11  /videos/2020-02-02/divineress-febrile-long.mp4          59      \n",
       "12  /videos/2020-02-04/switchier-catalyst-long.mp4          55      \n",
       "13  /videos/2020-02-03/eyeshadows-disentrail-long.mp4       57      \n",
       "14  /root/bucket1/lightninged-cholestyramine-long.mp4       57      \n",
       "15  /root/bucket2/buckayro-halloes-long.mp4                 60      \n",
       "16  /root/bucket5/definability-insofar-long.mp4             58      \n",
       "17  /videos/2020-02-04/siffles-touse-long.mp4               59      \n",
       "18  /root/bucket3/manoscopy-naifer-long.mp4                 58      \n",
       "19  /videos/2020-02-01/lamenters-namaste-long.mp4           60      \n",
       "20  /root/bucket4/coprophagies-fantads-long.mp4             53      \n",
       "21  /root/bucket3/dictatorialness-trillionaires-long.mp4    60      \n",
       "22  /videos/2020-02-04/dueled-antibioses-long.mp4           58      \n",
       "23  /media/counterarguments-bagpiping-long.mp4              60      \n",
       "24  /root/bucket4/stigmatiser-preplaces-long.mp4            50      \n",
       "25  /root/bucket2/howling-oeuvre-long.mp4                   57      \n",
       "26  /root/bucket5/bordereau-inquisitive-long.mp4            55      \n",
       "27  /root/bucket2/contrarinesses-swimmings-long.mp4         59      \n",
       "28  /root/bucket2/accessarily-danton-long.mp4               58      \n",
       "29  /root/bucket1/felching-shortarses-long.mp4              57      \n",
       "30  /videos/2020-02-03/unappointed-endash-long.mp4          52      \n",
       "... ...                                                     ...     \n",
       "215 /root/bucket1/carboxylases-faint-long.mp4               59      \n",
       "216 /root/bucket2/signeurie-cotemporary-long.mp4            59      \n",
       "217 /root/bucket5/divinities-izars-long.mp4                 59      \n",
       "218 /root/bucket4/mathematician-beekeepers-long.mp4         55      \n",
       "219 /root/bucket4/vexillologies-echinuses-long.mp4          60      \n",
       "220 /videos/2020-02-02/divineress-febrile-long.mp4          59      \n",
       "221 /root/bucket3/bilabiate-belittler-long.mp4              57      \n",
       "222 /root/bucket1/cocks-sarrasins-long.mp4                  51      \n",
       "223 /root/bucket2/preheats-haole-long.mp4                   60      \n",
       "224 /videos/2020-02-02/forcibility-cowtrees-long.mp4        60      \n",
       "225 /videos/2020-02-04/siffles-touse-long.mp4               59      \n",
       "226 /root/bucket4/uranite-apolipoprotein-long.mp4           59      \n",
       "227 /root/bucket5/smalminess-shisos-long.mp4                52      \n",
       "228 /videos/2020-02-04/rapidly-vacantnesses-long.mp4        51      \n",
       "229 /root/bucket5/outdrinks-apoptoses-long.mp4              59      \n",
       "230 /root/bucket1/verifying-galabieh-long.mp4               56      \n",
       "231 /root/bucket3/outbegs-hardbeams-long.mp4                58      \n",
       "232 /media/metalize-ridiculously-long.mp4                   54      \n",
       "233 /root/bucket3/decumbencies-lairy-long.mp4               56      \n",
       "234 /videos/2020-02-01/lurch-galivant-long.mp4              54      \n",
       "235 /root/bucket4/turaco-mentorings-long.mp4                58      \n",
       "236 /root/bucket3/sitosterols-monture-long.mp4              55      \n",
       "237 /videos/2020-02-04/chields-hoten-long.mp4               55      \n",
       "238 /root/bucket2/embus-slotback-long.mp4                   54      \n",
       "239 /root/bucket3/unelectrified-gallicise-long.mp4          60      \n",
       "240 /root/bucket4/vexillologies-echinuses-long.mp4          60      \n",
       "241 /root/bucket4/abandonment-distinctness-long.mp4         60      \n",
       "242 /root/bucket3/dictatorialness-trillionaires-long.mp4    60      \n",
       "243 /videos/2020-02-01/lamenters-namaste-long.mp4           60      \n",
       "244 /root/bucket1/pulsidge-spectrometric-long.mp4           60      \n",
       "    contact_mail           website            \n",
       "1   crandall@comcast.net   google.com.hk      \n",
       "2   crandall@comcast.net   google.com.hk      \n",
       "3   caronni@comcast.net    facebook.com       \n",
       "4   caronni@comcast.net    facebook.com       \n",
       "5   ninenine@me.com        nymag.com          \n",
       "6   ninenine@me.com        nymag.com          \n",
       "7   animats@yahoo.com      bravesites.com     \n",
       "8   animats@yahoo.com      bravesites.com     \n",
       "9   seurat@yahoo.ca        comcast.net        \n",
       "10  seurat@yahoo.ca        comcast.net        \n",
       "11  ylchang@me.com         spiegel.de         \n",
       "12  ylchang@me.com         spiegel.de         \n",
       "13  rsteiner@optonline.net japanpost.jp       \n",
       "14  rsteiner@optonline.net japanpost.jp       \n",
       "15  unreal@hotmail.com     slideshare.net     \n",
       "16  unreal@hotmail.com     slideshare.net     \n",
       "17  clkao@gmail.com        pbs.org            \n",
       "18  clkao@gmail.com        pbs.org            \n",
       "19  knorr@comcast.net      china.com.cn       \n",
       "20  knorr@comcast.net      china.com.cn       \n",
       "21  jdhedden@msn.com       creativecommons.org\n",
       "22  jdhedden@msn.com       creativecommons.org\n",
       "23  crypt@hotmail.com      jigsy.com          \n",
       "24  crypt@hotmail.com      jigsy.com          \n",
       "25  william@sbcglobal.net  elegantthemes.com  \n",
       "26  william@sbcglobal.net  elegantthemes.com  \n",
       "27  hermanab@sbcglobal.net ca.gov             \n",
       "28  hermanab@sbcglobal.net ca.gov             \n",
       "29  goldberg@aol.com       ucoz.com           \n",
       "30  goldberg@aol.com       ucoz.com           \n",
       "... ...                    ...                \n",
       "215 bescoto@msn.com        dailymotion.com    \n",
       "216 bescoto@msn.com        dailymotion.com    \n",
       "217 skippy@yahoo.ca        yellowbook.com     \n",
       "218 skippy@yahoo.ca        yellowbook.com     \n",
       "219 dbrobins@outlook.com   furl.net           \n",
       "220 dbrobins@outlook.com   furl.net           \n",
       "221 heckerman@msn.com      aol.com            \n",
       "222 heckerman@msn.com      aol.com            \n",
       "223 crowemojo@mac.com      sohu.com           \n",
       "224 crowemojo@mac.com      sohu.com           \n",
       "225 gtewari@sbcglobal.net  smugmug.com        \n",
       "226 gtewari@sbcglobal.net  smugmug.com        \n",
       "227 kewley@mac.com         ox.ac.uk           \n",
       "228 kewley@mac.com         ox.ac.uk           \n",
       "229 pappp@gmail.com        springer.com       \n",
       "230 pappp@gmail.com        springer.com       \n",
       "231 murty@yahoo.com        ebay.co.uk         \n",
       "232 murty@yahoo.com        ebay.co.uk         \n",
       "233 sthomas@yahoo.com      foxnews.com        \n",
       "234 sthomas@yahoo.com      foxnews.com        \n",
       "235 stinson@comcast.net    shinystat.com      \n",
       "236 stinson@comcast.net    shinystat.com      \n",
       "237 larry@icloud.com       slate.com          \n",
       "238 larry@icloud.com       slate.com          \n",
       "239 crusader@yahoo.ca      feedburner.com     \n",
       "240 crusader@yahoo.ca      feedburner.com     \n",
       "241 timtroyr@mac.com       wired.com          \n",
       "242 timtroyr@mac.com       wired.com          \n",
       "243 dodong@sbcglobal.net   cnet.com           \n",
       "244 dodong@sbcglobal.net   cnet.com           "
      ]
     },
     "metadata": {},
     "output_type": "display_data"
    }
   ],
   "source": [
    "#Find top 2 ads for each website\n",
    "\n",
    "ad_stats_vid_plat %>% \n",
    "group_by(platform_id) %>% \n",
    "filter(website!=\"null\") %>% \n",
    "filter(contact_mail!=\"null\") %>% \n",
    "drop_na() %>% \n",
    "arrange(desc(duration)) %>% \n",
    "slice(1:2)"
   ]
  },
  {
   "cell_type": "code",
   "execution_count": 143,
   "id": "d5bdd2da",
   "metadata": {},
   "outputs": [
    {
     "data": {
      "text/html": [
       "<table>\n",
       "<thead><tr><th scope=col>website</th><th scope=col>websum</th></tr></thead>\n",
       "<tbody>\n",
       "\t<tr><td>feedburner.com  </td><td>15526           </td></tr>\n",
       "\t<tr><td>wired.com       </td><td>15180           </td></tr>\n",
       "\t<tr><td>cnet.com        </td><td>14335           </td></tr>\n",
       "\t<tr><td>google.com.hk   </td><td> 2278           </td></tr>\n",
       "\t<tr><td>businesswire.com</td><td> 2114           </td></tr>\n",
       "\t<tr><td>furl.net        </td><td> 2037           </td></tr>\n",
       "\t<tr><td>ustream.tv      </td><td> 2035           </td></tr>\n",
       "\t<tr><td>salon.com       </td><td> 1960           </td></tr>\n",
       "\t<tr><td>wordpress.org   </td><td> 1896           </td></tr>\n",
       "\t<tr><td>spiegel.de      </td><td> 1877           </td></tr>\n",
       "</tbody>\n",
       "</table>\n"
      ],
      "text/latex": [
       "\\begin{tabular}{r|ll}\n",
       " website & websum\\\\\n",
       "\\hline\n",
       "\t feedburner.com   & 15526           \\\\\n",
       "\t wired.com        & 15180           \\\\\n",
       "\t cnet.com         & 14335           \\\\\n",
       "\t google.com.hk    &  2278           \\\\\n",
       "\t businesswire.com &  2114           \\\\\n",
       "\t furl.net         &  2037           \\\\\n",
       "\t ustream.tv       &  2035           \\\\\n",
       "\t salon.com        &  1960           \\\\\n",
       "\t wordpress.org    &  1896           \\\\\n",
       "\t spiegel.de       &  1877           \\\\\n",
       "\\end{tabular}\n"
      ],
      "text/markdown": [
       "\n",
       "| website | websum |\n",
       "|---|---|\n",
       "| feedburner.com   | 15526            |\n",
       "| wired.com        | 15180            |\n",
       "| cnet.com         | 14335            |\n",
       "| google.com.hk    |  2278            |\n",
       "| businesswire.com |  2114            |\n",
       "| furl.net         |  2037            |\n",
       "| ustream.tv       |  2035            |\n",
       "| salon.com        |  1960            |\n",
       "| wordpress.org    |  1896            |\n",
       "| spiegel.de       |  1877            |\n",
       "\n"
      ],
      "text/plain": [
       "   website          websum\n",
       "1  feedburner.com   15526 \n",
       "2  wired.com        15180 \n",
       "3  cnet.com         14335 \n",
       "4  google.com.hk     2278 \n",
       "5  businesswire.com  2114 \n",
       "6  furl.net          2037 \n",
       "7  ustream.tv        2035 \n",
       "8  salon.com         1960 \n",
       "9  wordpress.org     1896 \n",
       "10 spiegel.de        1877 "
      ]
     },
     "metadata": {},
     "output_type": "display_data"
    }
   ],
   "source": [
    "#Find top 10 website based on ad duration\n",
    "\n",
    "ad_stats_vid_plat %>% \n",
    "group_by(website) %>% \n",
    "filter(website!=\"null\") %>% \n",
    "filter(contact_mail!=\"null\") %>% \n",
    "drop_na() %>% \n",
    "summarise(websum= sum(duration)) %>% \n",
    "arrange(desc(websum)) %>% \n",
    "slice(1:10)"
   ]
  },
  {
   "cell_type": "code",
   "execution_count": 148,
   "id": "ddcdd051",
   "metadata": {},
   "outputs": [
    {
     "data": {
      "text/html": [
       "<table>\n",
       "<thead><tr><th scope=col>platform_id</th><th scope=col>video_id</th><th scope=col>watch_count</th><th scope=col>total_time_watched</th><th scope=col>price_per_watch</th><th scope=col>path</th><th scope=col>duration</th><th scope=col>contact_mail</th><th scope=col>website</th></tr></thead>\n",
       "<tbody>\n",
       "\t<tr><td> 3                                                 </td><td> 759                                               </td><td>704430                                             </td><td>41561370                                           </td><td>0.49                                               </td><td>/videos/2020-02-01/lollapalooza-unexploded-long.mp4</td><td>59                                                 </td><td>caronni@comcast.net                                </td><td>facebook.com                                       </td></tr>\n",
       "\t<tr><td> 3                                                 </td><td>1787                                               </td><td>489371                                             </td><td>27404776                                           </td><td>0.46                                               </td><td>/videos/2020-02-03/bewrayed-emanations-long.mp4    </td><td>56                                                 </td><td>caronni@comcast.net                                </td><td>facebook.com                                       </td></tr>\n",
       "\t<tr><td>74                                                 </td><td>1260                                               </td><td>321783                                             </td><td>18985197                                           </td><td>0.49                                               </td><td>/videos/2020-02-02/sows-mairehau-long.mp4          </td><td>59                                                 </td><td>roesch@sbcglobal.net                               </td><td>facebook.com                                       </td></tr>\n",
       "\t<tr><td>74                                                 </td><td>1899                                               </td><td>265027                                             </td><td>15636593                                           </td><td>0.16                                               </td><td>/root/bucket1/begorra-hobdayed-long.mp4            </td><td>59                                                 </td><td>roesch@sbcglobal.net                               </td><td>facebook.com                                       </td></tr>\n",
       "</tbody>\n",
       "</table>\n"
      ],
      "text/latex": [
       "\\begin{tabular}{r|lllllllll}\n",
       " platform\\_id & video\\_id & watch\\_count & total\\_time\\_watched & price\\_per\\_watch & path & duration & contact\\_mail & website\\\\\n",
       "\\hline\n",
       "\t  3                                                  &  759                                                & 704430                                              & 41561370                                            & 0.49                                                & /videos/2020-02-01/lollapalooza-unexploded-long.mp4 & 59                                                  & caronni@comcast.net                                 & facebook.com                                       \\\\\n",
       "\t  3                                                  & 1787                                                & 489371                                              & 27404776                                            & 0.46                                                & /videos/2020-02-03/bewrayed-emanations-long.mp4     & 56                                                  & caronni@comcast.net                                 & facebook.com                                       \\\\\n",
       "\t 74                                                  & 1260                                                & 321783                                              & 18985197                                            & 0.49                                                & /videos/2020-02-02/sows-mairehau-long.mp4           & 59                                                  & roesch@sbcglobal.net                                & facebook.com                                       \\\\\n",
       "\t 74                                                  & 1899                                                & 265027                                              & 15636593                                            & 0.16                                                & /root/bucket1/begorra-hobdayed-long.mp4             & 59                                                  & roesch@sbcglobal.net                                & facebook.com                                       \\\\\n",
       "\\end{tabular}\n"
      ],
      "text/markdown": [
       "\n",
       "| platform_id | video_id | watch_count | total_time_watched | price_per_watch | path | duration | contact_mail | website |\n",
       "|---|---|---|---|---|---|---|---|---|\n",
       "|  3                                                  |  759                                                | 704430                                              | 41561370                                            | 0.49                                                | /videos/2020-02-01/lollapalooza-unexploded-long.mp4 | 59                                                  | caronni@comcast.net                                 | facebook.com                                        |\n",
       "|  3                                                  | 1787                                                | 489371                                              | 27404776                                            | 0.46                                                | /videos/2020-02-03/bewrayed-emanations-long.mp4     | 56                                                  | caronni@comcast.net                                 | facebook.com                                        |\n",
       "| 74                                                  | 1260                                                | 321783                                              | 18985197                                            | 0.49                                                | /videos/2020-02-02/sows-mairehau-long.mp4           | 59                                                  | roesch@sbcglobal.net                                | facebook.com                                        |\n",
       "| 74                                                  | 1899                                                | 265027                                              | 15636593                                            | 0.16                                                | /root/bucket1/begorra-hobdayed-long.mp4             | 59                                                  | roesch@sbcglobal.net                                | facebook.com                                        |\n",
       "\n"
      ],
      "text/plain": [
       "  platform_id video_id watch_count total_time_watched price_per_watch\n",
       "1  3           759     704430      41561370           0.49           \n",
       "2  3          1787     489371      27404776           0.46           \n",
       "3 74          1260     321783      18985197           0.49           \n",
       "4 74          1899     265027      15636593           0.16           \n",
       "  path                                                duration\n",
       "1 /videos/2020-02-01/lollapalooza-unexploded-long.mp4 59      \n",
       "2 /videos/2020-02-03/bewrayed-emanations-long.mp4     56      \n",
       "3 /videos/2020-02-02/sows-mairehau-long.mp4           59      \n",
       "4 /root/bucket1/begorra-hobdayed-long.mp4             59      \n",
       "  contact_mail         website     \n",
       "1 caronni@comcast.net  facebook.com\n",
       "2 caronni@comcast.net  facebook.com\n",
       "3 roesch@sbcglobal.net facebook.com\n",
       "4 roesch@sbcglobal.net facebook.com"
      ]
     },
     "metadata": {},
     "output_type": "display_data"
    }
   ],
   "source": [
    "#rank the adds placed on facebook \n",
    "\n",
    "ad_stats_vid_plat %>% \n",
    "group_by(platform_id) %>% \n",
    "filter(website=='facebook.com') %>% \n",
    "drop_na() %>% \n",
    "arrange(desc(duration)) %>% \n",
    "slice(1:2)"
   ]
  },
  {
   "cell_type": "code",
   "execution_count": 149,
   "id": "984a9b89",
   "metadata": {},
   "outputs": [
    {
     "data": {
      "text/html": [
       "<table>\n",
       "<thead><tr><th scope=col>id</th><th scope=col>date</th><th scope=col>time_slot</th><th scope=col>total_user_time_spent_in_mins</th><th scope=col>total_ads_watched_in_mins</th><th scope=col>ads_clicked</th><th scope=col>user_time_spent_versionB_in_mins</th><th scope=col>ads_watched_vesionB_in_mins</th><th scope=col>ads_clicked_versionB</th><th scope=col>watching.total</th><th scope=col>VersionA_totaltime</th></tr></thead>\n",
       "<tbody>\n",
       "\t<tr><td>0          </td><td>6/1/2020   </td><td>00:00-05:59</td><td>214905     </td><td>  980      </td><td>12         </td><td>116048     </td><td>  980      </td><td>3          </td><td>0.004560154</td><td> 98857     </td></tr>\n",
       "\t<tr><td>1          </td><td>6/1/2020   </td><td>06:00-11:59</td><td>551095     </td><td>11211      </td><td>10         </td><td>374744     </td><td>11211      </td><td>3          </td><td>0.020343135</td><td>176351     </td></tr>\n",
       "\t<tr><td>2          </td><td>6/1/2020   </td><td>12:00-17:59</td><td>431187     </td><td>30576      </td><td> 4         </td><td>172474     </td><td>11206      </td><td>2          </td><td>0.070911229</td><td>258713     </td></tr>\n",
       "\t<tr><td>3          </td><td>6/1/2020   </td><td>18:00-23:59</td><td>335226     </td><td> 4788      </td><td>27         </td><td>241362     </td><td> 4788      </td><td>7          </td><td>0.014282902</td><td> 93864     </td></tr>\n",
       "\t<tr><td>4          </td><td>6/2/2020   </td><td>00:00-05:59</td><td>396146     </td><td>34068      </td><td>11         </td><td>277302     </td><td>13574      </td><td>6          </td><td>0.085998596</td><td>118844     </td></tr>\n",
       "\t<tr><td>5          </td><td>6/2/2020   </td><td>06:00-11:59</td><td>356705     </td><td> 9513      </td><td>10         </td><td>256827     </td><td> 8317      </td><td>5          </td><td>0.026669096</td><td> 99878     </td></tr>\n",
       "</tbody>\n",
       "</table>\n"
      ],
      "text/latex": [
       "\\begin{tabular}{r|lllllllllll}\n",
       " id & date & time\\_slot & total\\_user\\_time\\_spent\\_in\\_mins & total\\_ads\\_watched\\_in\\_mins & ads\\_clicked & user\\_time\\_spent\\_versionB\\_in\\_mins & ads\\_watched\\_vesionB\\_in\\_mins & ads\\_clicked\\_versionB & watching.total & VersionA\\_totaltime\\\\\n",
       "\\hline\n",
       "\t 0           & 6/1/2020    & 00:00-05:59 & 214905      &   980       & 12          & 116048      &   980       & 3           & 0.004560154 &  98857     \\\\\n",
       "\t 1           & 6/1/2020    & 06:00-11:59 & 551095      & 11211       & 10          & 374744      & 11211       & 3           & 0.020343135 & 176351     \\\\\n",
       "\t 2           & 6/1/2020    & 12:00-17:59 & 431187      & 30576       &  4          & 172474      & 11206       & 2           & 0.070911229 & 258713     \\\\\n",
       "\t 3           & 6/1/2020    & 18:00-23:59 & 335226      &  4788       & 27          & 241362      &  4788       & 7           & 0.014282902 &  93864     \\\\\n",
       "\t 4           & 6/2/2020    & 00:00-05:59 & 396146      & 34068       & 11          & 277302      & 13574       & 6           & 0.085998596 & 118844     \\\\\n",
       "\t 5           & 6/2/2020    & 06:00-11:59 & 356705      &  9513       & 10          & 256827      &  8317       & 5           & 0.026669096 &  99878     \\\\\n",
       "\\end{tabular}\n"
      ],
      "text/markdown": [
       "\n",
       "| id | date | time_slot | total_user_time_spent_in_mins | total_ads_watched_in_mins | ads_clicked | user_time_spent_versionB_in_mins | ads_watched_vesionB_in_mins | ads_clicked_versionB | watching.total | VersionA_totaltime |\n",
       "|---|---|---|---|---|---|---|---|---|---|---|\n",
       "| 0           | 6/1/2020    | 00:00-05:59 | 214905      |   980       | 12          | 116048      |   980       | 3           | 0.004560154 |  98857      |\n",
       "| 1           | 6/1/2020    | 06:00-11:59 | 551095      | 11211       | 10          | 374744      | 11211       | 3           | 0.020343135 | 176351      |\n",
       "| 2           | 6/1/2020    | 12:00-17:59 | 431187      | 30576       |  4          | 172474      | 11206       | 2           | 0.070911229 | 258713      |\n",
       "| 3           | 6/1/2020    | 18:00-23:59 | 335226      |  4788       | 27          | 241362      |  4788       | 7           | 0.014282902 |  93864      |\n",
       "| 4           | 6/2/2020    | 00:00-05:59 | 396146      | 34068       | 11          | 277302      | 13574       | 6           | 0.085998596 | 118844      |\n",
       "| 5           | 6/2/2020    | 06:00-11:59 | 356705      |  9513       | 10          | 256827      |  8317       | 5           | 0.026669096 |  99878      |\n",
       "\n"
      ],
      "text/plain": [
       "  id date     time_slot   total_user_time_spent_in_mins\n",
       "1 0  6/1/2020 00:00-05:59 214905                       \n",
       "2 1  6/1/2020 06:00-11:59 551095                       \n",
       "3 2  6/1/2020 12:00-17:59 431187                       \n",
       "4 3  6/1/2020 18:00-23:59 335226                       \n",
       "5 4  6/2/2020 00:00-05:59 396146                       \n",
       "6 5  6/2/2020 06:00-11:59 356705                       \n",
       "  total_ads_watched_in_mins ads_clicked user_time_spent_versionB_in_mins\n",
       "1   980                     12          116048                          \n",
       "2 11211                     10          374744                          \n",
       "3 30576                      4          172474                          \n",
       "4  4788                     27          241362                          \n",
       "5 34068                     11          277302                          \n",
       "6  9513                     10          256827                          \n",
       "  ads_watched_vesionB_in_mins ads_clicked_versionB watching.total\n",
       "1   980                       3                    0.004560154   \n",
       "2 11211                       3                    0.020343135   \n",
       "3 11206                       2                    0.070911229   \n",
       "4  4788                       7                    0.014282902   \n",
       "5 13574                       6                    0.085998596   \n",
       "6  8317                       5                    0.026669096   \n",
       "  VersionA_totaltime\n",
       "1  98857            \n",
       "2 176351            \n",
       "3 258713            \n",
       "4  93864            \n",
       "5 118844            \n",
       "6  99878            "
      ]
     },
     "metadata": {},
     "output_type": "display_data"
    }
   ],
   "source": [
    "A_B<-read.csv(file.choose(),header=T)\n",
    "\n",
    "head(A_B)"
   ]
  },
  {
   "cell_type": "code",
   "execution_count": 155,
   "id": "6f1a50b9",
   "metadata": {
    "scrolled": true
   },
   "outputs": [
    {
     "data": {
      "text/html": [
       "<table>\n",
       "<thead><tr><th scope=col>id</th><th scope=col>date</th><th scope=col>time_slot</th><th scope=col>total_user_time_spent_in_mins</th><th scope=col>total_ads_watched_in_mins</th><th scope=col>ads_clicked</th><th scope=col>user_time_spent_versionB_in_mins</th><th scope=col>ads_watched_vesionB_in_mins</th><th scope=col>ads_clicked_versionB</th><th scope=col>watching.total</th><th scope=col>VersionA_totaltime</th></tr></thead>\n",
       "<tbody>\n",
       "\t<tr><td> 28        </td><td>6/8/2020   </td><td>00:00-05:59</td><td>335178     </td><td>27494      </td><td>38         </td><td>174292     </td><td>15400      </td><td>19         </td><td>0.082028057</td><td>160886     </td></tr>\n",
       "\t<tr><td>113        </td><td>6/29/2020  </td><td>06:00-11:59</td><td>433690     </td><td> 4779      </td><td>33         </td><td>182149     </td><td> 4779      </td><td>17         </td><td>0.011019392</td><td>251541     </td></tr>\n",
       "\t<tr><td>102        </td><td>6/26/2020  </td><td>12:00-17:59</td><td>391125     </td><td>17294      </td><td>39         </td><td>164272     </td><td>12696      </td><td>17         </td><td>0.044216043</td><td>226853     </td></tr>\n",
       "\t<tr><td> 91        </td><td>6/23/2020  </td><td>18:00-23:59</td><td>450744     </td><td>  509      </td><td>45         </td><td>225372     </td><td>  509      </td><td>11         </td><td>0.001129244</td><td>225372     </td></tr>\n",
       "</tbody>\n",
       "</table>\n"
      ],
      "text/latex": [
       "\\begin{tabular}{r|lllllllllll}\n",
       " id & date & time\\_slot & total\\_user\\_time\\_spent\\_in\\_mins & total\\_ads\\_watched\\_in\\_mins & ads\\_clicked & user\\_time\\_spent\\_versionB\\_in\\_mins & ads\\_watched\\_vesionB\\_in\\_mins & ads\\_clicked\\_versionB & watching.total & VersionA\\_totaltime\\\\\n",
       "\\hline\n",
       "\t  28         & 6/8/2020    & 00:00-05:59 & 335178      & 27494       & 38          & 174292      & 15400       & 19          & 0.082028057 & 160886     \\\\\n",
       "\t 113         & 6/29/2020   & 06:00-11:59 & 433690      &  4779       & 33          & 182149      &  4779       & 17          & 0.011019392 & 251541     \\\\\n",
       "\t 102         & 6/26/2020   & 12:00-17:59 & 391125      & 17294       & 39          & 164272      & 12696       & 17          & 0.044216043 & 226853     \\\\\n",
       "\t  91         & 6/23/2020   & 18:00-23:59 & 450744      &   509       & 45          & 225372      &   509       & 11          & 0.001129244 & 225372     \\\\\n",
       "\\end{tabular}\n"
      ],
      "text/markdown": [
       "\n",
       "| id | date | time_slot | total_user_time_spent_in_mins | total_ads_watched_in_mins | ads_clicked | user_time_spent_versionB_in_mins | ads_watched_vesionB_in_mins | ads_clicked_versionB | watching.total | VersionA_totaltime |\n",
       "|---|---|---|---|---|---|---|---|---|---|---|\n",
       "|  28         | 6/8/2020    | 00:00-05:59 | 335178      | 27494       | 38          | 174292      | 15400       | 19          | 0.082028057 | 160886      |\n",
       "| 113         | 6/29/2020   | 06:00-11:59 | 433690      |  4779       | 33          | 182149      |  4779       | 17          | 0.011019392 | 251541      |\n",
       "| 102         | 6/26/2020   | 12:00-17:59 | 391125      | 17294       | 39          | 164272      | 12696       | 17          | 0.044216043 | 226853      |\n",
       "|  91         | 6/23/2020   | 18:00-23:59 | 450744      |   509       | 45          | 225372      |   509       | 11          | 0.001129244 | 225372      |\n",
       "\n"
      ],
      "text/plain": [
       "  id  date      time_slot   total_user_time_spent_in_mins\n",
       "1  28 6/8/2020  00:00-05:59 335178                       \n",
       "2 113 6/29/2020 06:00-11:59 433690                       \n",
       "3 102 6/26/2020 12:00-17:59 391125                       \n",
       "4  91 6/23/2020 18:00-23:59 450744                       \n",
       "  total_ads_watched_in_mins ads_clicked user_time_spent_versionB_in_mins\n",
       "1 27494                     38          174292                          \n",
       "2  4779                     33          182149                          \n",
       "3 17294                     39          164272                          \n",
       "4   509                     45          225372                          \n",
       "  ads_watched_vesionB_in_mins ads_clicked_versionB watching.total\n",
       "1 15400                       19                   0.082028057   \n",
       "2  4779                       17                   0.011019392   \n",
       "3 12696                       17                   0.044216043   \n",
       "4   509                       11                   0.001129244   \n",
       "  VersionA_totaltime\n",
       "1 160886            \n",
       "2 251541            \n",
       "3 226853            \n",
       "4 225372            "
      ]
     },
     "metadata": {},
     "output_type": "display_data"
    }
   ],
   "source": [
    "#Which time slot had the highest ads_clicked\n",
    "\n",
    "A_B %>% \n",
    "group_by(time_slot) %>% \n",
    "arrange(desc(ads_clicked)) %>% \n",
    "slice(1)\n",
    "\n",
    "\n",
    "\n"
   ]
  },
  {
   "cell_type": "code",
   "execution_count": 162,
   "id": "cf1aa535",
   "metadata": {},
   "outputs": [
    {
     "name": "stderr",
     "output_type": "stream",
     "text": [
      "Adding missing grouping variables: `time_slot`, `date`\n"
     ]
    },
    {
     "data": {
      "text/html": [
       "<table>\n",
       "<thead><tr><th scope=col>time_slot</th><th scope=col>date</th><th scope=col>ads_clicked_versionA</th><th scope=col>ads_clicked_versionB</th></tr></thead>\n",
       "<tbody>\n",
       "\t<tr><td>00:00-05:59</td><td>6/2/2020   </td><td> 5         </td><td> 6         </td></tr>\n",
       "\t<tr><td>00:00-05:59</td><td>6/4/2020   </td><td> 3         </td><td> 5         </td></tr>\n",
       "\t<tr><td>00:00-05:59</td><td>6/6/2020   </td><td> 5         </td><td>12         </td></tr>\n",
       "\t<tr><td>00:00-05:59</td><td>6/11/2020  </td><td> 7         </td><td> 8         </td></tr>\n",
       "\t<tr><td>00:00-05:59</td><td>6/13/2020  </td><td> 9         </td><td>18         </td></tr>\n",
       "\t<tr><td>00:00-05:59</td><td>6/14/2020  </td><td> 5         </td><td>10         </td></tr>\n",
       "\t<tr><td>00:00-05:59</td><td>6/19/2020  </td><td> 8         </td><td> 9         </td></tr>\n",
       "\t<tr><td>00:00-05:59</td><td>6/21/2020  </td><td> 8         </td><td> 9         </td></tr>\n",
       "\t<tr><td>00:00-05:59</td><td>6/25/2020  </td><td>12         </td><td>15         </td></tr>\n",
       "</tbody>\n",
       "</table>\n"
      ],
      "text/latex": [
       "\\begin{tabular}{r|llll}\n",
       " time\\_slot & date & ads\\_clicked\\_versionA & ads\\_clicked\\_versionB\\\\\n",
       "\\hline\n",
       "\t 00:00-05:59 & 6/2/2020    &  5          &  6         \\\\\n",
       "\t 00:00-05:59 & 6/4/2020    &  3          &  5         \\\\\n",
       "\t 00:00-05:59 & 6/6/2020    &  5          & 12         \\\\\n",
       "\t 00:00-05:59 & 6/11/2020   &  7          &  8         \\\\\n",
       "\t 00:00-05:59 & 6/13/2020   &  9          & 18         \\\\\n",
       "\t 00:00-05:59 & 6/14/2020   &  5          & 10         \\\\\n",
       "\t 00:00-05:59 & 6/19/2020   &  8          &  9         \\\\\n",
       "\t 00:00-05:59 & 6/21/2020   &  8          &  9         \\\\\n",
       "\t 00:00-05:59 & 6/25/2020   & 12          & 15         \\\\\n",
       "\\end{tabular}\n"
      ],
      "text/markdown": [
       "\n",
       "| time_slot | date | ads_clicked_versionA | ads_clicked_versionB |\n",
       "|---|---|---|---|\n",
       "| 00:00-05:59 | 6/2/2020    |  5          |  6          |\n",
       "| 00:00-05:59 | 6/4/2020    |  3          |  5          |\n",
       "| 00:00-05:59 | 6/6/2020    |  5          | 12          |\n",
       "| 00:00-05:59 | 6/11/2020   |  7          |  8          |\n",
       "| 00:00-05:59 | 6/13/2020   |  9          | 18          |\n",
       "| 00:00-05:59 | 6/14/2020   |  5          | 10          |\n",
       "| 00:00-05:59 | 6/19/2020   |  8          |  9          |\n",
       "| 00:00-05:59 | 6/21/2020   |  8          |  9          |\n",
       "| 00:00-05:59 | 6/25/2020   | 12          | 15          |\n",
       "\n"
      ],
      "text/plain": [
       "  time_slot   date      ads_clicked_versionA ads_clicked_versionB\n",
       "1 00:00-05:59 6/2/2020   5                    6                  \n",
       "2 00:00-05:59 6/4/2020   3                    5                  \n",
       "3 00:00-05:59 6/6/2020   5                   12                  \n",
       "4 00:00-05:59 6/11/2020  7                    8                  \n",
       "5 00:00-05:59 6/13/2020  9                   18                  \n",
       "6 00:00-05:59 6/14/2020  5                   10                  \n",
       "7 00:00-05:59 6/19/2020  8                    9                  \n",
       "8 00:00-05:59 6/21/2020  8                    9                  \n",
       "9 00:00-05:59 6/25/2020 12                   15                  "
      ]
     },
     "metadata": {},
     "output_type": "display_data"
    }
   ],
   "source": [
    "#show time slots where ads clicked in version B is greater than A during 00:00 - 05:59 \n",
    "A_B %>% \n",
    "group_by(time_slot,date) %>% \n",
    "mutate(ads_clicked_versionA= ads_clicked- ads_clicked_versionB) %>% \n",
    "select(ads_clicked_versionA,ads_clicked_versionB) %>% \n",
    "filter(ads_clicked_versionB > ads_clicked_versionA)  %>% \n",
    "filter(time_slot==\"00:00-05:59\")\n",
    "\n"
   ]
  }
 ],
 "metadata": {
  "kernelspec": {
   "display_name": "R",
   "language": "R",
   "name": "ir"
  },
  "language_info": {
   "codemirror_mode": "r",
   "file_extension": ".r",
   "mimetype": "text/x-r-source",
   "name": "R",
   "pygments_lexer": "r",
   "version": "3.6.1"
  }
 },
 "nbformat": 4,
 "nbformat_minor": 5
}
