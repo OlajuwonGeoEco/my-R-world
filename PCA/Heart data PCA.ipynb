{
 "cells": [
  {
   "cell_type": "markdown",
   "id": "68598042",
   "metadata": {},
   "source": [
    "##PCA TO REDUCE THE DIMENSION // SUMMARIZE A LARGE NUMBER OF VARIABLES"
   ]
  },
  {
   "cell_type": "code",
   "execution_count": 2,
   "id": "60ceab11",
   "metadata": {},
   "outputs": [
    {
     "name": "stderr",
     "output_type": "stream",
     "text": [
      "Registered S3 method overwritten by 'GGally':\n",
      "  method from   \n",
      "  +.gg   ggplot2\n"
     ]
    }
   ],
   "source": [
    "library(GGally)"
   ]
  },
  {
   "cell_type": "code",
   "execution_count": 1,
   "id": "2065eab0",
   "metadata": {},
   "outputs": [
    {
     "name": "stderr",
     "output_type": "stream",
     "text": [
      "Registered S3 method overwritten by 'rvest':\n",
      "  method            from\n",
      "  read_xml.response xml2\n",
      "-- Attaching packages ------------------------------------------------------------------------------- tidyverse 1.2.1 --\n",
      "v ggplot2 3.3.5     v purrr   0.3.4\n",
      "v tibble  3.1.1     v dplyr   1.0.6\n",
      "v tidyr   0.8.3     v stringr 1.4.0\n",
      "v readr   1.3.1     v forcats 0.4.0\n",
      "Warning message:\n",
      "\"package 'tibble' was built under R version 3.6.3\"Warning message:\n",
      "\"package 'purrr' was built under R version 3.6.3\"Warning message:\n",
      "\"package 'dplyr' was built under R version 3.6.3\"-- Conflicts ---------------------------------------------------------------------------------- tidyverse_conflicts() --\n",
      "x dplyr::filter() masks stats::filter()\n",
      "x dplyr::lag()    masks stats::lag()\n"
     ]
    }
   ],
   "source": [
    "library(tidyverse)"
   ]
  },
  {
   "cell_type": "markdown",
   "id": "40ed8add",
   "metadata": {},
   "source": [
    "##Import Data set for PCA"
   ]
  },
  {
   "cell_type": "code",
   "execution_count": 62,
   "id": "28c3c797",
   "metadata": {},
   "outputs": [],
   "source": [
    "df<- read.csv(file.choose(),header=T)"
   ]
  },
  {
   "cell_type": "code",
   "execution_count": 74,
   "id": "56bf6a51",
   "metadata": {},
   "outputs": [
    {
     "data": {
      "text/html": [
       "<table>\n",
       "<thead><tr><th scope=col>sex</th><th scope=col>cp</th><th scope=col>trestbps</th><th scope=col>chol</th><th scope=col>fbs</th><th scope=col>restecg</th><th scope=col>thalach</th><th scope=col>exang</th><th scope=col>oldpeak</th><th scope=col>slope</th><th scope=col>ca</th><th scope=col>thal</th><th scope=col>target</th><th scope=col>age</th></tr></thead>\n",
       "<tbody>\n",
       "\t<tr><td>male  </td><td>3     </td><td>145   </td><td>233   </td><td>1     </td><td>0     </td><td>150   </td><td>0     </td><td>2.3   </td><td>0     </td><td>0     </td><td>1     </td><td>1     </td><td>63    </td></tr>\n",
       "\t<tr><td>male  </td><td>2     </td><td>130   </td><td>250   </td><td>0     </td><td>1     </td><td>187   </td><td>0     </td><td>3.5   </td><td>0     </td><td>0     </td><td>2     </td><td>1     </td><td>37    </td></tr>\n",
       "\t<tr><td>female</td><td>1     </td><td>130   </td><td>204   </td><td>0     </td><td>0     </td><td>172   </td><td>0     </td><td>1.4   </td><td>2     </td><td>0     </td><td>2     </td><td>1     </td><td>41    </td></tr>\n",
       "\t<tr><td>male  </td><td>1     </td><td>120   </td><td>236   </td><td>0     </td><td>1     </td><td>178   </td><td>0     </td><td>0.8   </td><td>2     </td><td>0     </td><td>2     </td><td>1     </td><td>56    </td></tr>\n",
       "\t<tr><td>female</td><td>0     </td><td>120   </td><td>354   </td><td>0     </td><td>1     </td><td>163   </td><td>1     </td><td>0.6   </td><td>2     </td><td>0     </td><td>2     </td><td>1     </td><td>57    </td></tr>\n",
       "\t<tr><td>male  </td><td>0     </td><td>140   </td><td>192   </td><td>0     </td><td>1     </td><td>148   </td><td>0     </td><td>0.4   </td><td>1     </td><td>0     </td><td>1     </td><td>1     </td><td>57    </td></tr>\n",
       "</tbody>\n",
       "</table>\n"
      ],
      "text/latex": [
       "\\begin{tabular}{r|llllllllllllll}\n",
       " sex & cp & trestbps & chol & fbs & restecg & thalach & exang & oldpeak & slope & ca & thal & target & age\\\\\n",
       "\\hline\n",
       "\t male   & 3      & 145    & 233    & 1      & 0      & 150    & 0      & 2.3    & 0      & 0      & 1      & 1      & 63    \\\\\n",
       "\t male   & 2      & 130    & 250    & 0      & 1      & 187    & 0      & 3.5    & 0      & 0      & 2      & 1      & 37    \\\\\n",
       "\t female & 1      & 130    & 204    & 0      & 0      & 172    & 0      & 1.4    & 2      & 0      & 2      & 1      & 41    \\\\\n",
       "\t male   & 1      & 120    & 236    & 0      & 1      & 178    & 0      & 0.8    & 2      & 0      & 2      & 1      & 56    \\\\\n",
       "\t female & 0      & 120    & 354    & 0      & 1      & 163    & 1      & 0.6    & 2      & 0      & 2      & 1      & 57    \\\\\n",
       "\t male   & 0      & 140    & 192    & 0      & 1      & 148    & 0      & 0.4    & 1      & 0      & 1      & 1      & 57    \\\\\n",
       "\\end{tabular}\n"
      ],
      "text/markdown": [
       "\n",
       "| sex | cp | trestbps | chol | fbs | restecg | thalach | exang | oldpeak | slope | ca | thal | target | age |\n",
       "|---|---|---|---|---|---|---|---|---|---|---|---|---|---|\n",
       "| male   | 3      | 145    | 233    | 1      | 0      | 150    | 0      | 2.3    | 0      | 0      | 1      | 1      | 63     |\n",
       "| male   | 2      | 130    | 250    | 0      | 1      | 187    | 0      | 3.5    | 0      | 0      | 2      | 1      | 37     |\n",
       "| female | 1      | 130    | 204    | 0      | 0      | 172    | 0      | 1.4    | 2      | 0      | 2      | 1      | 41     |\n",
       "| male   | 1      | 120    | 236    | 0      | 1      | 178    | 0      | 0.8    | 2      | 0      | 2      | 1      | 56     |\n",
       "| female | 0      | 120    | 354    | 0      | 1      | 163    | 1      | 0.6    | 2      | 0      | 2      | 1      | 57     |\n",
       "| male   | 0      | 140    | 192    | 0      | 1      | 148    | 0      | 0.4    | 1      | 0      | 1      | 1      | 57     |\n",
       "\n"
      ],
      "text/plain": [
       "  sex    cp trestbps chol fbs restecg thalach exang oldpeak slope ca thal\n",
       "1 male   3  145      233  1   0       150     0     2.3     0     0  1   \n",
       "2 male   2  130      250  0   1       187     0     3.5     0     0  2   \n",
       "3 female 1  130      204  0   0       172     0     1.4     2     0  2   \n",
       "4 male   1  120      236  0   1       178     0     0.8     2     0  2   \n",
       "5 female 0  120      354  0   1       163     1     0.6     2     0  2   \n",
       "6 male   0  140      192  0   1       148     0     0.4     1     0  1   \n",
       "  target age\n",
       "1 1      63 \n",
       "2 1      37 \n",
       "3 1      41 \n",
       "4 1      56 \n",
       "5 1      57 \n",
       "6 1      57 "
      ]
     },
     "metadata": {},
     "output_type": "display_data"
    }
   ],
   "source": [
    "head(df)\n"
   ]
  },
  {
   "cell_type": "markdown",
   "id": "fcfe8de2",
   "metadata": {},
   "source": [
    "##Remove NAs"
   ]
  },
  {
   "cell_type": "code",
   "execution_count": 64,
   "id": "0d9655b8",
   "metadata": {},
   "outputs": [],
   "source": [
    "df<-na.omit(df)"
   ]
  },
  {
   "cell_type": "markdown",
   "id": "2323922e",
   "metadata": {},
   "source": [
    "##subset the data"
   ]
  },
  {
   "cell_type": "code",
   "execution_count": 65,
   "id": "6d12213a",
   "metadata": {},
   "outputs": [],
   "source": [
    "sex<-select(df,sex)\n",
    "heart_data<-select(df,-sex)"
   ]
  },
  {
   "cell_type": "markdown",
   "id": "85807e96",
   "metadata": {},
   "source": [
    "##Run the PCA and view the prop of variance explained by each PC"
   ]
  },
  {
   "cell_type": "code",
   "execution_count": 66,
   "id": "a3079ffe",
   "metadata": {},
   "outputs": [],
   "source": [
    "heart_PCA <- princomp(heart_data, cor = FALSE)"
   ]
  },
  {
   "cell_type": "code",
   "execution_count": 67,
   "id": "fada53a8",
   "metadata": {},
   "outputs": [
    {
     "data": {
      "text/plain": [
       "Importance of components:\n",
       "                           Comp.1     Comp.2      Comp.3     Comp.4\n",
       "Standard deviation     51.8359095 23.2491038 17.43752358 7.63438268\n",
       "Proportion of Variance  0.7475558  0.1503816  0.08459638 0.01621549\n",
       "Cumulative Proportion   0.7475558  0.8979374  0.98253377 0.99874926\n",
       "                             Comp.5       Comp.6       Comp.7       Comp.8\n",
       "Standard deviation     1.1966273238 1.0101447510 0.9066255147 5.916142e-01\n",
       "Proportion of Variance 0.0003983823 0.0002838895 0.0002286852 9.737767e-05\n",
       "Cumulative Proportion  0.9991476444 0.9994315339 0.9996602191 9.997576e-01\n",
       "                             Comp.9      Comp.10      Comp.11      Comp.12\n",
       "Standard deviation     5.253004e-01 4.580450e-01 4.005818e-01 3.409430e-01\n",
       "Proportion of Variance 7.677109e-05 5.837117e-05 4.464416e-05 3.234043e-05\n",
       "Cumulative Proportion  9.998344e-01 9.998927e-01 9.999374e-01 9.999697e-01\n",
       "                            Comp.13\n",
       "Standard deviation     3.298836e-01\n",
       "Proportion of Variance 3.027637e-05\n",
       "Cumulative Proportion  1.000000e+00"
      ]
     },
     "metadata": {},
     "output_type": "display_data"
    }
   ],
   "source": [
    "summary(heart_PCA)"
   ]
  },
  {
   "cell_type": "markdown",
   "id": "c393d09e",
   "metadata": {},
   "source": [
    "###PC1 explains about 75 percent of the variance in the data, while PC2 explains about 15 percent."
   ]
  },
  {
   "cell_type": "markdown",
   "id": "bfd41140",
   "metadata": {},
   "source": [
    "#Standard Deviation of each component"
   ]
  },
  {
   "cell_type": "code",
   "execution_count": 68,
   "id": "87610c75",
   "metadata": {},
   "outputs": [
    {
     "data": {
      "text/html": [
       "<dl class=dl-horizontal>\n",
       "\t<dt>Comp.1</dt>\n",
       "\t\t<dd>2686.96151128793</dd>\n",
       "\t<dt>Comp.2</dt>\n",
       "\t\t<dd>540.520828257352</dd>\n",
       "\t<dt>Comp.3</dt>\n",
       "\t\t<dd>304.067228773884</dd>\n",
       "\t<dt>Comp.4</dt>\n",
       "\t\t<dd>58.2837989180068</dd>\n",
       "\t<dt>Comp.5</dt>\n",
       "\t\t<dd>1.43191695196631</dd>\n",
       "\t<dt>Comp.6</dt>\n",
       "\t\t<dd>1.02039241790257</dd>\n",
       "\t<dt>Comp.7</dt>\n",
       "\t\t<dd>0.82196982386451</dd>\n",
       "\t<dt>Comp.8</dt>\n",
       "\t\t<dd>0.350007371757818</dd>\n",
       "\t<dt>Comp.9</dt>\n",
       "\t\t<dd>0.275940558736587</dd>\n",
       "\t<dt>Comp.10</dt>\n",
       "\t\t<dd>0.20980519827962</dd>\n",
       "\t<dt>Comp.11</dt>\n",
       "\t\t<dd>0.160465802385908</dd>\n",
       "\t<dt>Comp.12</dt>\n",
       "\t\t<dd>0.116242132624782</dd>\n",
       "\t<dt>Comp.13</dt>\n",
       "\t\t<dd>0.108823220161</dd>\n",
       "</dl>\n"
      ],
      "text/latex": [
       "\\begin{description*}\n",
       "\\item[Comp.1] 2686.96151128793\n",
       "\\item[Comp.2] 540.520828257352\n",
       "\\item[Comp.3] 304.067228773884\n",
       "\\item[Comp.4] 58.2837989180068\n",
       "\\item[Comp.5] 1.43191695196631\n",
       "\\item[Comp.6] 1.02039241790257\n",
       "\\item[Comp.7] 0.82196982386451\n",
       "\\item[Comp.8] 0.350007371757818\n",
       "\\item[Comp.9] 0.275940558736587\n",
       "\\item[Comp.10] 0.20980519827962\n",
       "\\item[Comp.11] 0.160465802385908\n",
       "\\item[Comp.12] 0.116242132624782\n",
       "\\item[Comp.13] 0.108823220161\n",
       "\\end{description*}\n"
      ],
      "text/markdown": [
       "Comp.1\n",
       ":   2686.96151128793Comp.2\n",
       ":   540.520828257352Comp.3\n",
       ":   304.067228773884Comp.4\n",
       ":   58.2837989180068Comp.5\n",
       ":   1.43191695196631Comp.6\n",
       ":   1.02039241790257Comp.7\n",
       ":   0.82196982386451Comp.8\n",
       ":   0.350007371757818Comp.9\n",
       ":   0.275940558736587Comp.10\n",
       ":   0.20980519827962Comp.11\n",
       ":   0.160465802385908Comp.12\n",
       ":   0.116242132624782Comp.13\n",
       ":   0.108823220161\n",
       "\n"
      ],
      "text/plain": [
       "      Comp.1       Comp.2       Comp.3       Comp.4       Comp.5       Comp.6 \n",
       "2686.9615113  540.5208283  304.0672288   58.2837989    1.4319170    1.0203924 \n",
       "      Comp.7       Comp.8       Comp.9      Comp.10      Comp.11      Comp.12 \n",
       "   0.8219698    0.3500074    0.2759406    0.2098052    0.1604658    0.1162421 \n",
       "     Comp.13 \n",
       "   0.1088232 "
      ]
     },
     "metadata": {},
     "output_type": "display_data"
    }
   ],
   "source": [
    "heart_PCA$sdev^2"
   ]
  },
  {
   "cell_type": "code",
   "execution_count": 70,
   "id": "2ceeb9ae",
   "metadata": {},
   "outputs": [
    {
     "data": {
      "image/png": "[encoded data removed]",
      "text/plain": [
       "Plot with title \"heart_PCA\""
      ]
     },
     "metadata": {},
     "output_type": "display_data"
    }
   ],
   "source": [
    "plot(heart_PCA)"
   ]
  },
  {
   "cell_type": "code",
   "execution_count": 72,
   "id": "99844abb",
   "metadata": {},
   "outputs": [
    {
     "data": {
      "text/plain": [
       "\n",
       "Loadings:\n",
       "         Comp.1 Comp.2 Comp.3 Comp.4 Comp.5 Comp.6 Comp.7 Comp.8 Comp.9 Comp.10\n",
       "cp                                    0.364  0.679  0.582  0.162               \n",
       "trestbps        -0.104  0.982 -0.148                                           \n",
       "chol     -0.998                                                                \n",
       "fbs                                                               0.103  0.113 \n",
       "restecg                                                          -0.915  0.368 \n",
       "thalach          0.977  0.129  0.166                                           \n",
       "exang                                -0.117        -0.117  0.111  0.109        \n",
       "oldpeak                              -0.742  0.552 -0.110 -0.116 -0.147 -0.306 \n",
       "slope                                 0.220 -0.223               -0.298 -0.859 \n",
       "ca                                   -0.424 -0.411  0.788                      \n",
       "thal                                 -0.166                0.945               \n",
       "target                                0.215               -0.176 -0.155        \n",
       "age             -0.182  0.125  0.974                                           \n",
       "         Comp.11 Comp.12 Comp.13\n",
       "cp        0.169                 \n",
       "trestbps                        \n",
       "chol                            \n",
       "fbs       0.153  -0.814   0.534 \n",
       "restecg   0.113                 \n",
       "thalach                         \n",
       "exang     0.865  -0.100  -0.421 \n",
       "oldpeak                         \n",
       "slope     0.206           0.127 \n",
       "ca                       -0.123 \n",
       "thal     -0.216  -0.140         \n",
       "target   -0.312  -0.541  -0.700 \n",
       "age                             \n",
       "\n",
       "               Comp.1 Comp.2 Comp.3 Comp.4 Comp.5 Comp.6 Comp.7 Comp.8 Comp.9\n",
       "SS loadings     1.000  1.000  1.000  1.000  1.000  1.000  1.000  1.000  1.000\n",
       "Proportion Var  0.077  0.077  0.077  0.077  0.077  0.077  0.077  0.077  0.077\n",
       "Cumulative Var  0.077  0.154  0.231  0.308  0.385  0.462  0.538  0.615  0.692\n",
       "               Comp.10 Comp.11 Comp.12 Comp.13\n",
       "SS loadings      1.000   1.000   1.000   1.000\n",
       "Proportion Var   0.077   0.077   0.077   0.077\n",
       "Cumulative Var   0.769   0.846   0.923   1.000"
      ]
     },
     "metadata": {},
     "output_type": "display_data"
    }
   ],
   "source": [
    "loadings(heart_PCA)"
   ]
  },
  {
   "cell_type": "markdown",
   "id": "dd43fa98",
   "metadata": {},
   "source": [
    "###Cholestorol is variable that drives the relationship (-0.998)"
   ]
  },
  {
   "cell_type": "code",
   "execution_count": 73,
   "id": "8c701eaa",
   "metadata": {},
   "outputs": [
    {
     "name": "stderr",
     "output_type": "stream",
     "text": [
      "Warning message in arrows(0, 0, y[, 1L] * 0.8, y[, 2L] * 0.8, col = col[2L], length = arrow.len):\n",
      "\"zero-length arrow is of indeterminate angle and so skipped\""
     ]
    },
    {
     "data": {
      "image/png": "[encoded data removed]",
      "text/plain": [
       "plot without title"
      ]
     },
     "metadata": {},
     "output_type": "display_data"
    }
   ],
   "source": [
    "biplot(heart_PCA)"
   ]
  },
  {
   "cell_type": "code",
   "execution_count": 33,
   "id": "248c9e85",
   "metadata": {},
   "outputs": [
    {
     "name": "stderr",
     "output_type": "stream",
     "text": [
      "Warning message:\n",
      "\"package 'ggbiplot' is not available (for R version 3.6.1)\""
     ]
    }
   ],
   "source": [
    "#install.packages(\"ggbiplot\")"
   ]
  },
  {
   "cell_type": "code",
   "execution_count": 36,
   "id": "5001e53f",
   "metadata": {},
   "outputs": [
    {
     "name": "stderr",
     "output_type": "stream",
     "text": [
      "also installing the dependencies 'glue', 'cli', 'rcmdcheck', 'sessioninfo'\n",
      "\n"
     ]
    },
    {
     "name": "stdout",
     "output_type": "stream",
     "text": [
      "\n",
      "  There are binary versions available but the source versions are later:\n",
      "            binary source needs_compilation\n",
      "glue         1.4.2  1.6.2              TRUE\n",
      "cli          2.5.0  3.2.0              TRUE\n",
      "rcmdcheck    1.3.3  1.4.0             FALSE\n",
      "sessioninfo  1.1.1  1.2.2             FALSE\n",
      "devtools     2.4.1  2.4.3             FALSE\n",
      "\n",
      "  Binaries will be installed\n",
      "package 'glue' successfully unpacked and MD5 sums checked\n"
     ]
    },
    {
     "name": "stderr",
     "output_type": "stream",
     "text": [
      "Warning message:\n",
      "\"cannot remove prior installation of package 'glue'\"Warning message in file.copy(savedcopy, lib, recursive = TRUE):\n",
      "\"problem copying C:\\Users\\patri\\anaconda3\\envs\\rlanguage\\Lib\\R\\library\\00LOCK\\glue\\libs\\x64\\glue.dll to C:\\Users\\patri\\anaconda3\\envs\\rlanguage\\Lib\\R\\library\\glue\\libs\\x64\\glue.dll: Permission denied\"Warning message:\n",
      "\"restored 'glue'\""
     ]
    },
    {
     "name": "stdout",
     "output_type": "stream",
     "text": [
      "package 'cli' successfully unpacked and MD5 sums checked\n",
      "\n",
      "The downloaded binary packages are in\n",
      "\tC:\\Users\\patri\\AppData\\Local\\Temp\\RtmpmOLZ1X\\downloaded_packages\n"
     ]
    },
    {
     "name": "stderr",
     "output_type": "stream",
     "text": [
      "installing the source packages 'rcmdcheck', 'sessioninfo', 'devtools'\n",
      "\n",
      "Warning message in install.packages(\"devtools\"):\n",
      "\"installation of package 'sessioninfo' had non-zero exit status\"Warning message in install.packages(\"devtools\"):\n",
      "\"installation of package 'rcmdcheck' had non-zero exit status\"Warning message in install.packages(\"devtools\"):\n",
      "\"installation of package 'devtools' had non-zero exit status\""
     ]
    }
   ],
   "source": [
    "#install.packages(\"devtools\")"
   ]
  },
  {
   "cell_type": "code",
   "execution_count": 37,
   "id": "eec26fe3",
   "metadata": {},
   "outputs": [
    {
     "ename": "ERROR",
     "evalue": "Error in library(devtools): there is no package called 'devtools'\n",
     "output_type": "error",
     "traceback": [
      "Error in library(devtools): there is no package called 'devtools'\nTraceback:\n",
      "1. library(devtools)"
     ]
    }
   ],
   "source": [
    "#library(devtools)\n",
    "#install_github(\"vqv/ggbiplot\")"
   ]
  },
  {
   "cell_type": "code",
   "execution_count": null,
   "id": "5e9c4bbe",
   "metadata": {},
   "outputs": [],
   "source": [
    "#ggbiplot(fa_pca, choices=c(1,2),  obs.scale = 1, var.axes=TRUE,  varname.size=3, var.scale = 1, ellipse=TRUE,  group=df$club_position)+\n",
    "  labs(color=\"club_position\")+\n",
    "  theme_classic()"
   ]
  },
  {
   "cell_type": "code",
   "execution_count": null,
   "id": "5c707933",
   "metadata": {},
   "outputs": [],
   "source": []
  },
  {
   "cell_type": "code",
   "execution_count": null,
   "id": "210e1760",
   "metadata": {},
   "outputs": [],
   "source": []
  },
  {
   "cell_type": "code",
   "execution_count": null,
   "id": "3375ce87",
   "metadata": {},
   "outputs": [],
   "source": []
  },
  {
   "cell_type": "code",
   "execution_count": null,
   "id": "d7101cd8",
   "metadata": {},
   "outputs": [],
   "source": []
  }
 ],
 "metadata": {
  "kernelspec": {
   "display_name": "R",
   "language": "R",
   "name": "ir"
  },
  "language_info": {
   "codemirror_mode": "r",
   "file_extension": ".r",
   "mimetype": "text/x-r-source",
   "name": "R",
   "pygments_lexer": "r",
   "version": "3.6.1"
  }
 },
 "nbformat": 4,
 "nbformat_minor": 5
}
