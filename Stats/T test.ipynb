{
 "cells": [
  {
   "cell_type": "markdown",
   "id": "539cfc96",
   "metadata": {},
   "source": [
    "##T.tests "
   ]
  },
  {
   "cell_type": "markdown",
   "id": "845d8af6",
   "metadata": {},
   "source": [
    "###testing whether a single parameter from is sample is different from a hypothesized population paramter"
   ]
  },
  {
   "cell_type": "markdown",
   "id": "10f3f66d",
   "metadata": {},
   "source": [
    "###One sample T. test"
   ]
  },
  {
   "cell_type": "code",
   "execution_count": 1,
   "id": "6a49d8b9",
   "metadata": {},
   "outputs": [
    {
     "data": {
      "text/plain": [
       "\n",
       "\tOne Sample t-test\n",
       "\n",
       "data:  salary\n",
       "t = -3.9725, df = 14, p-value = 0.001389\n",
       "alternative hypothesis: true mean is not equal to 125\n",
       "95 percent confidence interval:\n",
       "  48.00472 101.99528\n",
       "sample estimates:\n",
       "mean of x \n",
       "       75 \n"
      ]
     },
     "metadata": {},
     "output_type": "display_data"
    }
   ],
   "source": [
    "salary<- c(75,61,55,24,55,102,126,208,11,22,56,77,98,57,98)\n",
    "t.test(salary, mu = 125)"
   ]
  },
  {
   "cell_type": "markdown",
   "id": "19f8bb89",
   "metadata": {},
   "source": [
    "###The df is 14, and the p value is less than 0.05\n",
    "###we can reject the null hypothesis and we can conclude that our salary is different from 125k"
   ]
  },
  {
   "cell_type": "code",
   "execution_count": 3,
   "id": "89a79823",
   "metadata": {},
   "outputs": [
    {
     "data": {
      "image/png": "[encoded data removed]",
      "text/plain": [
       "plot without title"
      ]
     },
     "metadata": {},
     "output_type": "display_data"
    }
   ],
   "source": [
    "hist(salary, xlab = \"salary\", main = NULL)\n",
    "abline(v = 125, col = \"red\")"
   ]
  },
  {
   "cell_type": "markdown",
   "id": "4d392aa6",
   "metadata": {},
   "source": [
    "##Two Sample T Test"
   ]
  },
  {
   "cell_type": "code",
   "execution_count": 8,
   "id": "bf6c2239",
   "metadata": {},
   "outputs": [],
   "source": [
    "Name<-c(\"Attacker\", \"Attacker\", \"Attacker\", \"Defender\",\"Defender\", \"Defender\",\"Attacker\",\"Defender\",\"Attacker\",\"Defender\",\"Attacker\",\"Defender\")\n",
    "Speed<-c(83,86,91,77,97,77,80,98,83,95,90,77)\n",
    "Salary<-c(350,1000,1200,750,600,500,250,100,550,780,1002,400)\n",
    "\n",
    "df<-data.frame(Name,Speed,Salary)"
   ]
  },
  {
   "cell_type": "code",
   "execution_count": 9,
   "id": "ed50c5c3",
   "metadata": {},
   "outputs": [
    {
     "data": {
      "text/html": [
       "<table>\n",
       "<thead><tr><th scope=col>Name</th><th scope=col>Speed</th><th scope=col>Salary</th></tr></thead>\n",
       "<tbody>\n",
       "\t<tr><td>Attacker</td><td>83      </td><td> 350    </td></tr>\n",
       "\t<tr><td>Attacker</td><td>86      </td><td>1000    </td></tr>\n",
       "\t<tr><td>Attacker</td><td>91      </td><td>1200    </td></tr>\n",
       "\t<tr><td>Defender</td><td>77      </td><td> 750    </td></tr>\n",
       "\t<tr><td>Defender</td><td>97      </td><td> 600    </td></tr>\n",
       "\t<tr><td>Defender</td><td>77      </td><td> 500    </td></tr>\n",
       "\t<tr><td>Attacker</td><td>80      </td><td> 250    </td></tr>\n",
       "\t<tr><td>Defender</td><td>98      </td><td> 100    </td></tr>\n",
       "\t<tr><td>Attacker</td><td>83      </td><td> 550    </td></tr>\n",
       "\t<tr><td>Defender</td><td>95      </td><td> 780    </td></tr>\n",
       "\t<tr><td>Attacker</td><td>90      </td><td>1002    </td></tr>\n",
       "\t<tr><td>Defender</td><td>77      </td><td> 400    </td></tr>\n",
       "</tbody>\n",
       "</table>\n"
      ],
      "text/latex": [
       "\\begin{tabular}{r|lll}\n",
       " Name & Speed & Salary\\\\\n",
       "\\hline\n",
       "\t Attacker & 83       &  350    \\\\\n",
       "\t Attacker & 86       & 1000    \\\\\n",
       "\t Attacker & 91       & 1200    \\\\\n",
       "\t Defender & 77       &  750    \\\\\n",
       "\t Defender & 97       &  600    \\\\\n",
       "\t Defender & 77       &  500    \\\\\n",
       "\t Attacker & 80       &  250    \\\\\n",
       "\t Defender & 98       &  100    \\\\\n",
       "\t Attacker & 83       &  550    \\\\\n",
       "\t Defender & 95       &  780    \\\\\n",
       "\t Attacker & 90       & 1002    \\\\\n",
       "\t Defender & 77       &  400    \\\\\n",
       "\\end{tabular}\n"
      ],
      "text/markdown": [
       "\n",
       "| Name | Speed | Salary |\n",
       "|---|---|---|\n",
       "| Attacker | 83       |  350     |\n",
       "| Attacker | 86       | 1000     |\n",
       "| Attacker | 91       | 1200     |\n",
       "| Defender | 77       |  750     |\n",
       "| Defender | 97       |  600     |\n",
       "| Defender | 77       |  500     |\n",
       "| Attacker | 80       |  250     |\n",
       "| Defender | 98       |  100     |\n",
       "| Attacker | 83       |  550     |\n",
       "| Defender | 95       |  780     |\n",
       "| Attacker | 90       | 1002     |\n",
       "| Defender | 77       |  400     |\n",
       "\n"
      ],
      "text/plain": [
       "   Name     Speed Salary\n",
       "1  Attacker 83     350  \n",
       "2  Attacker 86    1000  \n",
       "3  Attacker 91    1200  \n",
       "4  Defender 77     750  \n",
       "5  Defender 97     600  \n",
       "6  Defender 77     500  \n",
       "7  Attacker 80     250  \n",
       "8  Defender 98     100  \n",
       "9  Attacker 83     550  \n",
       "10 Defender 95     780  \n",
       "11 Attacker 90    1002  \n",
       "12 Defender 77     400  "
      ]
     },
     "metadata": {},
     "output_type": "display_data"
    }
   ],
   "source": [
    "df\n"
   ]
  },
  {
   "cell_type": "code",
   "execution_count": 13,
   "id": "39e08ed4",
   "metadata": {},
   "outputs": [
    {
     "data": {
      "text/plain": [
       "\n",
       "\tTwo Sample t-test\n",
       "\n",
       "data:  Salary by Name\n",
       "t = 1.067, df = 10, p-value = 0.311\n",
       "alternative hypothesis: true difference in means is not equal to 0\n",
       "95 percent confidence interval:\n",
       " -221.6174  628.9507\n",
       "sample estimates:\n",
       "mean in group Attacker mean in group Defender \n",
       "              725.3333               521.6667 \n"
      ]
     },
     "metadata": {},
     "output_type": "display_data"
    }
   ],
   "source": [
    "t.test(Salary~Name,data=df,var.equal=TRUE)"
   ]
  },
  {
   "cell_type": "markdown",
   "id": "b598ec01",
   "metadata": {},
   "source": [
    "###Interpretation?? "
   ]
  },
  {
   "cell_type": "code",
   "execution_count": 14,
   "id": "381f2d42",
   "metadata": {},
   "outputs": [
    {
     "data": {
      "text/plain": [
       "\n",
       "\tTwo Sample t-test\n",
       "\n",
       "data:  Speed by Name\n",
       "t = -0.2804, df = 10, p-value = 0.7849\n",
       "alternative hypothesis: true difference in means is not equal to 0\n",
       "95 percent confidence interval:\n",
       " -11.928388   9.261721\n",
       "sample estimates:\n",
       "mean in group Attacker mean in group Defender \n",
       "              85.50000               86.83333 \n"
      ]
     },
     "metadata": {},
     "output_type": "display_data"
    }
   ],
   "source": [
    "t.test(Speed~Name,data=df,var.equal=TRUE)"
   ]
  },
  {
   "cell_type": "markdown",
   "id": "bc7844f0",
   "metadata": {},
   "source": [
    "###Interpretation?? "
   ]
  },
  {
   "cell_type": "code",
   "execution_count": 15,
   "id": "1d7b453e",
   "metadata": {},
   "outputs": [
    {
     "name": "stderr",
     "output_type": "stream",
     "text": [
      "Registered S3 method overwritten by 'rvest':\n",
      "  method            from\n",
      "  read_xml.response xml2\n",
      "-- Attaching packages ------------------------------------------------------------------------------- tidyverse 1.2.1 --\n",
      "v ggplot2 3.3.5     v purrr   0.3.4\n",
      "v tibble  3.1.1     v dplyr   1.0.6\n",
      "v tidyr   0.8.3     v stringr 1.4.0\n",
      "v readr   1.3.1     v forcats 0.4.0\n",
      "Warning message:\n",
      "\"package 'tibble' was built under R version 3.6.3\"Warning message:\n",
      "\"package 'purrr' was built under R version 3.6.3\"Warning message:\n",
      "\"package 'dplyr' was built under R version 3.6.3\"-- Conflicts ---------------------------------------------------------------------------------- tidyverse_conflicts() --\n",
      "x dplyr::filter() masks stats::filter()\n",
      "x dplyr::lag()    masks stats::lag()\n"
     ]
    }
   ],
   "source": [
    "library(\"tidyverse\")"
   ]
  },
  {
   "cell_type": "code",
   "execution_count": 20,
   "id": "6058e909",
   "metadata": {},
   "outputs": [
    {
     "data": {
      "image/png": "[encoded data removed]",
      "text/plain": [
       "plot without title"
      ]
     },
     "metadata": {},
     "output_type": "display_data"
    }
   ],
   "source": [
    "ggplot(df)+\n",
    "geom_boxplot(aes(Name, Salary,fill=Name))+theme_classic() "
   ]
  },
  {
   "cell_type": "code",
   "execution_count": 21,
   "id": "db011bf0",
   "metadata": {},
   "outputs": [
    {
     "data": {
      "image/png": "[encoded data removed]",
      "text/plain": [
       "plot without title"
      ]
     },
     "metadata": {},
     "output_type": "display_data"
    }
   ],
   "source": [
    "ggplot(df)+\n",
    "geom_boxplot(aes(Name, Speed,fill=Name))+theme_classic() "
   ]
  },
  {
   "cell_type": "markdown",
   "id": "6403b8d2",
   "metadata": {},
   "source": [
    "##Paired T Test"
   ]
  },
  {
   "cell_type": "markdown",
   "id": "e7d72630",
   "metadata": {},
   "source": [
    "###Re using the Data set from above"
   ]
  },
  {
   "cell_type": "code",
   "execution_count": 24,
   "id": "96f980b9",
   "metadata": {},
   "outputs": [
    {
     "data": {
      "text/plain": [
       "\n",
       "\tPaired t-test\n",
       "\n",
       "data:  Salary by Name\n",
       "t = 1.1161, df = 5, p-value = 0.3151\n",
       "alternative hypothesis: true difference in means is not equal to 0\n",
       "95 percent confidence interval:\n",
       " -265.4025  672.7358\n",
       "sample estimates:\n",
       "mean of the differences \n",
       "               203.6667 \n"
      ]
     },
     "metadata": {},
     "output_type": "display_data"
    }
   ],
   "source": [
    "t.test(Salary~Name,data=df,paired=TRUE)"
   ]
  }
 ],
 "metadata": {
  "kernelspec": {
   "display_name": "R",
   "language": "R",
   "name": "ir"
  },
  "language_info": {
   "codemirror_mode": "r",
   "file_extension": ".r",
   "mimetype": "text/x-r-source",
   "name": "R",
   "pygments_lexer": "r",
   "version": "3.6.1"
  }
 },
 "nbformat": 4,
 "nbformat_minor": 5
}
