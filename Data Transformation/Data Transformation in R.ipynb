{
 "cells": [
  {
   "cell_type": "markdown",
   "id": "b9211f07",
   "metadata": {},
   "source": [
    "Basic Subsetting in R"
   ]
  },
  {
   "cell_type": "code",
   "execution_count": 1,
   "id": "e0050483",
   "metadata": {},
   "outputs": [
    {
     "name": "stderr",
     "output_type": "stream",
     "text": [
      "Registered S3 methods overwritten by 'ggplot2':\n",
      "  method         from \n",
      "  [.quosures     rlang\n",
      "  c.quosures     rlang\n",
      "  print.quosures rlang\n",
      "Registered S3 method overwritten by 'rvest':\n",
      "  method            from\n",
      "  read_xml.response xml2\n",
      "-- Attaching packages --------------------------------------- tidyverse 1.2.1 --\n",
      "v ggplot2 3.1.1       v purrr   0.3.2  \n",
      "v tibble  2.1.1       v dplyr   0.8.0.1\n",
      "v tidyr   0.8.3       v stringr 1.4.0  \n",
      "v readr   1.3.1       v forcats 0.4.0  \n",
      "-- Conflicts ------------------------------------------ tidyverse_conflicts() --\n",
      "x dplyr::filter() masks stats::filter()\n",
      "x dplyr::lag()    masks stats::lag()\n"
     ]
    }
   ],
   "source": [
    "library('tidyverse')"
   ]
  },
  {
   "cell_type": "code",
   "execution_count": 2,
   "id": "8bba4508",
   "metadata": {},
   "outputs": [],
   "source": [
    "df<-(read.csv(file.choose(),header=T))"
   ]
  },
  {
   "cell_type": "markdown",
   "id": "8005e8a6",
   "metadata": {},
   "source": [
    "##Quick look into the data"
   ]
  },
  {
   "cell_type": "code",
   "execution_count": 3,
   "id": "f9d83fc9",
   "metadata": {},
   "outputs": [
    {
     "data": {
      "text/html": [
       "<ol class=list-inline>\n",
       "\t<li>303</li>\n",
       "\t<li>14</li>\n",
       "</ol>\n"
      ],
      "text/latex": [
       "\\begin{enumerate*}\n",
       "\\item 303\n",
       "\\item 14\n",
       "\\end{enumerate*}\n"
      ],
      "text/markdown": [
       "1. 303\n",
       "2. 14\n",
       "\n",
       "\n"
      ],
      "text/plain": [
       "[1] 303  14"
      ]
     },
     "metadata": {},
     "output_type": "display_data"
    }
   ],
   "source": [
    "dim(df) #dimension of the data"
   ]
  },
  {
   "cell_type": "code",
   "execution_count": 4,
   "id": "7302c23d",
   "metadata": {},
   "outputs": [
    {
     "data": {
      "text/html": [
       "<table>\n",
       "<thead><tr><th scope=col>sex</th><th scope=col>cp</th><th scope=col>trestbps</th><th scope=col>chol</th><th scope=col>fbs</th><th scope=col>restecg</th><th scope=col>thalach</th><th scope=col>exang</th><th scope=col>oldpeak</th><th scope=col>slope</th><th scope=col>ca</th><th scope=col>thal</th><th scope=col>target</th><th scope=col>age</th></tr></thead>\n",
       "<tbody>\n",
       "\t<tr><td>male  </td><td>3     </td><td>145   </td><td>233   </td><td>1     </td><td>0     </td><td>150   </td><td>0     </td><td>2.3   </td><td>0     </td><td>0     </td><td>1     </td><td>1     </td><td>63    </td></tr>\n",
       "\t<tr><td>male  </td><td>2     </td><td>130   </td><td>250   </td><td>0     </td><td>1     </td><td>187   </td><td>0     </td><td>3.5   </td><td>0     </td><td>0     </td><td>2     </td><td>1     </td><td>37    </td></tr>\n",
       "\t<tr><td>female</td><td>1     </td><td>130   </td><td>204   </td><td>0     </td><td>0     </td><td>172   </td><td>0     </td><td>1.4   </td><td>2     </td><td>0     </td><td>2     </td><td>1     </td><td>41    </td></tr>\n",
       "\t<tr><td>male  </td><td>1     </td><td>120   </td><td>236   </td><td>0     </td><td>1     </td><td>178   </td><td>0     </td><td>0.8   </td><td>2     </td><td>0     </td><td>2     </td><td>1     </td><td>56    </td></tr>\n",
       "\t<tr><td>female</td><td>0     </td><td>120   </td><td>354   </td><td>0     </td><td>1     </td><td>163   </td><td>1     </td><td>0.6   </td><td>2     </td><td>0     </td><td>2     </td><td>1     </td><td>57    </td></tr>\n",
       "\t<tr><td>male  </td><td>0     </td><td>140   </td><td>192   </td><td>0     </td><td>1     </td><td>148   </td><td>0     </td><td>0.4   </td><td>1     </td><td>0     </td><td>1     </td><td>1     </td><td>57    </td></tr>\n",
       "</tbody>\n",
       "</table>\n"
      ],
      "text/latex": [
       "\\begin{tabular}{r|llllllllllllll}\n",
       " sex & cp & trestbps & chol & fbs & restecg & thalach & exang & oldpeak & slope & ca & thal & target & age\\\\\n",
       "\\hline\n",
       "\t male   & 3      & 145    & 233    & 1      & 0      & 150    & 0      & 2.3    & 0      & 0      & 1      & 1      & 63    \\\\\n",
       "\t male   & 2      & 130    & 250    & 0      & 1      & 187    & 0      & 3.5    & 0      & 0      & 2      & 1      & 37    \\\\\n",
       "\t female & 1      & 130    & 204    & 0      & 0      & 172    & 0      & 1.4    & 2      & 0      & 2      & 1      & 41    \\\\\n",
       "\t male   & 1      & 120    & 236    & 0      & 1      & 178    & 0      & 0.8    & 2      & 0      & 2      & 1      & 56    \\\\\n",
       "\t female & 0      & 120    & 354    & 0      & 1      & 163    & 1      & 0.6    & 2      & 0      & 2      & 1      & 57    \\\\\n",
       "\t male   & 0      & 140    & 192    & 0      & 1      & 148    & 0      & 0.4    & 1      & 0      & 1      & 1      & 57    \\\\\n",
       "\\end{tabular}\n"
      ],
      "text/markdown": [
       "\n",
       "| sex | cp | trestbps | chol | fbs | restecg | thalach | exang | oldpeak | slope | ca | thal | target | age |\n",
       "|---|---|---|---|---|---|---|---|---|---|---|---|---|---|\n",
       "| male   | 3      | 145    | 233    | 1      | 0      | 150    | 0      | 2.3    | 0      | 0      | 1      | 1      | 63     |\n",
       "| male   | 2      | 130    | 250    | 0      | 1      | 187    | 0      | 3.5    | 0      | 0      | 2      | 1      | 37     |\n",
       "| female | 1      | 130    | 204    | 0      | 0      | 172    | 0      | 1.4    | 2      | 0      | 2      | 1      | 41     |\n",
       "| male   | 1      | 120    | 236    | 0      | 1      | 178    | 0      | 0.8    | 2      | 0      | 2      | 1      | 56     |\n",
       "| female | 0      | 120    | 354    | 0      | 1      | 163    | 1      | 0.6    | 2      | 0      | 2      | 1      | 57     |\n",
       "| male   | 0      | 140    | 192    | 0      | 1      | 148    | 0      | 0.4    | 1      | 0      | 1      | 1      | 57     |\n",
       "\n"
      ],
      "text/plain": [
       "  sex    cp trestbps chol fbs restecg thalach exang oldpeak slope ca thal\n",
       "1 male   3  145      233  1   0       150     0     2.3     0     0  1   \n",
       "2 male   2  130      250  0   1       187     0     3.5     0     0  2   \n",
       "3 female 1  130      204  0   0       172     0     1.4     2     0  2   \n",
       "4 male   1  120      236  0   1       178     0     0.8     2     0  2   \n",
       "5 female 0  120      354  0   1       163     1     0.6     2     0  2   \n",
       "6 male   0  140      192  0   1       148     0     0.4     1     0  1   \n",
       "  target age\n",
       "1 1      63 \n",
       "2 1      37 \n",
       "3 1      41 \n",
       "4 1      56 \n",
       "5 1      57 \n",
       "6 1      57 "
      ]
     },
     "metadata": {},
     "output_type": "display_data"
    }
   ],
   "source": [
    "head(df) #in py df.head()"
   ]
  },
  {
   "cell_type": "markdown",
   "id": "e7b55986",
   "metadata": {},
   "source": [
    "##Subsetting in R"
   ]
  },
  {
   "cell_type": "code",
   "execution_count": 5,
   "id": "d3761ed0",
   "metadata": {},
   "outputs": [
    {
     "data": {
      "text/html": [
       "<table>\n",
       "<thead><tr><th scope=col>sex</th><th scope=col>cp</th><th scope=col>trestbps</th><th scope=col>chol</th><th scope=col>fbs</th><th scope=col>restecg</th><th scope=col>thalach</th><th scope=col>exang</th><th scope=col>oldpeak</th><th scope=col>slope</th><th scope=col>ca</th><th scope=col>thal</th><th scope=col>target</th><th scope=col>age</th></tr></thead>\n",
       "<tbody>\n",
       "\t<tr><td>male  </td><td>3     </td><td>145   </td><td>233   </td><td>1     </td><td>0     </td><td>150   </td><td>0     </td><td>2.3   </td><td>0     </td><td>0     </td><td>1     </td><td>1     </td><td>63    </td></tr>\n",
       "\t<tr><td>male  </td><td>2     </td><td>130   </td><td>250   </td><td>0     </td><td>1     </td><td>187   </td><td>0     </td><td>3.5   </td><td>0     </td><td>0     </td><td>2     </td><td>1     </td><td>37    </td></tr>\n",
       "\t<tr><td>female</td><td>1     </td><td>130   </td><td>204   </td><td>0     </td><td>0     </td><td>172   </td><td>0     </td><td>1.4   </td><td>2     </td><td>0     </td><td>2     </td><td>1     </td><td>41    </td></tr>\n",
       "</tbody>\n",
       "</table>\n"
      ],
      "text/latex": [
       "\\begin{tabular}{r|llllllllllllll}\n",
       " sex & cp & trestbps & chol & fbs & restecg & thalach & exang & oldpeak & slope & ca & thal & target & age\\\\\n",
       "\\hline\n",
       "\t male   & 3      & 145    & 233    & 1      & 0      & 150    & 0      & 2.3    & 0      & 0      & 1      & 1      & 63    \\\\\n",
       "\t male   & 2      & 130    & 250    & 0      & 1      & 187    & 0      & 3.5    & 0      & 0      & 2      & 1      & 37    \\\\\n",
       "\t female & 1      & 130    & 204    & 0      & 0      & 172    & 0      & 1.4    & 2      & 0      & 2      & 1      & 41    \\\\\n",
       "\\end{tabular}\n"
      ],
      "text/markdown": [
       "\n",
       "| sex | cp | trestbps | chol | fbs | restecg | thalach | exang | oldpeak | slope | ca | thal | target | age |\n",
       "|---|---|---|---|---|---|---|---|---|---|---|---|---|---|\n",
       "| male   | 3      | 145    | 233    | 1      | 0      | 150    | 0      | 2.3    | 0      | 0      | 1      | 1      | 63     |\n",
       "| male   | 2      | 130    | 250    | 0      | 1      | 187    | 0      | 3.5    | 0      | 0      | 2      | 1      | 37     |\n",
       "| female | 1      | 130    | 204    | 0      | 0      | 172    | 0      | 1.4    | 2      | 0      | 2      | 1      | 41     |\n",
       "\n"
      ],
      "text/plain": [
       "  sex    cp trestbps chol fbs restecg thalach exang oldpeak slope ca thal\n",
       "1 male   3  145      233  1   0       150     0     2.3     0     0  1   \n",
       "2 male   2  130      250  0   1       187     0     3.5     0     0  2   \n",
       "3 female 1  130      204  0   0       172     0     1.4     2     0  2   \n",
       "  target age\n",
       "1 1      63 \n",
       "2 1      37 \n",
       "3 1      41 "
      ]
     },
     "metadata": {},
     "output_type": "display_data"
    }
   ],
   "source": [
    "df[1:3,] #first three rows"
   ]
  },
  {
   "cell_type": "code",
   "execution_count": 6,
   "id": "128dbede",
   "metadata": {},
   "outputs": [
    {
     "data": {
      "text/html": [
       "<table>\n",
       "<thead><tr><th scope=col>slope</th><th scope=col>ca</th><th scope=col>thal</th><th scope=col>target</th><th scope=col>age</th></tr></thead>\n",
       "<tbody>\n",
       "\t<tr><td>0 </td><td>0 </td><td>1 </td><td>1 </td><td>63</td></tr>\n",
       "\t<tr><td>0 </td><td>0 </td><td>2 </td><td>1 </td><td>37</td></tr>\n",
       "\t<tr><td>2 </td><td>0 </td><td>2 </td><td>1 </td><td>41</td></tr>\n",
       "\t<tr><td>2 </td><td>0 </td><td>2 </td><td>1 </td><td>56</td></tr>\n",
       "\t<tr><td>2 </td><td>0 </td><td>2 </td><td>1 </td><td>57</td></tr>\n",
       "\t<tr><td>1 </td><td>0 </td><td>1 </td><td>1 </td><td>57</td></tr>\n",
       "</tbody>\n",
       "</table>\n"
      ],
      "text/latex": [
       "\\begin{tabular}{r|lllll}\n",
       " slope & ca & thal & target & age\\\\\n",
       "\\hline\n",
       "\t 0  & 0  & 1  & 1  & 63\\\\\n",
       "\t 0  & 0  & 2  & 1  & 37\\\\\n",
       "\t 2  & 0  & 2  & 1  & 41\\\\\n",
       "\t 2  & 0  & 2  & 1  & 56\\\\\n",
       "\t 2  & 0  & 2  & 1  & 57\\\\\n",
       "\t 1  & 0  & 1  & 1  & 57\\\\\n",
       "\\end{tabular}\n"
      ],
      "text/markdown": [
       "\n",
       "| slope | ca | thal | target | age |\n",
       "|---|---|---|---|---|\n",
       "| 0  | 0  | 1  | 1  | 63 |\n",
       "| 0  | 0  | 2  | 1  | 37 |\n",
       "| 2  | 0  | 2  | 1  | 41 |\n",
       "| 2  | 0  | 2  | 1  | 56 |\n",
       "| 2  | 0  | 2  | 1  | 57 |\n",
       "| 1  | 0  | 1  | 1  | 57 |\n",
       "\n"
      ],
      "text/plain": [
       "  slope ca thal target age\n",
       "1 0     0  1    1      63 \n",
       "2 0     0  2    1      37 \n",
       "3 2     0  2    1      41 \n",
       "4 2     0  2    1      56 \n",
       "5 2     0  2    1      57 \n",
       "6 1     0  1    1      57 "
      ]
     },
     "metadata": {},
     "output_type": "display_data"
    }
   ],
   "source": [
    "a<-df[,10:14] #last five columns\n",
    "\n",
    "head(a)"
   ]
  },
  {
   "cell_type": "code",
   "execution_count": 7,
   "id": "4cddd7dd",
   "metadata": {},
   "outputs": [
    {
     "data": {
      "text/html": [
       "<table>\n",
       "<thead><tr><th scope=col>slope</th><th scope=col>ca</th><th scope=col>thal</th><th scope=col>target</th><th scope=col>age</th></tr></thead>\n",
       "<tbody>\n",
       "\t<tr><td>0 </td><td>0 </td><td>1 </td><td>1 </td><td>63</td></tr>\n",
       "\t<tr><td>0 </td><td>0 </td><td>2 </td><td>1 </td><td>37</td></tr>\n",
       "\t<tr><td>2 </td><td>0 </td><td>2 </td><td>1 </td><td>41</td></tr>\n",
       "</tbody>\n",
       "</table>\n"
      ],
      "text/latex": [
       "\\begin{tabular}{r|lllll}\n",
       " slope & ca & thal & target & age\\\\\n",
       "\\hline\n",
       "\t 0  & 0  & 1  & 1  & 63\\\\\n",
       "\t 0  & 0  & 2  & 1  & 37\\\\\n",
       "\t 2  & 0  & 2  & 1  & 41\\\\\n",
       "\\end{tabular}\n"
      ],
      "text/markdown": [
       "\n",
       "| slope | ca | thal | target | age |\n",
       "|---|---|---|---|---|\n",
       "| 0  | 0  | 1  | 1  | 63 |\n",
       "| 0  | 0  | 2  | 1  | 37 |\n",
       "| 2  | 0  | 2  | 1  | 41 |\n",
       "\n"
      ],
      "text/plain": [
       "  slope ca thal target age\n",
       "1 0     0  1    1      63 \n",
       "2 0     0  2    1      37 \n",
       "3 2     0  2    1      41 "
      ]
     },
     "metadata": {},
     "output_type": "display_data"
    }
   ],
   "source": [
    "#combining the first three rows and last five columns\n",
    "df[1:3,10:14] #remember Py starts from 0"
   ]
  },
  {
   "cell_type": "code",
   "execution_count": 8,
   "id": "89c84fe9",
   "metadata": {},
   "outputs": [
    {
     "data": {
      "text/html": [
       "<table>\n",
       "<thead><tr><th scope=col>sex</th><th scope=col>cp</th><th scope=col>trestbps</th><th scope=col>chol</th><th scope=col>fbs</th><th scope=col>restecg</th><th scope=col>thalach</th><th scope=col>exang</th><th scope=col>oldpeak</th><th scope=col>slope</th><th scope=col>ca</th><th scope=col>thal</th><th scope=col>target</th><th scope=col>age</th></tr></thead>\n",
       "<tbody>\n",
       "\t<tr><td>male  </td><td>3     </td><td>145   </td><td>233   </td><td>1     </td><td>0     </td><td>150   </td><td>0     </td><td>2.3   </td><td>0     </td><td>0     </td><td>1     </td><td>1     </td><td>63    </td></tr>\n",
       "\t<tr><td>male  </td><td>2     </td><td>130   </td><td>250   </td><td>0     </td><td>1     </td><td>187   </td><td>0     </td><td>3.5   </td><td>0     </td><td>0     </td><td>2     </td><td>1     </td><td>37    </td></tr>\n",
       "\t<tr><td>female</td><td>1     </td><td>130   </td><td>204   </td><td>0     </td><td>0     </td><td>172   </td><td>0     </td><td>1.4   </td><td>2     </td><td>0     </td><td>2     </td><td>1     </td><td>41    </td></tr>\n",
       "</tbody>\n",
       "</table>\n"
      ],
      "text/latex": [
       "\\begin{tabular}{r|llllllllllllll}\n",
       " sex & cp & trestbps & chol & fbs & restecg & thalach & exang & oldpeak & slope & ca & thal & target & age\\\\\n",
       "\\hline\n",
       "\t male   & 3      & 145    & 233    & 1      & 0      & 150    & 0      & 2.3    & 0      & 0      & 1      & 1      & 63    \\\\\n",
       "\t male   & 2      & 130    & 250    & 0      & 1      & 187    & 0      & 3.5    & 0      & 0      & 2      & 1      & 37    \\\\\n",
       "\t female & 1      & 130    & 204    & 0      & 0      & 172    & 0      & 1.4    & 2      & 0      & 2      & 1      & 41    \\\\\n",
       "\\end{tabular}\n"
      ],
      "text/markdown": [
       "\n",
       "| sex | cp | trestbps | chol | fbs | restecg | thalach | exang | oldpeak | slope | ca | thal | target | age |\n",
       "|---|---|---|---|---|---|---|---|---|---|---|---|---|---|\n",
       "| male   | 3      | 145    | 233    | 1      | 0      | 150    | 0      | 2.3    | 0      | 0      | 1      | 1      | 63     |\n",
       "| male   | 2      | 130    | 250    | 0      | 1      | 187    | 0      | 3.5    | 0      | 0      | 2      | 1      | 37     |\n",
       "| female | 1      | 130    | 204    | 0      | 0      | 172    | 0      | 1.4    | 2      | 0      | 2      | 1      | 41     |\n",
       "\n"
      ],
      "text/plain": [
       "  sex    cp trestbps chol fbs restecg thalach exang oldpeak slope ca thal\n",
       "1 male   3  145      233  1   0       150     0     2.3     0     0  1   \n",
       "2 male   2  130      250  0   1       187     0     3.5     0     0  2   \n",
       "3 female 1  130      204  0   0       172     0     1.4     2     0  2   \n",
       "  target age\n",
       "1 1      63 \n",
       "2 1      37 \n",
       "3 1      41 "
      ]
     },
     "metadata": {},
     "output_type": "display_data"
    }
   ],
   "source": [
    "#Slice can also be used for subsetting\n",
    "\n",
    "slice(df,1:3)  #slice first three rows"
   ]
  },
  {
   "cell_type": "code",
   "execution_count": 9,
   "id": "1e2f991c",
   "metadata": {},
   "outputs": [
    {
     "data": {
      "text/html": [
       "<table>\n",
       "<thead><tr><th scope=col>sex</th><th scope=col>cp</th><th scope=col>trestbps</th><th scope=col>chol</th><th scope=col>fbs</th><th scope=col>restecg</th><th scope=col>thalach</th><th scope=col>exang</th><th scope=col>oldpeak</th><th scope=col>slope</th><th scope=col>ca</th><th scope=col>thal</th><th scope=col>target</th><th scope=col>age</th></tr></thead>\n",
       "<tbody>\n",
       "\t<tr><td>male</td><td>3   </td><td>145 </td><td>233 </td><td>1   </td><td>0   </td><td>150 </td><td>0   </td><td>2.3 </td><td>0   </td><td>0   </td><td>1   </td><td>1   </td><td>63  </td></tr>\n",
       "\t<tr><td>male</td><td>1   </td><td>120 </td><td>236 </td><td>0   </td><td>1   </td><td>178 </td><td>0   </td><td>0.8 </td><td>2   </td><td>0   </td><td>2   </td><td>1   </td><td>56  </td></tr>\n",
       "\t<tr><td>male</td><td>0   </td><td>140 </td><td>192 </td><td>0   </td><td>1   </td><td>148 </td><td>0   </td><td>0.4 </td><td>1   </td><td>0   </td><td>1   </td><td>1   </td><td>57  </td></tr>\n",
       "\t<tr><td>male</td><td>1   </td><td>120 </td><td>263 </td><td>0   </td><td>1   </td><td>173 </td><td>0   </td><td>0.0 </td><td>2   </td><td>0   </td><td>3   </td><td>1   </td><td>44  </td></tr>\n",
       "\t<tr><td>male</td><td>2   </td><td>172 </td><td>199 </td><td>1   </td><td>1   </td><td>162 </td><td>0   </td><td>0.5 </td><td>2   </td><td>0   </td><td>3   </td><td>1   </td><td>52  </td></tr>\n",
       "\t<tr><td>male</td><td>2   </td><td>150 </td><td>168 </td><td>0   </td><td>1   </td><td>174 </td><td>0   </td><td>1.6 </td><td>2   </td><td>0   </td><td>2   </td><td>1   </td><td>57  </td></tr>\n",
       "</tbody>\n",
       "</table>\n"
      ],
      "text/latex": [
       "\\begin{tabular}{r|llllllllllllll}\n",
       " sex & cp & trestbps & chol & fbs & restecg & thalach & exang & oldpeak & slope & ca & thal & target & age\\\\\n",
       "\\hline\n",
       "\t male & 3    & 145  & 233  & 1    & 0    & 150  & 0    & 2.3  & 0    & 0    & 1    & 1    & 63  \\\\\n",
       "\t male & 1    & 120  & 236  & 0    & 1    & 178  & 0    & 0.8  & 2    & 0    & 2    & 1    & 56  \\\\\n",
       "\t male & 0    & 140  & 192  & 0    & 1    & 148  & 0    & 0.4  & 1    & 0    & 1    & 1    & 57  \\\\\n",
       "\t male & 1    & 120  & 263  & 0    & 1    & 173  & 0    & 0.0  & 2    & 0    & 3    & 1    & 44  \\\\\n",
       "\t male & 2    & 172  & 199  & 1    & 1    & 162  & 0    & 0.5  & 2    & 0    & 3    & 1    & 52  \\\\\n",
       "\t male & 2    & 150  & 168  & 0    & 1    & 174  & 0    & 1.6  & 2    & 0    & 2    & 1    & 57  \\\\\n",
       "\\end{tabular}\n"
      ],
      "text/markdown": [
       "\n",
       "| sex | cp | trestbps | chol | fbs | restecg | thalach | exang | oldpeak | slope | ca | thal | target | age |\n",
       "|---|---|---|---|---|---|---|---|---|---|---|---|---|---|\n",
       "| male | 3    | 145  | 233  | 1    | 0    | 150  | 0    | 2.3  | 0    | 0    | 1    | 1    | 63   |\n",
       "| male | 1    | 120  | 236  | 0    | 1    | 178  | 0    | 0.8  | 2    | 0    | 2    | 1    | 56   |\n",
       "| male | 0    | 140  | 192  | 0    | 1    | 148  | 0    | 0.4  | 1    | 0    | 1    | 1    | 57   |\n",
       "| male | 1    | 120  | 263  | 0    | 1    | 173  | 0    | 0.0  | 2    | 0    | 3    | 1    | 44   |\n",
       "| male | 2    | 172  | 199  | 1    | 1    | 162  | 0    | 0.5  | 2    | 0    | 3    | 1    | 52   |\n",
       "| male | 2    | 150  | 168  | 0    | 1    | 174  | 0    | 1.6  | 2    | 0    | 2    | 1    | 57   |\n",
       "\n"
      ],
      "text/plain": [
       "  sex  cp trestbps chol fbs restecg thalach exang oldpeak slope ca thal target\n",
       "1 male 3  145      233  1   0       150     0     2.3     0     0  1    1     \n",
       "2 male 1  120      236  0   1       178     0     0.8     2     0  2    1     \n",
       "3 male 0  140      192  0   1       148     0     0.4     1     0  1    1     \n",
       "4 male 1  120      263  0   1       173     0     0.0     2     0  3    1     \n",
       "5 male 2  172      199  1   1       162     0     0.5     2     0  3    1     \n",
       "6 male 2  150      168  0   1       174     0     1.6     2     0  2    1     \n",
       "  age\n",
       "1 63 \n",
       "2 56 \n",
       "3 57 \n",
       "4 44 \n",
       "5 52 \n",
       "6 57 "
      ]
     },
     "metadata": {},
     "output_type": "display_data"
    }
   ],
   "source": [
    "#filter can be used also to subset rows \n",
    "\n",
    "#lets find male over 40\n",
    "\n",
    "a<-filter(df,sex=='male' & age > 40)\n",
    "\n",
    "head(a)"
   ]
  },
  {
   "cell_type": "code",
   "execution_count": 10,
   "id": "2adbb10e",
   "metadata": {},
   "outputs": [
    {
     "data": {
      "text/html": [
       "<table>\n",
       "<thead><tr><th scope=col>sex</th><th scope=col>cp</th><th scope=col>trestbps</th><th scope=col>chol</th><th scope=col>fbs</th><th scope=col>restecg</th><th scope=col>thalach</th><th scope=col>exang</th><th scope=col>oldpeak</th><th scope=col>slope</th><th scope=col>ca</th><th scope=col>thal</th><th scope=col>target</th><th scope=col>age</th></tr></thead>\n",
       "<tbody>\n",
       "\t<tr><td>male  </td><td>3     </td><td>145   </td><td>233   </td><td>1     </td><td>0     </td><td>150   </td><td>0     </td><td>2.3   </td><td>0     </td><td>0     </td><td>1     </td><td>1     </td><td>63    </td></tr>\n",
       "\t<tr><td>male  </td><td>2     </td><td>130   </td><td>250   </td><td>0     </td><td>1     </td><td>187   </td><td>0     </td><td>3.5   </td><td>0     </td><td>0     </td><td>2     </td><td>1     </td><td>37    </td></tr>\n",
       "\t<tr><td>male  </td><td>1     </td><td>120   </td><td>236   </td><td>0     </td><td>1     </td><td>178   </td><td>0     </td><td>0.8   </td><td>2     </td><td>0     </td><td>2     </td><td>1     </td><td>56    </td></tr>\n",
       "\t<tr><td>female</td><td>0     </td><td>120   </td><td>354   </td><td>0     </td><td>1     </td><td>163   </td><td>1     </td><td>0.6   </td><td>2     </td><td>0     </td><td>2     </td><td>1     </td><td>57    </td></tr>\n",
       "\t<tr><td>male  </td><td>0     </td><td>140   </td><td>192   </td><td>0     </td><td>1     </td><td>148   </td><td>0     </td><td>0.4   </td><td>1     </td><td>0     </td><td>1     </td><td>1     </td><td>57    </td></tr>\n",
       "\t<tr><td>female</td><td>1     </td><td>140   </td><td>294   </td><td>0     </td><td>0     </td><td>153   </td><td>0     </td><td>1.3   </td><td>1     </td><td>0     </td><td>2     </td><td>1     </td><td>56    </td></tr>\n",
       "</tbody>\n",
       "</table>\n"
      ],
      "text/latex": [
       "\\begin{tabular}{r|llllllllllllll}\n",
       " sex & cp & trestbps & chol & fbs & restecg & thalach & exang & oldpeak & slope & ca & thal & target & age\\\\\n",
       "\\hline\n",
       "\t male   & 3      & 145    & 233    & 1      & 0      & 150    & 0      & 2.3    & 0      & 0      & 1      & 1      & 63    \\\\\n",
       "\t male   & 2      & 130    & 250    & 0      & 1      & 187    & 0      & 3.5    & 0      & 0      & 2      & 1      & 37    \\\\\n",
       "\t male   & 1      & 120    & 236    & 0      & 1      & 178    & 0      & 0.8    & 2      & 0      & 2      & 1      & 56    \\\\\n",
       "\t female & 0      & 120    & 354    & 0      & 1      & 163    & 1      & 0.6    & 2      & 0      & 2      & 1      & 57    \\\\\n",
       "\t male   & 0      & 140    & 192    & 0      & 1      & 148    & 0      & 0.4    & 1      & 0      & 1      & 1      & 57    \\\\\n",
       "\t female & 1      & 140    & 294    & 0      & 0      & 153    & 0      & 1.3    & 1      & 0      & 2      & 1      & 56    \\\\\n",
       "\\end{tabular}\n"
      ],
      "text/markdown": [
       "\n",
       "| sex | cp | trestbps | chol | fbs | restecg | thalach | exang | oldpeak | slope | ca | thal | target | age |\n",
       "|---|---|---|---|---|---|---|---|---|---|---|---|---|---|\n",
       "| male   | 3      | 145    | 233    | 1      | 0      | 150    | 0      | 2.3    | 0      | 0      | 1      | 1      | 63     |\n",
       "| male   | 2      | 130    | 250    | 0      | 1      | 187    | 0      | 3.5    | 0      | 0      | 2      | 1      | 37     |\n",
       "| male   | 1      | 120    | 236    | 0      | 1      | 178    | 0      | 0.8    | 2      | 0      | 2      | 1      | 56     |\n",
       "| female | 0      | 120    | 354    | 0      | 1      | 163    | 1      | 0.6    | 2      | 0      | 2      | 1      | 57     |\n",
       "| male   | 0      | 140    | 192    | 0      | 1      | 148    | 0      | 0.4    | 1      | 0      | 1      | 1      | 57     |\n",
       "| female | 1      | 140    | 294    | 0      | 0      | 153    | 0      | 1.3    | 1      | 0      | 2      | 1      | 56     |\n",
       "\n"
      ],
      "text/plain": [
       "  sex    cp trestbps chol fbs restecg thalach exang oldpeak slope ca thal\n",
       "1 male   3  145      233  1   0       150     0     2.3     0     0  1   \n",
       "2 male   2  130      250  0   1       187     0     3.5     0     0  2   \n",
       "3 male   1  120      236  0   1       178     0     0.8     2     0  2   \n",
       "4 female 0  120      354  0   1       163     1     0.6     2     0  2   \n",
       "5 male   0  140      192  0   1       148     0     0.4     1     0  1   \n",
       "6 female 1  140      294  0   0       153     0     1.3     1     0  2   \n",
       "  target age\n",
       "1 1      63 \n",
       "2 1      37 \n",
       "3 1      56 \n",
       "4 1      57 \n",
       "5 1      57 \n",
       "6 1      56 "
      ]
     },
     "metadata": {},
     "output_type": "display_data"
    }
   ],
   "source": [
    "#filter can be used also to subset rows \n",
    "\n",
    "#lets find male or people where cholestoral is greater than the mean cholestorol\n",
    "\n",
    "a<-filter(df,sex=='male'  | chol > mean(df$chol))\n",
    "\n",
    "head(a)"
   ]
  },
  {
   "cell_type": "code",
   "execution_count": 11,
   "id": "c969b284",
   "metadata": {},
   "outputs": [
    {
     "data": {
      "text/html": [
       "<table>\n",
       "<thead><tr><th scope=col>sex</th><th scope=col>cp</th><th scope=col>trestbps</th><th scope=col>chol</th><th scope=col>fbs</th><th scope=col>restecg</th><th scope=col>thalach</th><th scope=col>exang</th><th scope=col>oldpeak</th><th scope=col>slope</th><th scope=col>ca</th><th scope=col>thal</th><th scope=col>target</th><th scope=col>age</th></tr></thead>\n",
       "<tbody>\n",
       "\t<tr><td>female</td><td>0     </td><td>120   </td><td>354   </td><td>0     </td><td>1     </td><td>163   </td><td>1     </td><td>0.6   </td><td>2     </td><td>0     </td><td>2     </td><td>1     </td><td>57    </td></tr>\n",
       "\t<tr><td>female</td><td>0     </td><td>130   </td><td>264   </td><td>0     </td><td>0     </td><td>143   </td><td>0     </td><td>0.4   </td><td>1     </td><td>0     </td><td>2     </td><td>1     </td><td>53    </td></tr>\n",
       "\t<tr><td>female</td><td>0     </td><td>138   </td><td>234   </td><td>0     </td><td>0     </td><td>160   </td><td>0     </td><td>0.0   </td><td>2     </td><td>0     </td><td>2     </td><td>1     </td><td>53    </td></tr>\n",
       "\t<tr><td>female</td><td>0     </td><td>128   </td><td>303   </td><td>0     </td><td>0     </td><td>159   </td><td>0     </td><td>0.0   </td><td>2     </td><td>1     </td><td>2     </td><td>1     </td><td>57    </td></tr>\n",
       "\t<tr><td>female</td><td>0     </td><td>138   </td><td>183   </td><td>0     </td><td>1     </td><td>182   </td><td>0     </td><td>1.4   </td><td>2     </td><td>0     </td><td>2     </td><td>1     </td><td>35    </td></tr>\n",
       "\t<tr><td>female</td><td>0     </td><td>124   </td><td>209   </td><td>0     </td><td>1     </td><td>163   </td><td>0     </td><td>0.0   </td><td>2     </td><td>0     </td><td>2     </td><td>1     </td><td>62    </td></tr>\n",
       "</tbody>\n",
       "</table>\n"
      ],
      "text/latex": [
       "\\begin{tabular}{r|llllllllllllll}\n",
       " sex & cp & trestbps & chol & fbs & restecg & thalach & exang & oldpeak & slope & ca & thal & target & age\\\\\n",
       "\\hline\n",
       "\t female & 0      & 120    & 354    & 0      & 1      & 163    & 1      & 0.6    & 2      & 0      & 2      & 1      & 57    \\\\\n",
       "\t female & 0      & 130    & 264    & 0      & 0      & 143    & 0      & 0.4    & 1      & 0      & 2      & 1      & 53    \\\\\n",
       "\t female & 0      & 138    & 234    & 0      & 0      & 160    & 0      & 0.0    & 2      & 0      & 2      & 1      & 53    \\\\\n",
       "\t female & 0      & 128    & 303    & 0      & 0      & 159    & 0      & 0.0    & 2      & 1      & 2      & 1      & 57    \\\\\n",
       "\t female & 0      & 138    & 183    & 0      & 1      & 182    & 0      & 1.4    & 2      & 0      & 2      & 1      & 35    \\\\\n",
       "\t female & 0      & 124    & 209    & 0      & 1      & 163    & 0      & 0.0    & 2      & 0      & 2      & 1      & 62    \\\\\n",
       "\\end{tabular}\n"
      ],
      "text/markdown": [
       "\n",
       "| sex | cp | trestbps | chol | fbs | restecg | thalach | exang | oldpeak | slope | ca | thal | target | age |\n",
       "|---|---|---|---|---|---|---|---|---|---|---|---|---|---|\n",
       "| female | 0      | 120    | 354    | 0      | 1      | 163    | 1      | 0.6    | 2      | 0      | 2      | 1      | 57     |\n",
       "| female | 0      | 130    | 264    | 0      | 0      | 143    | 0      | 0.4    | 1      | 0      | 2      | 1      | 53     |\n",
       "| female | 0      | 138    | 234    | 0      | 0      | 160    | 0      | 0.0    | 2      | 0      | 2      | 1      | 53     |\n",
       "| female | 0      | 128    | 303    | 0      | 0      | 159    | 0      | 0.0    | 2      | 1      | 2      | 1      | 57     |\n",
       "| female | 0      | 138    | 183    | 0      | 1      | 182    | 0      | 1.4    | 2      | 0      | 2      | 1      | 35     |\n",
       "| female | 0      | 124    | 209    | 0      | 1      | 163    | 0      | 0.0    | 2      | 0      | 2      | 1      | 62     |\n",
       "\n"
      ],
      "text/plain": [
       "  sex    cp trestbps chol fbs restecg thalach exang oldpeak slope ca thal\n",
       "1 female 0  120      354  0   1       163     1     0.6     2     0  2   \n",
       "2 female 0  130      264  0   0       143     0     0.4     1     0  2   \n",
       "3 female 0  138      234  0   0       160     0     0.0     2     0  2   \n",
       "4 female 0  128      303  0   0       159     0     0.0     2     1  2   \n",
       "5 female 0  138      183  0   1       182     0     1.4     2     0  2   \n",
       "6 female 0  124      209  0   1       163     0     0.0     2     0  2   \n",
       "  target age\n",
       "1 1      57 \n",
       "2 1      53 \n",
       "3 1      53 \n",
       "4 1      57 \n",
       "5 1      35 \n",
       "6 1      62 "
      ]
     },
     "metadata": {},
     "output_type": "display_data"
    }
   ],
   "source": [
    "#subsetting by column\n",
    "\n",
    "a<-arrange(df,sex,cp)  #arrange works like order by a certain column\n",
    "\n",
    "head(a)"
   ]
  },
  {
   "cell_type": "code",
   "execution_count": 12,
   "id": "ca22b138",
   "metadata": {},
   "outputs": [
    {
     "data": {
      "text/html": [
       "<table>\n",
       "<thead><tr><th scope=col>sex</th><th scope=col>cp</th><th scope=col>trestbps</th><th scope=col>chol</th><th scope=col>fbs</th><th scope=col>restecg</th><th scope=col>thalach</th><th scope=col>exang</th><th scope=col>oldpeak</th><th scope=col>slope</th><th scope=col>ca</th><th scope=col>thal</th><th scope=col>target</th><th scope=col>age</th></tr></thead>\n",
       "<tbody>\n",
       "\t<tr><td>male  </td><td>0     </td><td>125   </td><td>304   </td><td>0     </td><td>0     </td><td>162   </td><td>1     </td><td>0.0   </td><td>2     </td><td>3     </td><td>2     </td><td>0     </td><td>77    </td></tr>\n",
       "\t<tr><td>female</td><td>2     </td><td>140   </td><td>197   </td><td>0     </td><td>2     </td><td>116   </td><td>0     </td><td>1.1   </td><td>1     </td><td>0     </td><td>2     </td><td>1     </td><td>76    </td></tr>\n",
       "\t<tr><td>female</td><td>1     </td><td>120   </td><td>269   </td><td>0     </td><td>0     </td><td>121   </td><td>1     </td><td>0.2   </td><td>2     </td><td>1     </td><td>2     </td><td>1     </td><td>74    </td></tr>\n",
       "\t<tr><td>female</td><td>1     </td><td>160   </td><td>302   </td><td>0     </td><td>1     </td><td>162   </td><td>0     </td><td>0.4   </td><td>2     </td><td>2     </td><td>2     </td><td>1     </td><td>71    </td></tr>\n",
       "\t<tr><td>female</td><td>2     </td><td>110   </td><td>265   </td><td>1     </td><td>0     </td><td>130   </td><td>0     </td><td>0.0   </td><td>2     </td><td>1     </td><td>2     </td><td>1     </td><td>71    </td></tr>\n",
       "\t<tr><td>female</td><td>0     </td><td>112   </td><td>149   </td><td>0     </td><td>1     </td><td>125   </td><td>0     </td><td>1.6   </td><td>1     </td><td>0     </td><td>2     </td><td>1     </td><td>71    </td></tr>\n",
       "</tbody>\n",
       "</table>\n"
      ],
      "text/latex": [
       "\\begin{tabular}{r|llllllllllllll}\n",
       " sex & cp & trestbps & chol & fbs & restecg & thalach & exang & oldpeak & slope & ca & thal & target & age\\\\\n",
       "\\hline\n",
       "\t male   & 0      & 125    & 304    & 0      & 0      & 162    & 1      & 0.0    & 2      & 3      & 2      & 0      & 77    \\\\\n",
       "\t female & 2      & 140    & 197    & 0      & 2      & 116    & 0      & 1.1    & 1      & 0      & 2      & 1      & 76    \\\\\n",
       "\t female & 1      & 120    & 269    & 0      & 0      & 121    & 1      & 0.2    & 2      & 1      & 2      & 1      & 74    \\\\\n",
       "\t female & 1      & 160    & 302    & 0      & 1      & 162    & 0      & 0.4    & 2      & 2      & 2      & 1      & 71    \\\\\n",
       "\t female & 2      & 110    & 265    & 1      & 0      & 130    & 0      & 0.0    & 2      & 1      & 2      & 1      & 71    \\\\\n",
       "\t female & 0      & 112    & 149    & 0      & 1      & 125    & 0      & 1.6    & 1      & 0      & 2      & 1      & 71    \\\\\n",
       "\\end{tabular}\n"
      ],
      "text/markdown": [
       "\n",
       "| sex | cp | trestbps | chol | fbs | restecg | thalach | exang | oldpeak | slope | ca | thal | target | age |\n",
       "|---|---|---|---|---|---|---|---|---|---|---|---|---|---|\n",
       "| male   | 0      | 125    | 304    | 0      | 0      | 162    | 1      | 0.0    | 2      | 3      | 2      | 0      | 77     |\n",
       "| female | 2      | 140    | 197    | 0      | 2      | 116    | 0      | 1.1    | 1      | 0      | 2      | 1      | 76     |\n",
       "| female | 1      | 120    | 269    | 0      | 0      | 121    | 1      | 0.2    | 2      | 1      | 2      | 1      | 74     |\n",
       "| female | 1      | 160    | 302    | 0      | 1      | 162    | 0      | 0.4    | 2      | 2      | 2      | 1      | 71     |\n",
       "| female | 2      | 110    | 265    | 1      | 0      | 130    | 0      | 0.0    | 2      | 1      | 2      | 1      | 71     |\n",
       "| female | 0      | 112    | 149    | 0      | 1      | 125    | 0      | 1.6    | 1      | 0      | 2      | 1      | 71     |\n",
       "\n"
      ],
      "text/plain": [
       "  sex    cp trestbps chol fbs restecg thalach exang oldpeak slope ca thal\n",
       "1 male   0  125      304  0   0       162     1     0.0     2     3  2   \n",
       "2 female 2  140      197  0   2       116     0     1.1     1     0  2   \n",
       "3 female 1  120      269  0   0       121     1     0.2     2     1  2   \n",
       "4 female 1  160      302  0   1       162     0     0.4     2     2  2   \n",
       "5 female 2  110      265  1   0       130     0     0.0     2     1  2   \n",
       "6 female 0  112      149  0   1       125     0     1.6     1     0  2   \n",
       "  target age\n",
       "1 0      77 \n",
       "2 1      76 \n",
       "3 1      74 \n",
       "4 1      71 \n",
       "5 1      71 \n",
       "6 1      71 "
      ]
     },
     "metadata": {},
     "output_type": "display_data"
    }
   ],
   "source": [
    "a<-arrange(df,desc(age))  #arrange works like order by a certain column\n",
    "\n",
    "head(a)"
   ]
  },
  {
   "cell_type": "code",
   "execution_count": 13,
   "id": "1d90f85a",
   "metadata": {},
   "outputs": [
    {
     "data": {
      "text/html": [
       "<table>\n",
       "<thead><tr><th scope=col>sex</th><th scope=col>cp</th><th scope=col>trestbps</th><th scope=col>chol</th><th scope=col>fbs</th><th scope=col>restecg</th><th scope=col>thalach</th><th scope=col>exang</th><th scope=col>oldpeak</th><th scope=col>slope</th><th scope=col>ca</th><th scope=col>thal</th><th scope=col>target</th><th scope=col>age</th></tr></thead>\n",
       "<tbody>\n",
       "\t<tr><td>female</td><td>2     </td><td>115   </td><td>564   </td><td>0     </td><td>0     </td><td>160   </td><td>0     </td><td>1.6   </td><td>1     </td><td>0     </td><td>3     </td><td>1     </td><td>67    </td></tr>\n",
       "\t<tr><td>female</td><td>2     </td><td>102   </td><td>318   </td><td>0     </td><td>1     </td><td>160   </td><td>0     </td><td>0.0   </td><td>2     </td><td>1     </td><td>2     </td><td>1     </td><td>60    </td></tr>\n",
       "\t<tr><td>female</td><td>0     </td><td>134   </td><td>409   </td><td>0     </td><td>0     </td><td>150   </td><td>1     </td><td>1.9   </td><td>1     </td><td>2     </td><td>3     </td><td>0     </td><td>56    </td></tr>\n",
       "\t<tr><td>male  </td><td>0     </td><td>110   </td><td>335   </td><td>0     </td><td>1     </td><td>143   </td><td>1     </td><td>3.0   </td><td>1     </td><td>1     </td><td>3     </td><td>0     </td><td>57    </td></tr>\n",
       "\t<tr><td>male  </td><td>0     </td><td>100   </td><td>299   </td><td>0     </td><td>0     </td><td>125   </td><td>1     </td><td>0.9   </td><td>1     </td><td>2     </td><td>2     </td><td>0     </td><td>67    </td></tr>\n",
       "\t<tr><td>female</td><td>2     </td><td>140   </td><td>417   </td><td>1     </td><td>0     </td><td>157   </td><td>0     </td><td>0.8   </td><td>2     </td><td>1     </td><td>2     </td><td>1     </td><td>65    </td></tr>\n",
       "</tbody>\n",
       "</table>\n"
      ],
      "text/latex": [
       "\\begin{tabular}{r|llllllllllllll}\n",
       " sex & cp & trestbps & chol & fbs & restecg & thalach & exang & oldpeak & slope & ca & thal & target & age\\\\\n",
       "\\hline\n",
       "\t female & 2      & 115    & 564    & 0      & 0      & 160    & 0      & 1.6    & 1      & 0      & 3      & 1      & 67    \\\\\n",
       "\t female & 2      & 102    & 318    & 0      & 1      & 160    & 0      & 0.0    & 2      & 1      & 2      & 1      & 60    \\\\\n",
       "\t female & 0      & 134    & 409    & 0      & 0      & 150    & 1      & 1.9    & 1      & 2      & 3      & 0      & 56    \\\\\n",
       "\t male   & 0      & 110    & 335    & 0      & 1      & 143    & 1      & 3.0    & 1      & 1      & 3      & 0      & 57    \\\\\n",
       "\t male   & 0      & 100    & 299    & 0      & 0      & 125    & 1      & 0.9    & 1      & 2      & 2      & 0      & 67    \\\\\n",
       "\t female & 2      & 140    & 417    & 1      & 0      & 157    & 0      & 0.8    & 2      & 1      & 2      & 1      & 65    \\\\\n",
       "\\end{tabular}\n"
      ],
      "text/markdown": [
       "\n",
       "| sex | cp | trestbps | chol | fbs | restecg | thalach | exang | oldpeak | slope | ca | thal | target | age |\n",
       "|---|---|---|---|---|---|---|---|---|---|---|---|---|---|\n",
       "| female | 2      | 115    | 564    | 0      | 0      | 160    | 0      | 1.6    | 1      | 0      | 3      | 1      | 67     |\n",
       "| female | 2      | 102    | 318    | 0      | 1      | 160    | 0      | 0.0    | 2      | 1      | 2      | 1      | 60     |\n",
       "| female | 0      | 134    | 409    | 0      | 0      | 150    | 1      | 1.9    | 1      | 2      | 3      | 0      | 56     |\n",
       "| male   | 0      | 110    | 335    | 0      | 1      | 143    | 1      | 3.0    | 1      | 1      | 3      | 0      | 57     |\n",
       "| male   | 0      | 100    | 299    | 0      | 0      | 125    | 1      | 0.9    | 1      | 2      | 2      | 0      | 67     |\n",
       "| female | 2      | 140    | 417    | 1      | 0      | 157    | 0      | 0.8    | 2      | 1      | 2      | 1      | 65     |\n",
       "\n"
      ],
      "text/plain": [
       "  sex    cp trestbps chol fbs restecg thalach exang oldpeak slope ca thal\n",
       "1 female 2  115      564  0   0       160     0     1.6     1     0  3   \n",
       "2 female 2  102      318  0   1       160     0     0.0     2     1  2   \n",
       "3 female 0  134      409  0   0       150     1     1.9     1     2  3   \n",
       "4 male   0  110      335  0   1       143     1     3.0     1     1  3   \n",
       "5 male   0  100      299  0   0       125     1     0.9     1     2  2   \n",
       "6 female 2  140      417  1   0       157     0     0.8     2     1  2   \n",
       "  target age\n",
       "1 1      67 \n",
       "2 1      60 \n",
       "3 0      56 \n",
       "4 0      57 \n",
       "5 0      67 \n",
       "6 1      65 "
      ]
     },
     "metadata": {},
     "output_type": "display_data"
    }
   ],
   "source": [
    "a<-arrange(df,desc(chol/trestbps))  #arrange by chols/trestbps ratio  \n",
    "\n",
    "head(a)"
   ]
  },
  {
   "cell_type": "code",
   "execution_count": 14,
   "id": "ffce7768",
   "metadata": {},
   "outputs": [],
   "source": [
    "df_5<-sample_frac(df,size=0.5, replace=FALSE)  #Generating 50 random rows"
   ]
  },
  {
   "cell_type": "code",
   "execution_count": 15,
   "id": "6e7fa5b0",
   "metadata": {},
   "outputs": [],
   "source": [
    "df_100<-sample_n(df,100, replace= FALSE)"
   ]
  },
  {
   "cell_type": "code",
   "execution_count": 16,
   "id": "17b7da46",
   "metadata": {},
   "outputs": [
    {
     "data": {
      "text/html": [
       "<table>\n",
       "<thead><tr><th scope=col>sex</th><th scope=col>cp</th><th scope=col>trestbps</th><th scope=col>chol</th><th scope=col>fbs</th><th scope=col>restecg</th><th scope=col>thalach</th><th scope=col>exang</th><th scope=col>oldpeak</th><th scope=col>slope</th><th scope=col>ca</th><th scope=col>thal</th><th scope=col>target</th><th scope=col>age</th></tr></thead>\n",
       "<tbody>\n",
       "\t<tr><td>male</td><td>0   </td><td>132 </td><td>353 </td><td>0   </td><td>1   </td><td>132 </td><td>1   </td><td>1.2 </td><td>1   </td><td>1   </td><td>3   </td><td>0   </td><td>55  </td></tr>\n",
       "\t<tr><td>male</td><td>3   </td><td>170 </td><td>288 </td><td>0   </td><td>0   </td><td>159 </td><td>0   </td><td>0.2 </td><td>1   </td><td>0   </td><td>3   </td><td>0   </td><td>59  </td></tr>\n",
       "\t<tr><td>male</td><td>0   </td><td>140 </td><td>226 </td><td>0   </td><td>1   </td><td>178 </td><td>0   </td><td>0.0 </td><td>2   </td><td>0   </td><td>2   </td><td>1   </td><td>42  </td></tr>\n",
       "\t<tr><td>male</td><td>2   </td><td> 94 </td><td>227 </td><td>0   </td><td>1   </td><td>154 </td><td>1   </td><td>0.0 </td><td>2   </td><td>1   </td><td>3   </td><td>1   </td><td>51  </td></tr>\n",
       "\t<tr><td>male</td><td>2   </td><td>126 </td><td>218 </td><td>1   </td><td>1   </td><td>134 </td><td>0   </td><td>2.2 </td><td>1   </td><td>1   </td><td>1   </td><td>0   </td><td>59  </td></tr>\n",
       "\t<tr><td>male</td><td>0   </td><td>128 </td><td>216 </td><td>0   </td><td>0   </td><td>131 </td><td>1   </td><td>2.2 </td><td>1   </td><td>3   </td><td>3   </td><td>0   </td><td>58  </td></tr>\n",
       "</tbody>\n",
       "</table>\n"
      ],
      "text/latex": [
       "\\begin{tabular}{r|llllllllllllll}\n",
       " sex & cp & trestbps & chol & fbs & restecg & thalach & exang & oldpeak & slope & ca & thal & target & age\\\\\n",
       "\\hline\n",
       "\t male & 0    & 132  & 353  & 0    & 1    & 132  & 1    & 1.2  & 1    & 1    & 3    & 0    & 55  \\\\\n",
       "\t male & 3    & 170  & 288  & 0    & 0    & 159  & 0    & 0.2  & 1    & 0    & 3    & 0    & 59  \\\\\n",
       "\t male & 0    & 140  & 226  & 0    & 1    & 178  & 0    & 0.0  & 2    & 0    & 2    & 1    & 42  \\\\\n",
       "\t male & 2    &  94  & 227  & 0    & 1    & 154  & 1    & 0.0  & 2    & 1    & 3    & 1    & 51  \\\\\n",
       "\t male & 2    & 126  & 218  & 1    & 1    & 134  & 0    & 2.2  & 1    & 1    & 1    & 0    & 59  \\\\\n",
       "\t male & 0    & 128  & 216  & 0    & 0    & 131  & 1    & 2.2  & 1    & 3    & 3    & 0    & 58  \\\\\n",
       "\\end{tabular}\n"
      ],
      "text/markdown": [
       "\n",
       "| sex | cp | trestbps | chol | fbs | restecg | thalach | exang | oldpeak | slope | ca | thal | target | age |\n",
       "|---|---|---|---|---|---|---|---|---|---|---|---|---|---|\n",
       "| male | 0    | 132  | 353  | 0    | 1    | 132  | 1    | 1.2  | 1    | 1    | 3    | 0    | 55   |\n",
       "| male | 3    | 170  | 288  | 0    | 0    | 159  | 0    | 0.2  | 1    | 0    | 3    | 0    | 59   |\n",
       "| male | 0    | 140  | 226  | 0    | 1    | 178  | 0    | 0.0  | 2    | 0    | 2    | 1    | 42   |\n",
       "| male | 2    |  94  | 227  | 0    | 1    | 154  | 1    | 0.0  | 2    | 1    | 3    | 1    | 51   |\n",
       "| male | 2    | 126  | 218  | 1    | 1    | 134  | 0    | 2.2  | 1    | 1    | 1    | 0    | 59   |\n",
       "| male | 0    | 128  | 216  | 0    | 0    | 131  | 1    | 2.2  | 1    | 3    | 3    | 0    | 58   |\n",
       "\n"
      ],
      "text/plain": [
       "  sex  cp trestbps chol fbs restecg thalach exang oldpeak slope ca thal target\n",
       "1 male 0  132      353  0   1       132     1     1.2     1     1  3    0     \n",
       "2 male 3  170      288  0   0       159     0     0.2     1     0  3    0     \n",
       "3 male 0  140      226  0   1       178     0     0.0     2     0  2    1     \n",
       "4 male 2   94      227  0   1       154     1     0.0     2     1  3    1     \n",
       "5 male 2  126      218  1   1       134     0     2.2     1     1  1    0     \n",
       "6 male 0  128      216  0   0       131     1     2.2     1     3  3    0     \n",
       "  age\n",
       "1 55 \n",
       "2 59 \n",
       "3 42 \n",
       "4 51 \n",
       "5 59 \n",
       "6 58 "
      ]
     },
     "metadata": {},
     "output_type": "display_data"
    }
   ],
   "source": [
    "head(df_100)"
   ]
  },
  {
   "cell_type": "code",
   "execution_count": 17,
   "id": "fdc0f7ec",
   "metadata": {},
   "outputs": [
    {
     "data": {
      "text/html": [
       "<table>\n",
       "<thead><tr><th scope=col>sex</th><th scope=col>cp</th><th scope=col>trestbps</th><th scope=col>chol</th><th scope=col>fbs</th><th scope=col>restecg</th><th scope=col>thalach</th><th scope=col>exang</th><th scope=col>oldpeak</th><th scope=col>slope</th><th scope=col>ca</th><th scope=col>thal</th><th scope=col>target</th><th scope=col>age</th></tr></thead>\n",
       "<tbody>\n",
       "\t<tr><td>female</td><td>1     </td><td>134   </td><td>271   </td><td>0     </td><td>1     </td><td>162   </td><td>0     </td><td>0.0   </td><td>1     </td><td>0     </td><td>2     </td><td>1     </td><td>49    </td></tr>\n",
       "\t<tr><td>male  </td><td>0     </td><td>128   </td><td>216   </td><td>0     </td><td>0     </td><td>131   </td><td>1     </td><td>2.2   </td><td>1     </td><td>3     </td><td>3     </td><td>0     </td><td>58    </td></tr>\n",
       "\t<tr><td>male  </td><td>0     </td><td>126   </td><td>282   </td><td>0     </td><td>0     </td><td>156   </td><td>1     </td><td>0.0   </td><td>2     </td><td>0     </td><td>3     </td><td>0     </td><td>35    </td></tr>\n",
       "\t<tr><td>male  </td><td>2     </td><td>150   </td><td>243   </td><td>1     </td><td>1     </td><td>137   </td><td>1     </td><td>1.0   </td><td>1     </td><td>0     </td><td>2     </td><td>1     </td><td>61    </td></tr>\n",
       "\t<tr><td>female</td><td>2     </td><td>108   </td><td>267   </td><td>0     </td><td>0     </td><td>167   </td><td>0     </td><td>0.0   </td><td>2     </td><td>0     </td><td>2     </td><td>1     </td><td>54    </td></tr>\n",
       "\t<tr><td>male  </td><td>0     </td><td>110   </td><td>206   </td><td>0     </td><td>0     </td><td>108   </td><td>1     </td><td>0.0   </td><td>1     </td><td>1     </td><td>2     </td><td>0     </td><td>54    </td></tr>\n",
       "</tbody>\n",
       "</table>\n"
      ],
      "text/latex": [
       "\\begin{tabular}{r|llllllllllllll}\n",
       " sex & cp & trestbps & chol & fbs & restecg & thalach & exang & oldpeak & slope & ca & thal & target & age\\\\\n",
       "\\hline\n",
       "\t female & 1      & 134    & 271    & 0      & 1      & 162    & 0      & 0.0    & 1      & 0      & 2      & 1      & 49    \\\\\n",
       "\t male   & 0      & 128    & 216    & 0      & 0      & 131    & 1      & 2.2    & 1      & 3      & 3      & 0      & 58    \\\\\n",
       "\t male   & 0      & 126    & 282    & 0      & 0      & 156    & 1      & 0.0    & 2      & 0      & 3      & 0      & 35    \\\\\n",
       "\t male   & 2      & 150    & 243    & 1      & 1      & 137    & 1      & 1.0    & 1      & 0      & 2      & 1      & 61    \\\\\n",
       "\t female & 2      & 108    & 267    & 0      & 0      & 167    & 0      & 0.0    & 2      & 0      & 2      & 1      & 54    \\\\\n",
       "\t male   & 0      & 110    & 206    & 0      & 0      & 108    & 1      & 0.0    & 1      & 1      & 2      & 0      & 54    \\\\\n",
       "\\end{tabular}\n"
      ],
      "text/markdown": [
       "\n",
       "| sex | cp | trestbps | chol | fbs | restecg | thalach | exang | oldpeak | slope | ca | thal | target | age |\n",
       "|---|---|---|---|---|---|---|---|---|---|---|---|---|---|\n",
       "| female | 1      | 134    | 271    | 0      | 1      | 162    | 0      | 0.0    | 1      | 0      | 2      | 1      | 49     |\n",
       "| male   | 0      | 128    | 216    | 0      | 0      | 131    | 1      | 2.2    | 1      | 3      | 3      | 0      | 58     |\n",
       "| male   | 0      | 126    | 282    | 0      | 0      | 156    | 1      | 0.0    | 2      | 0      | 3      | 0      | 35     |\n",
       "| male   | 2      | 150    | 243    | 1      | 1      | 137    | 1      | 1.0    | 1      | 0      | 2      | 1      | 61     |\n",
       "| female | 2      | 108    | 267    | 0      | 0      | 167    | 0      | 0.0    | 2      | 0      | 2      | 1      | 54     |\n",
       "| male   | 0      | 110    | 206    | 0      | 0      | 108    | 1      | 0.0    | 1      | 1      | 2      | 0      | 54     |\n",
       "\n"
      ],
      "text/plain": [
       "  sex    cp trestbps chol fbs restecg thalach exang oldpeak slope ca thal\n",
       "1 female 1  134      271  0   1       162     0     0.0     1     0  2   \n",
       "2 male   0  128      216  0   0       131     1     2.2     1     3  3   \n",
       "3 male   0  126      282  0   0       156     1     0.0     2     0  3   \n",
       "4 male   2  150      243  1   1       137     1     1.0     1     0  2   \n",
       "5 female 2  108      267  0   0       167     0     0.0     2     0  2   \n",
       "6 male   0  110      206  0   0       108     1     0.0     1     1  2   \n",
       "  target age\n",
       "1 1      49 \n",
       "2 0      58 \n",
       "3 0      35 \n",
       "4 1      61 \n",
       "5 1      54 \n",
       "6 0      54 "
      ]
     },
     "metadata": {},
     "output_type": "display_data"
    }
   ],
   "source": [
    "head(df_5)"
   ]
  },
  {
   "cell_type": "code",
   "execution_count": 18,
   "id": "22f0fe16",
   "metadata": {},
   "outputs": [
    {
     "data": {
      "text/html": [
       "<table>\n",
       "<thead><tr><th scope=col>sex</th><th scope=col>cp</th><th scope=col>trestbps</th><th scope=col>chol</th><th scope=col>fbs</th><th scope=col>restecg</th><th scope=col>thalach</th><th scope=col>exang</th><th scope=col>oldpeak</th><th scope=col>slope</th><th scope=col>ca</th><th scope=col>thal</th><th scope=col>target</th><th scope=col>age</th></tr></thead>\n",
       "<tbody>\n",
       "\t<tr><td>female</td><td>2     </td><td>140   </td><td>417   </td><td>1     </td><td>0     </td><td>157   </td><td>0     </td><td>0.8   </td><td>2     </td><td>1     </td><td>2     </td><td>1     </td><td>65    </td></tr>\n",
       "\t<tr><td>female</td><td>2     </td><td>115   </td><td>564   </td><td>0     </td><td>0     </td><td>160   </td><td>0     </td><td>1.6   </td><td>1     </td><td>0     </td><td>3     </td><td>1     </td><td>67    </td></tr>\n",
       "\t<tr><td>female</td><td>0     </td><td>134   </td><td>409   </td><td>0     </td><td>0     </td><td>150   </td><td>1     </td><td>1.9   </td><td>1     </td><td>2     </td><td>3     </td><td>0     </td><td>56    </td></tr>\n",
       "</tbody>\n",
       "</table>\n"
      ],
      "text/latex": [
       "\\begin{tabular}{r|llllllllllllll}\n",
       " sex & cp & trestbps & chol & fbs & restecg & thalach & exang & oldpeak & slope & ca & thal & target & age\\\\\n",
       "\\hline\n",
       "\t female & 2      & 140    & 417    & 1      & 0      & 157    & 0      & 0.8    & 2      & 1      & 2      & 1      & 65    \\\\\n",
       "\t female & 2      & 115    & 564    & 0      & 0      & 160    & 0      & 1.6    & 1      & 0      & 3      & 1      & 67    \\\\\n",
       "\t female & 0      & 134    & 409    & 0      & 0      & 150    & 1      & 1.9    & 1      & 2      & 3      & 0      & 56    \\\\\n",
       "\\end{tabular}\n"
      ],
      "text/markdown": [
       "\n",
       "| sex | cp | trestbps | chol | fbs | restecg | thalach | exang | oldpeak | slope | ca | thal | target | age |\n",
       "|---|---|---|---|---|---|---|---|---|---|---|---|---|---|\n",
       "| female | 2      | 140    | 417    | 1      | 0      | 157    | 0      | 0.8    | 2      | 1      | 2      | 1      | 65     |\n",
       "| female | 2      | 115    | 564    | 0      | 0      | 160    | 0      | 1.6    | 1      | 0      | 3      | 1      | 67     |\n",
       "| female | 0      | 134    | 409    | 0      | 0      | 150    | 1      | 1.9    | 1      | 2      | 3      | 0      | 56     |\n",
       "\n"
      ],
      "text/plain": [
       "  sex    cp trestbps chol fbs restecg thalach exang oldpeak slope ca thal\n",
       "1 female 2  140      417  1   0       157     0     0.8     2     1  2   \n",
       "2 female 2  115      564  0   0       160     0     1.6     1     0  3   \n",
       "3 female 0  134      409  0   0       150     1     1.9     1     2  3   \n",
       "  target age\n",
       "1 1      65 \n",
       "2 1      67 \n",
       "3 0      56 "
      ]
     },
     "metadata": {},
     "output_type": "display_data"
    }
   ],
   "source": [
    "#Selecting rows with highest value\n",
    "\n",
    "top_n(df,3,chol)   #top three rows with highest cholestorol\n",
    "\n"
   ]
  },
  {
   "cell_type": "code",
   "execution_count": 19,
   "id": "abfa17d0",
   "metadata": {},
   "outputs": [],
   "source": [
    "#Subsetting columns using select\n",
    "\n",
    "a<-select(df, sex,cp, exang, age)\n"
   ]
  },
  {
   "cell_type": "code",
   "execution_count": 20,
   "id": "c8da45fa",
   "metadata": {},
   "outputs": [],
   "source": [
    "df1<-select(df,-chol) #removing a column"
   ]
  },
  {
   "cell_type": "code",
   "execution_count": 21,
   "id": "a2523bf1",
   "metadata": {},
   "outputs": [
    {
     "data": {
      "text/html": [
       "<table>\n",
       "<thead><tr><th scope=col>sex</th><th scope=col>chol</th><th scope=col>age</th><th scope=col>slope</th><th scope=col>age_chol</th><th scope=col>age_slope</th><th scope=col>ageXchol</th></tr></thead>\n",
       "<tbody>\n",
       "\t<tr><td>male      </td><td>233       </td><td>63        </td><td>0         </td><td>3.698413  </td><td>0.00000000</td><td>14679     </td></tr>\n",
       "\t<tr><td>male      </td><td>250       </td><td>37        </td><td>0         </td><td>6.756757  </td><td>0.00000000</td><td> 9250     </td></tr>\n",
       "\t<tr><td>female    </td><td>204       </td><td>41        </td><td>2         </td><td>4.975610  </td><td>0.04878049</td><td> 8364     </td></tr>\n",
       "\t<tr><td>male      </td><td>236       </td><td>56        </td><td>2         </td><td>4.214286  </td><td>0.03571429</td><td>13216     </td></tr>\n",
       "\t<tr><td>female    </td><td>354       </td><td>57        </td><td>2         </td><td>6.210526  </td><td>0.03508772</td><td>20178     </td></tr>\n",
       "\t<tr><td>male      </td><td>192       </td><td>57        </td><td>1         </td><td>3.368421  </td><td>0.01754386</td><td>10944     </td></tr>\n",
       "</tbody>\n",
       "</table>\n"
      ],
      "text/latex": [
       "\\begin{tabular}{r|lllllll}\n",
       " sex & chol & age & slope & age\\_chol & age\\_slope & ageXchol\\\\\n",
       "\\hline\n",
       "\t male       & 233        & 63         & 0          & 3.698413   & 0.00000000 & 14679     \\\\\n",
       "\t male       & 250        & 37         & 0          & 6.756757   & 0.00000000 &  9250     \\\\\n",
       "\t female     & 204        & 41         & 2          & 4.975610   & 0.04878049 &  8364     \\\\\n",
       "\t male       & 236        & 56         & 2          & 4.214286   & 0.03571429 & 13216     \\\\\n",
       "\t female     & 354        & 57         & 2          & 6.210526   & 0.03508772 & 20178     \\\\\n",
       "\t male       & 192        & 57         & 1          & 3.368421   & 0.01754386 & 10944     \\\\\n",
       "\\end{tabular}\n"
      ],
      "text/markdown": [
       "\n",
       "| sex | chol | age | slope | age_chol | age_slope | ageXchol |\n",
       "|---|---|---|---|---|---|---|\n",
       "| male       | 233        | 63         | 0          | 3.698413   | 0.00000000 | 14679      |\n",
       "| male       | 250        | 37         | 0          | 6.756757   | 0.00000000 |  9250      |\n",
       "| female     | 204        | 41         | 2          | 4.975610   | 0.04878049 |  8364      |\n",
       "| male       | 236        | 56         | 2          | 4.214286   | 0.03571429 | 13216      |\n",
       "| female     | 354        | 57         | 2          | 6.210526   | 0.03508772 | 20178      |\n",
       "| male       | 192        | 57         | 1          | 3.368421   | 0.01754386 | 10944      |\n",
       "\n"
      ],
      "text/plain": [
       "  sex    chol age slope age_chol age_slope  ageXchol\n",
       "1 male   233  63  0     3.698413 0.00000000 14679   \n",
       "2 male   250  37  0     6.756757 0.00000000  9250   \n",
       "3 female 204  41  2     4.975610 0.04878049  8364   \n",
       "4 male   236  56  2     4.214286 0.03571429 13216   \n",
       "5 female 354  57  2     6.210526 0.03508772 20178   \n",
       "6 male   192  57  1     3.368421 0.01754386 10944   "
      ]
     },
     "metadata": {},
     "output_type": "display_data"
    }
   ],
   "source": [
    "#mutate to add new columns \n",
    "\n",
    "df2<-select(df, sex, chol, age,slope)\n",
    "\n",
    "a<-mutate(df2, age_chol= chol/age, age_slope= slope/age, ageXchol=chol * age)\n",
    "\n",
    "head(a)"
   ]
  },
  {
   "cell_type": "code",
   "execution_count": 22,
   "id": "35d89a15",
   "metadata": {},
   "outputs": [
    {
     "data": {
      "text/html": [
       "<table>\n",
       "<thead><tr><th scope=col>age_chol</th><th scope=col>age_slope</th><th scope=col>ageXchol</th></tr></thead>\n",
       "<tbody>\n",
       "\t<tr><td>3.698413  </td><td>0.00000000</td><td>14679     </td></tr>\n",
       "\t<tr><td>6.756757  </td><td>0.00000000</td><td> 9250     </td></tr>\n",
       "\t<tr><td>4.975610  </td><td>0.04878049</td><td> 8364     </td></tr>\n",
       "\t<tr><td>4.214286  </td><td>0.03571429</td><td>13216     </td></tr>\n",
       "\t<tr><td>6.210526  </td><td>0.03508772</td><td>20178     </td></tr>\n",
       "\t<tr><td>3.368421  </td><td>0.01754386</td><td>10944     </td></tr>\n",
       "</tbody>\n",
       "</table>\n"
      ],
      "text/latex": [
       "\\begin{tabular}{r|lll}\n",
       " age\\_chol & age\\_slope & ageXchol\\\\\n",
       "\\hline\n",
       "\t 3.698413   & 0.00000000 & 14679     \\\\\n",
       "\t 6.756757   & 0.00000000 &  9250     \\\\\n",
       "\t 4.975610   & 0.04878049 &  8364     \\\\\n",
       "\t 4.214286   & 0.03571429 & 13216     \\\\\n",
       "\t 6.210526   & 0.03508772 & 20178     \\\\\n",
       "\t 3.368421   & 0.01754386 & 10944     \\\\\n",
       "\\end{tabular}\n"
      ],
      "text/markdown": [
       "\n",
       "| age_chol | age_slope | ageXchol |\n",
       "|---|---|---|\n",
       "| 3.698413   | 0.00000000 | 14679      |\n",
       "| 6.756757   | 0.00000000 |  9250      |\n",
       "| 4.975610   | 0.04878049 |  8364      |\n",
       "| 4.214286   | 0.03571429 | 13216      |\n",
       "| 6.210526   | 0.03508772 | 20178      |\n",
       "| 3.368421   | 0.01754386 | 10944      |\n",
       "\n"
      ],
      "text/plain": [
       "  age_chol age_slope  ageXchol\n",
       "1 3.698413 0.00000000 14679   \n",
       "2 6.756757 0.00000000  9250   \n",
       "3 4.975610 0.04878049  8364   \n",
       "4 4.214286 0.03571429 13216   \n",
       "5 6.210526 0.03508772 20178   \n",
       "6 3.368421 0.01754386 10944   "
      ]
     },
     "metadata": {},
     "output_type": "display_data"
    }
   ],
   "source": [
    "#To keep these variables we can use Transmute\n",
    "\n",
    "a<-transmute(df2, age_chol= chol/age, age_slope= slope/age, ageXchol=chol * age)\n",
    "\n",
    "head(a)"
   ]
  },
  {
   "cell_type": "code",
   "execution_count": 23,
   "id": "d04abc58",
   "metadata": {},
   "outputs": [
    {
     "data": {
      "text/html": [
       "<table>\n",
       "<thead><tr><th scope=col>mean_chol</th></tr></thead>\n",
       "<tbody>\n",
       "\t<tr><td>246.264</td></tr>\n",
       "</tbody>\n",
       "</table>\n"
      ],
      "text/latex": [
       "\\begin{tabular}{r|l}\n",
       " mean\\_chol\\\\\n",
       "\\hline\n",
       "\t 246.264\\\\\n",
       "\\end{tabular}\n"
      ],
      "text/markdown": [
       "\n",
       "| mean_chol |\n",
       "|---|\n",
       "| 246.264 |\n",
       "\n"
      ],
      "text/plain": [
       "  mean_chol\n",
       "1 246.264  "
      ]
     },
     "metadata": {},
     "output_type": "display_data"
    }
   ],
   "source": [
    "#Summarizing data\n",
    "\n",
    "summarize(df, mean_chol=mean(chol, na.rm=T))  #mean Chol in py df.describe() or df[chol].describe()"
   ]
  },
  {
   "cell_type": "code",
   "execution_count": 24,
   "id": "8845a917",
   "metadata": {},
   "outputs": [
    {
     "data": {
      "text/plain": [
       "   Min. 1st Qu.  Median    Mean 3rd Qu.    Max. \n",
       "  29.00   47.50   55.00   54.37   61.00   77.00 "
      ]
     },
     "metadata": {},
     "output_type": "display_data"
    }
   ],
   "source": [
    "summary(df$age)\n"
   ]
  },
  {
   "cell_type": "code",
   "execution_count": 25,
   "id": "097006db",
   "metadata": {},
   "outputs": [
    {
     "data": {
      "text/html": [
       "<table>\n",
       "<thead><tr><th scope=col>mean_age</th><th scope=col>min.age</th><th scope=col>max.age</th><th scope=col>med.age</th><th scope=col>sd.age</th><th scope=col>var.age</th><th scope=col>n.age</th><th scope=col>se.age</th><th scope=col>IQR.age</th></tr></thead>\n",
       "<tbody>\n",
       "\t<tr><td>54.36634 </td><td>29       </td><td>77       </td><td>55       </td><td>9.082101 </td><td>82.48456 </td><td>303      </td><td>0.5217531</td><td>13.5     </td></tr>\n",
       "</tbody>\n",
       "</table>\n"
      ],
      "text/latex": [
       "\\begin{tabular}{r|lllllllll}\n",
       " mean\\_age & min.age & max.age & med.age & sd.age & var.age & n.age & se.age & IQR.age\\\\\n",
       "\\hline\n",
       "\t 54.36634  & 29        & 77        & 55        & 9.082101  & 82.48456  & 303       & 0.5217531 & 13.5     \\\\\n",
       "\\end{tabular}\n"
      ],
      "text/markdown": [
       "\n",
       "| mean_age | min.age | max.age | med.age | sd.age | var.age | n.age | se.age | IQR.age |\n",
       "|---|---|---|---|---|---|---|---|---|\n",
       "| 54.36634  | 29        | 77        | 55        | 9.082101  | 82.48456  | 303       | 0.5217531 | 13.5      |\n",
       "\n"
      ],
      "text/plain": [
       "  mean_age min.age max.age med.age sd.age   var.age  n.age se.age    IQR.age\n",
       "1 54.36634 29      77      55      9.082101 82.48456 303   0.5217531 13.5   "
      ]
     },
     "metadata": {},
     "output_type": "display_data"
    }
   ],
   "source": [
    "summarise(df,\n",
    "  mean_age = mean(age), # mean\n",
    "  min.age= min(age), # minimum\n",
    "  max.age = max(age), # maximum\n",
    "  med.age = median(age), # median\n",
    "  sd.age = sd(age), # standard deviation\n",
    "  var.age = var(age), # variance\n",
    "  n.age = n(), # sample size\n",
    "  se.age = sd.age / sqrt(n.age), # standard error\n",
    "  IQR.age = IQR(age))\n"
   ]
  },
  {
   "cell_type": "code",
   "execution_count": 26,
   "id": "d44b6f51",
   "metadata": {},
   "outputs": [
    {
     "data": {
      "text/html": [
       "<table>\n",
       "<thead><tr><th scope=col>sex</th><th scope=col>mean_age</th><th scope=col>min.age</th><th scope=col>max.age</th><th scope=col>med.age</th><th scope=col>sd.age</th><th scope=col>var.age</th><th scope=col>n.age</th><th scope=col>se.age</th><th scope=col>IQR.age</th></tr></thead>\n",
       "<tbody>\n",
       "\t<tr><td>female   </td><td>55.67708 </td><td>34       </td><td>76       </td><td>57       </td><td>9.409396 </td><td>88.53673 </td><td> 96      </td><td>0.9603425</td><td>13.25    </td></tr>\n",
       "\t<tr><td>male     </td><td>53.75845 </td><td>29       </td><td>77       </td><td>54       </td><td>8.883803 </td><td>78.92195 </td><td>207      </td><td>0.6174670</td><td>12.50    </td></tr>\n",
       "</tbody>\n",
       "</table>\n"
      ],
      "text/latex": [
       "\\begin{tabular}{r|llllllllll}\n",
       " sex & mean\\_age & min.age & max.age & med.age & sd.age & var.age & n.age & se.age & IQR.age\\\\\n",
       "\\hline\n",
       "\t female    & 55.67708  & 34        & 76        & 57        & 9.409396  & 88.53673  &  96       & 0.9603425 & 13.25    \\\\\n",
       "\t male      & 53.75845  & 29        & 77        & 54        & 8.883803  & 78.92195  & 207       & 0.6174670 & 12.50    \\\\\n",
       "\\end{tabular}\n"
      ],
      "text/markdown": [
       "\n",
       "| sex | mean_age | min.age | max.age | med.age | sd.age | var.age | n.age | se.age | IQR.age |\n",
       "|---|---|---|---|---|---|---|---|---|---|\n",
       "| female    | 55.67708  | 34        | 76        | 57        | 9.409396  | 88.53673  |  96       | 0.9603425 | 13.25     |\n",
       "| male      | 53.75845  | 29        | 77        | 54        | 8.883803  | 78.92195  | 207       | 0.6174670 | 12.50     |\n",
       "\n"
      ],
      "text/plain": [
       "  sex    mean_age min.age max.age med.age sd.age   var.age  n.age se.age   \n",
       "1 female 55.67708 34      76      57      9.409396 88.53673  96   0.9603425\n",
       "2 male   53.75845 29      77      54      8.883803 78.92195 207   0.6174670\n",
       "  IQR.age\n",
       "1 13.25  \n",
       "2 12.50  "
      ]
     },
     "metadata": {},
     "output_type": "display_data"
    }
   ],
   "source": [
    "#summarizing by groups\n",
    "\n",
    "df_by_sex<-group_by(df, sex)\n",
    "\n",
    "summarise(df_by_sex,\n",
    "  mean_age = mean(age), # mean\n",
    "  min.age= min(age), # minimum\n",
    "  max.age = max(age), # maximum\n",
    "  med.age = median(age), # median\n",
    "  sd.age = sd(age), # standard deviation\n",
    "  var.age = var(age), # variance\n",
    "  n.age = n(), # sample size\n",
    "  se.age = sd.age / sqrt(n.age), # standard error\n",
    "  IQR.age = IQR(age))"
   ]
  },
  {
   "cell_type": "code",
   "execution_count": 27,
   "id": "25b07456",
   "metadata": {},
   "outputs": [
    {
     "data": {
      "text/html": [
       "<table>\n",
       "<thead><tr><th scope=col>sex</th><th scope=col>mean_age</th><th scope=col>min.age</th><th scope=col>max.age</th><th scope=col>med.age</th><th scope=col>sd.age</th><th scope=col>var.age</th><th scope=col>n.age</th><th scope=col>se.age</th><th scope=col>IQR.age</th></tr></thead>\n",
       "<tbody>\n",
       "\t<tr><td>female   </td><td>55.67708 </td><td>34       </td><td>76       </td><td>57       </td><td>9.409396 </td><td>88.53673 </td><td> 96      </td><td>0.9603425</td><td>13.25    </td></tr>\n",
       "\t<tr><td>male     </td><td>53.75845 </td><td>29       </td><td>77       </td><td>54       </td><td>8.883803 </td><td>78.92195 </td><td>207      </td><td>0.6174670</td><td>12.50    </td></tr>\n",
       "</tbody>\n",
       "</table>\n"
      ],
      "text/latex": [
       "\\begin{tabular}{r|llllllllll}\n",
       " sex & mean\\_age & min.age & max.age & med.age & sd.age & var.age & n.age & se.age & IQR.age\\\\\n",
       "\\hline\n",
       "\t female    & 55.67708  & 34        & 76        & 57        & 9.409396  & 88.53673  &  96       & 0.9603425 & 13.25    \\\\\n",
       "\t male      & 53.75845  & 29        & 77        & 54        & 8.883803  & 78.92195  & 207       & 0.6174670 & 12.50    \\\\\n",
       "\\end{tabular}\n"
      ],
      "text/markdown": [
       "\n",
       "| sex | mean_age | min.age | max.age | med.age | sd.age | var.age | n.age | se.age | IQR.age |\n",
       "|---|---|---|---|---|---|---|---|---|---|\n",
       "| female    | 55.67708  | 34        | 76        | 57        | 9.409396  | 88.53673  |  96       | 0.9603425 | 13.25     |\n",
       "| male      | 53.75845  | 29        | 77        | 54        | 8.883803  | 78.92195  | 207       | 0.6174670 | 12.50     |\n",
       "\n"
      ],
      "text/plain": [
       "  sex    mean_age min.age max.age med.age sd.age   var.age  n.age se.age   \n",
       "1 female 55.67708 34      76      57      9.409396 88.53673  96   0.9603425\n",
       "2 male   53.75845 29      77      54      8.883803 78.92195 207   0.6174670\n",
       "  IQR.age\n",
       "1 13.25  \n",
       "2 12.50  "
      ]
     },
     "metadata": {},
     "output_type": "display_data"
    }
   ],
   "source": [
    "#using piping that simplifies grouping #ctrl-shift-m\n",
    "\n",
    "df %>% \n",
    "group_by(sex) %>% \n",
    "summarise(\n",
    "  mean_age = mean(age), # mean\n",
    "  min.age= min(age), # minimum\n",
    "  max.age = max(age), # maximum\n",
    "  med.age = median(age), # median\n",
    "  sd.age = sd(age), # standard deviation\n",
    "  var.age = var(age), # variance\n",
    "  n.age = n(), # sample size\n",
    "  se.age = sd.age / sqrt(n.age), # standard error\n",
    "  IQR.age = IQR(age))\n"
   ]
  },
  {
   "cell_type": "code",
   "execution_count": 28,
   "id": "e156d8aa",
   "metadata": {},
   "outputs": [
    {
     "data": {
      "text/html": [
       "<table>\n",
       "<thead><tr><th scope=col>sex</th><th scope=col>cholover300</th><th scope=col>maxchol</th></tr></thead>\n",
       "<tbody>\n",
       "\t<tr><td>female  </td><td>345.7500</td><td>564     </td></tr>\n",
       "\t<tr><td>male    </td><td>318.4211</td><td>353     </td></tr>\n",
       "</tbody>\n",
       "</table>\n"
      ],
      "text/latex": [
       "\\begin{tabular}{r|lll}\n",
       " sex & cholover300 & maxchol\\\\\n",
       "\\hline\n",
       "\t female   & 345.7500 & 564     \\\\\n",
       "\t male     & 318.4211 & 353     \\\\\n",
       "\\end{tabular}\n"
      ],
      "text/markdown": [
       "\n",
       "| sex | cholover300 | maxchol |\n",
       "|---|---|---|\n",
       "| female   | 345.7500 | 564      |\n",
       "| male     | 318.4211 | 353      |\n",
       "\n"
      ],
      "text/plain": [
       "  sex    cholover300 maxchol\n",
       "1 female 345.7500    564    \n",
       "2 male   318.4211    353    "
      ]
     },
     "metadata": {},
     "output_type": "display_data"
    }
   ],
   "source": [
    "df %>% \n",
    "group_by(sex) %>% \n",
    "summarize(cholover300= mean (chol[chol>300]),maxchol= max(chol[chol>300]))  #aggregating cholestorol greater than 300"
   ]
  },
  {
   "cell_type": "code",
   "execution_count": 29,
   "id": "6823d4bc",
   "metadata": {},
   "outputs": [
    {
     "data": {
      "text/html": [
       "<table>\n",
       "<thead><tr><th scope=col>sex</th><th scope=col>n</th></tr></thead>\n",
       "<tbody>\n",
       "\t<tr><td>female</td><td> 96   </td></tr>\n",
       "\t<tr><td>male  </td><td>207   </td></tr>\n",
       "</tbody>\n",
       "</table>\n"
      ],
      "text/latex": [
       "\\begin{tabular}{r|ll}\n",
       " sex & n\\\\\n",
       "\\hline\n",
       "\t female &  96   \\\\\n",
       "\t male   & 207   \\\\\n",
       "\\end{tabular}\n"
      ],
      "text/markdown": [
       "\n",
       "| sex | n |\n",
       "|---|---|\n",
       "| female |  96    |\n",
       "| male   | 207    |\n",
       "\n"
      ],
      "text/plain": [
       "  sex    n  \n",
       "1 female  96\n",
       "2 male   207"
      ]
     },
     "metadata": {},
     "output_type": "display_data"
    }
   ],
   "source": [
    "df %>%   #doing count\n",
    "count(sex)"
   ]
  },
  {
   "cell_type": "code",
   "execution_count": 30,
   "id": "91951db8",
   "metadata": {},
   "outputs": [
    {
     "data": {
      "text/html": [
       "<table>\n",
       "<thead><tr><th scope=col>sex</th><th scope=col>n</th></tr></thead>\n",
       "<tbody>\n",
       "\t<tr><td>female</td><td> 5345 </td></tr>\n",
       "\t<tr><td>male  </td><td>11128 </td></tr>\n",
       "</tbody>\n",
       "</table>\n"
      ],
      "text/latex": [
       "\\begin{tabular}{r|ll}\n",
       " sex & n\\\\\n",
       "\\hline\n",
       "\t female &  5345 \\\\\n",
       "\t male   & 11128 \\\\\n",
       "\\end{tabular}\n"
      ],
      "text/markdown": [
       "\n",
       "| sex | n |\n",
       "|---|---|\n",
       "| female |  5345  |\n",
       "| male   | 11128  |\n",
       "\n"
      ],
      "text/plain": [
       "  sex    n    \n",
       "1 female  5345\n",
       "2 male   11128"
      ]
     },
     "metadata": {},
     "output_type": "display_data"
    }
   ],
   "source": [
    "    #counting (sum) by group\n",
    "df %>% \n",
    "count(sex, wt= age)"
   ]
  },
  {
   "cell_type": "code",
   "execution_count": 31,
   "id": "a8426f82",
   "metadata": {},
   "outputs": [
    {
     "data": {
      "text/html": [
       "<table>\n",
       "<thead><tr><th scope=col>sex</th><th scope=col>cp</th><th scope=col>trestbps</th><th scope=col>chol</th><th scope=col>fbs</th><th scope=col>restecg</th><th scope=col>thalach</th><th scope=col>exang</th><th scope=col>oldpeak</th><th scope=col>slope</th><th scope=col>ca</th><th scope=col>thal</th><th scope=col>target</th><th scope=col>age</th></tr></thead>\n",
       "<tbody>\n",
       "\t<tr><td>male</td><td>1   </td><td>156 </td><td>245 </td><td>0   </td><td>0   </td><td>143 </td><td>0   </td><td>0.0 </td><td>2   </td><td>0   </td><td>2   </td><td>1   </td><td>70  </td></tr>\n",
       "\t<tr><td>male</td><td>0   </td><td>145 </td><td>174 </td><td>0   </td><td>1   </td><td>125 </td><td>1   </td><td>2.6 </td><td>0   </td><td>0   </td><td>3   </td><td>0   </td><td>70  </td></tr>\n",
       "\t<tr><td>male</td><td>0   </td><td>130 </td><td>322 </td><td>0   </td><td>0   </td><td>109 </td><td>0   </td><td>2.4 </td><td>1   </td><td>3   </td><td>2   </td><td>0   </td><td>70  </td></tr>\n",
       "\t<tr><td>male</td><td>0   </td><td>125 </td><td>304 </td><td>0   </td><td>0   </td><td>162 </td><td>1   </td><td>0.0 </td><td>2   </td><td>3   </td><td>2   </td><td>0   </td><td>77  </td></tr>\n",
       "\t<tr><td>male</td><td>2   </td><td>160 </td><td>269 </td><td>0   </td><td>1   </td><td>112 </td><td>1   </td><td>2.9 </td><td>1   </td><td>1   </td><td>3   </td><td>0   </td><td>70  </td></tr>\n",
       "</tbody>\n",
       "</table>\n"
      ],
      "text/latex": [
       "\\begin{tabular}{r|llllllllllllll}\n",
       " sex & cp & trestbps & chol & fbs & restecg & thalach & exang & oldpeak & slope & ca & thal & target & age\\\\\n",
       "\\hline\n",
       "\t male & 1    & 156  & 245  & 0    & 0    & 143  & 0    & 0.0  & 2    & 0    & 2    & 1    & 70  \\\\\n",
       "\t male & 0    & 145  & 174  & 0    & 1    & 125  & 1    & 2.6  & 0    & 0    & 3    & 0    & 70  \\\\\n",
       "\t male & 0    & 130  & 322  & 0    & 0    & 109  & 0    & 2.4  & 1    & 3    & 2    & 0    & 70  \\\\\n",
       "\t male & 0    & 125  & 304  & 0    & 0    & 162  & 1    & 0.0  & 2    & 3    & 2    & 0    & 77  \\\\\n",
       "\t male & 2    & 160  & 269  & 0    & 1    & 112  & 1    & 2.9  & 1    & 1    & 3    & 0    & 70  \\\\\n",
       "\\end{tabular}\n"
      ],
      "text/markdown": [
       "\n",
       "| sex | cp | trestbps | chol | fbs | restecg | thalach | exang | oldpeak | slope | ca | thal | target | age |\n",
       "|---|---|---|---|---|---|---|---|---|---|---|---|---|---|\n",
       "| male | 1    | 156  | 245  | 0    | 0    | 143  | 0    | 0.0  | 2    | 0    | 2    | 1    | 70   |\n",
       "| male | 0    | 145  | 174  | 0    | 1    | 125  | 1    | 2.6  | 0    | 0    | 3    | 0    | 70   |\n",
       "| male | 0    | 130  | 322  | 0    | 0    | 109  | 0    | 2.4  | 1    | 3    | 2    | 0    | 70   |\n",
       "| male | 0    | 125  | 304  | 0    | 0    | 162  | 1    | 0.0  | 2    | 3    | 2    | 0    | 77   |\n",
       "| male | 2    | 160  | 269  | 0    | 1    | 112  | 1    | 2.9  | 1    | 1    | 3    | 0    | 70   |\n",
       "\n"
      ],
      "text/plain": [
       "  sex  cp trestbps chol fbs restecg thalach exang oldpeak slope ca thal target\n",
       "1 male 1  156      245  0   0       143     0     0.0     2     0  2    1     \n",
       "2 male 0  145      174  0   1       125     1     2.6     0     0  3    0     \n",
       "3 male 0  130      322  0   0       109     0     2.4     1     3  2    0     \n",
       "4 male 0  125      304  0   0       162     1     0.0     2     3  2    0     \n",
       "5 male 2  160      269  0   1       112     1     2.9     1     1  3    0     \n",
       "  age\n",
       "1 70 \n",
       "2 70 \n",
       "3 70 \n",
       "4 77 \n",
       "5 70 "
      ]
     },
     "metadata": {},
     "output_type": "display_data"
    }
   ],
   "source": [
    "#using groups, filters, arrange  #let's find men, that have \n",
    "\n",
    "df %>% \n",
    "group_by(sex) %>% \n",
    "filter(sex==\"male\") %>% \n",
    "filter(age>=70)"
   ]
  },
  {
   "cell_type": "code",
   "execution_count": 32,
   "id": "69a07bda",
   "metadata": {},
   "outputs": [
    {
     "data": {
      "text/html": [
       "<table>\n",
       "<thead><tr><th scope=col>sex</th><th scope=col>cp</th><th scope=col>trestbps</th><th scope=col>chol</th><th scope=col>fbs</th><th scope=col>restecg</th><th scope=col>thalach</th><th scope=col>exang</th><th scope=col>oldpeak</th><th scope=col>slope</th><th scope=col>ca</th><th scope=col>thal</th><th scope=col>target</th><th scope=col>age</th></tr></thead>\n",
       "<tbody>\n",
       "\t<tr><td>male</td><td>2   </td><td>125 </td><td>273 </td><td>0   </td><td>0   </td><td>152 </td><td>0   </td><td>0.5 </td><td>0   </td><td>1   </td><td>2   </td><td>1   </td><td>54  </td></tr>\n",
       "\t<tr><td>male</td><td>1   </td><td>120 </td><td>325 </td><td>0   </td><td>1   </td><td>172 </td><td>0   </td><td>0.2 </td><td>2   </td><td>0   </td><td>2   </td><td>1   </td><td>52  </td></tr>\n",
       "\t<tr><td>male</td><td>0   </td><td>120 </td><td>302 </td><td>0   </td><td>0   </td><td>151 </td><td>0   </td><td>0.4 </td><td>1   </td><td>0   </td><td>2   </td><td>1   </td><td>66  </td></tr>\n",
       "\t<tr><td>male</td><td>1   </td><td>108 </td><td>309 </td><td>0   </td><td>1   </td><td>156 </td><td>0   </td><td>0.0 </td><td>2   </td><td>0   </td><td>3   </td><td>1   </td><td>54  </td></tr>\n",
       "\t<tr><td>male</td><td>3   </td><td>152 </td><td>298 </td><td>1   </td><td>1   </td><td>178 </td><td>0   </td><td>1.2 </td><td>1   </td><td>0   </td><td>3   </td><td>1   </td><td>52  </td></tr>\n",
       "\t<tr><td>male</td><td>2   </td><td>118 </td><td>277 </td><td>0   </td><td>1   </td><td>151 </td><td>0   </td><td>1.0 </td><td>2   </td><td>1   </td><td>3   </td><td>1   </td><td>68  </td></tr>\n",
       "</tbody>\n",
       "</table>\n"
      ],
      "text/latex": [
       "\\begin{tabular}{r|llllllllllllll}\n",
       " sex & cp & trestbps & chol & fbs & restecg & thalach & exang & oldpeak & slope & ca & thal & target & age\\\\\n",
       "\\hline\n",
       "\t male & 2    & 125  & 273  & 0    & 0    & 152  & 0    & 0.5  & 0    & 1    & 2    & 1    & 54  \\\\\n",
       "\t male & 1    & 120  & 325  & 0    & 1    & 172  & 0    & 0.2  & 2    & 0    & 2    & 1    & 52  \\\\\n",
       "\t male & 0    & 120  & 302  & 0    & 0    & 151  & 0    & 0.4  & 1    & 0    & 2    & 1    & 66  \\\\\n",
       "\t male & 1    & 108  & 309  & 0    & 1    & 156  & 0    & 0.0  & 2    & 0    & 3    & 1    & 54  \\\\\n",
       "\t male & 3    & 152  & 298  & 1    & 1    & 178  & 0    & 1.2  & 1    & 0    & 3    & 1    & 52  \\\\\n",
       "\t male & 2    & 118  & 277  & 0    & 1    & 151  & 0    & 1.0  & 2    & 1    & 3    & 1    & 68  \\\\\n",
       "\\end{tabular}\n"
      ],
      "text/markdown": [
       "\n",
       "| sex | cp | trestbps | chol | fbs | restecg | thalach | exang | oldpeak | slope | ca | thal | target | age |\n",
       "|---|---|---|---|---|---|---|---|---|---|---|---|---|---|\n",
       "| male | 2    | 125  | 273  | 0    | 0    | 152  | 0    | 0.5  | 0    | 1    | 2    | 1    | 54   |\n",
       "| male | 1    | 120  | 325  | 0    | 1    | 172  | 0    | 0.2  | 2    | 0    | 2    | 1    | 52   |\n",
       "| male | 0    | 120  | 302  | 0    | 0    | 151  | 0    | 0.4  | 1    | 0    | 2    | 1    | 66   |\n",
       "| male | 1    | 108  | 309  | 0    | 1    | 156  | 0    | 0.0  | 2    | 0    | 3    | 1    | 54   |\n",
       "| male | 3    | 152  | 298  | 1    | 1    | 178  | 0    | 1.2  | 1    | 0    | 3    | 1    | 52   |\n",
       "| male | 2    | 118  | 277  | 0    | 1    | 151  | 0    | 1.0  | 2    | 1    | 3    | 1    | 68   |\n",
       "\n"
      ],
      "text/plain": [
       "  sex  cp trestbps chol fbs restecg thalach exang oldpeak slope ca thal target\n",
       "1 male 2  125      273  0   0       152     0     0.5     0     1  2    1     \n",
       "2 male 1  120      325  0   1       172     0     0.2     2     0  2    1     \n",
       "3 male 0  120      302  0   0       151     0     0.4     1     0  2    1     \n",
       "4 male 1  108      309  0   1       156     0     0.0     2     0  3    1     \n",
       "5 male 3  152      298  1   1       178     0     1.2     1     0  3    1     \n",
       "6 male 2  118      277  0   1       151     0     1.0     2     1  3    1     \n",
       "  age\n",
       "1 54 \n",
       "2 52 \n",
       "3 66 \n",
       "4 54 \n",
       "5 52 \n",
       "6 68 "
      ]
     },
     "metadata": {},
     "output_type": "display_data"
    }
   ],
   "source": [
    "a<-df %>% \n",
    "group_by(sex) %>% \n",
    "filter(sex==\"male\") %>% \n",
    "filter(age>=50) %>% \n",
    "filter(rank((chol))>100)\n",
    "\n",
    "head(a)"
   ]
  },
  {
   "cell_type": "markdown",
   "id": "93bf1bce",
   "metadata": {},
   "source": [
    "Keep solving! Keep tRying!"
   ]
  }
 ],
 "metadata": {
  "kernelspec": {
   "display_name": "R",
   "language": "R",
   "name": "ir"
  },
  "language_info": {
   "codemirror_mode": "r",
   "file_extension": ".r",
   "mimetype": "text/x-r-source",
   "name": "R",
   "pygments_lexer": "r",
   "version": "3.6.1"
  }
 },
 "nbformat": 4,
 "nbformat_minor": 5
}
