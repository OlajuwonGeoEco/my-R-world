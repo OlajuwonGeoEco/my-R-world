{
 "cells": [
  {
   "cell_type": "markdown",
   "id": "9068b103",
   "metadata": {},
   "source": [
    "##Using Machine Learning to Predict the Position of a Footballer based on attritubes"
   ]
  },
  {
   "cell_type": "markdown",
   "id": "3c80ad4d",
   "metadata": {},
   "source": [
    "###importing the requisite libraries"
   ]
  },
  {
   "cell_type": "code",
   "execution_count": 147,
   "id": "55a7efdc",
   "metadata": {},
   "outputs": [],
   "source": [
    "library(randomForest)\n",
    "library('e1071')\n",
    "library(caret)\n",
    "library(tidyverse)"
   ]
  },
  {
   "cell_type": "code",
   "execution_count": 89,
   "id": "b12f013c",
   "metadata": {},
   "outputs": [],
   "source": [
    "df<-read.csv(file.choose(), header=T)"
   ]
  },
  {
   "cell_type": "code",
   "execution_count": null,
   "id": "0159c10b",
   "metadata": {},
   "outputs": [],
   "source": [
    "##Checking for na(s)"
   ]
  },
  {
   "cell_type": "code",
   "execution_count": 92,
   "id": "1bffe5c6",
   "metadata": {},
   "outputs": [
    {
     "data": {
      "text/html": [
       "12792"
      ],
      "text/latex": [
       "12792"
      ],
      "text/markdown": [
       "12792"
      ],
      "text/plain": [
       "[1] 12792"
      ]
     },
     "metadata": {},
     "output_type": "display_data"
    }
   ],
   "source": [
    "sum(is.na(df))\n"
   ]
  },
  {
   "cell_type": "markdown",
   "id": "9559ef76",
   "metadata": {},
   "source": [
    "##Removing the NA(s)"
   ]
  },
  {
   "cell_type": "code",
   "execution_count": 93,
   "id": "84c02463",
   "metadata": {},
   "outputs": [],
   "source": [
    "df<-na.omit(df)"
   ]
  },
  {
   "cell_type": "markdown",
   "id": "e52629a4",
   "metadata": {},
   "source": [
    "#Rechecking for NA(s)"
   ]
  },
  {
   "cell_type": "code",
   "execution_count": 94,
   "id": "5ed70d87",
   "metadata": {},
   "outputs": [
    {
     "data": {
      "text/html": [
       "0"
      ],
      "text/latex": [
       "0"
      ],
      "text/markdown": [
       "0"
      ],
      "text/plain": [
       "[1] 0"
      ]
     },
     "metadata": {},
     "output_type": "display_data"
    }
   ],
   "source": [
    "sum(is.na(df))\n"
   ]
  },
  {
   "cell_type": "code",
   "execution_count": 95,
   "id": "a8e2ef75",
   "metadata": {},
   "outputs": [
    {
     "data": {
      "text/html": [
       "<table>\n",
       "<thead><tr><th></th><th scope=col>club_position</th><th scope=col>pace</th><th scope=col>shooting</th><th scope=col>passing</th><th scope=col>dribbling</th><th scope=col>defending</th><th scope=col>physic</th><th scope=col>attacking_crossing</th><th scope=col>attacking_finishing</th><th scope=col>attacking_heading_accuracy</th><th scope=col>...</th><th scope=col>defending_marking_awareness</th><th scope=col>defending_standing_tackle</th><th scope=col>defending_sliding_tackle</th><th scope=col>goalkeeping_diving</th><th scope=col>goalkeeping_handling</th><th scope=col>goalkeeping_kicking</th><th scope=col>goalkeeping_positioning</th><th scope=col>goalkeeping_reflexes</th><th scope=col>preferred_foot</th><th scope=col>league_name</th></tr></thead>\n",
       "<tbody>\n",
       "\t<tr><th scope=row>1</th><td>RW                    </td><td>85                    </td><td>92                    </td><td>91                    </td><td>95                    </td><td>34                    </td><td>65                    </td><td>85                    </td><td>95                    </td><td>70                    </td><td>...                   </td><td>20                    </td><td>35                    </td><td>24                    </td><td> 6                    </td><td>11                    </td><td>15                    </td><td>14                    </td><td> 8                    </td><td>Left                  </td><td>French Ligue 1        </td></tr>\n",
       "\t<tr><th scope=row>2</th><td>ST                    </td><td>78                    </td><td>92                    </td><td>79                    </td><td>86                    </td><td>44                    </td><td>82                    </td><td>71                    </td><td>95                    </td><td>90                    </td><td>...                   </td><td>35                    </td><td>42                    </td><td>19                    </td><td>15                    </td><td> 6                    </td><td>12                    </td><td> 8                    </td><td>10                    </td><td>Right                 </td><td>German 1. Bundesliga  </td></tr>\n",
       "\t<tr><th scope=row>3</th><td>ST                    </td><td>87                    </td><td>94                    </td><td>80                    </td><td>88                    </td><td>34                    </td><td>75                    </td><td>87                    </td><td>95                    </td><td>90                    </td><td>...                   </td><td>24                    </td><td>32                    </td><td>24                    </td><td> 7                    </td><td>11                    </td><td>15                    </td><td>14                    </td><td>11                    </td><td>Right                 </td><td>English Premier League</td></tr>\n",
       "\t<tr><th scope=row>4</th><td>LW                    </td><td>91                    </td><td>83                    </td><td>86                    </td><td>94                    </td><td>37                    </td><td>63                    </td><td>85                    </td><td>83                    </td><td>63                    </td><td>...                   </td><td>35                    </td><td>32                    </td><td>29                    </td><td> 9                    </td><td> 9                    </td><td>15                    </td><td>15                    </td><td>11                    </td><td>Right                 </td><td>French Ligue 1        </td></tr>\n",
       "\t<tr><th scope=row>5</th><td>RCM                   </td><td>76                    </td><td>86                    </td><td>93                    </td><td>88                    </td><td>64                    </td><td>78                    </td><td>94                    </td><td>82                    </td><td>55                    </td><td>...                   </td><td>68                    </td><td>65                    </td><td>53                    </td><td>15                    </td><td>13                    </td><td> 5                    </td><td>10                    </td><td>13                    </td><td>Right                 </td><td>English Premier League</td></tr>\n",
       "\t<tr><th scope=row>7</th><td>ST                    </td><td>97                    </td><td>88                    </td><td>80                    </td><td>92                    </td><td>36                    </td><td>77                    </td><td>78                    </td><td>93                    </td><td>72                    </td><td>...                   </td><td>26                    </td><td>34                    </td><td>32                    </td><td>13                    </td><td> 5                    </td><td> 7                    </td><td>11                    </td><td> 6                    </td><td>Right                 </td><td>French Ligue 1        </td></tr>\n",
       "</tbody>\n",
       "</table>\n"
      ],
      "text/latex": [
       "\\begin{tabular}{r|lllllllllllllllllllllllllllllllllllllllllll}\n",
       "  & club\\_position & pace & shooting & passing & dribbling & defending & physic & attacking\\_crossing & attacking\\_finishing & attacking\\_heading\\_accuracy & ... & defending\\_marking\\_awareness & defending\\_standing\\_tackle & defending\\_sliding\\_tackle & goalkeeping\\_diving & goalkeeping\\_handling & goalkeeping\\_kicking & goalkeeping\\_positioning & goalkeeping\\_reflexes & preferred\\_foot & league\\_name\\\\\n",
       "\\hline\n",
       "\t1 & RW                     & 85                     & 92                     & 91                     & 95                     & 34                     & 65                     & 85                     & 95                     & 70                     & ...                    & 20                     & 35                     & 24                     &  6                     & 11                     & 15                     & 14                     &  8                     & Left                   & French Ligue 1        \\\\\n",
       "\t2 & ST                     & 78                     & 92                     & 79                     & 86                     & 44                     & 82                     & 71                     & 95                     & 90                     & ...                    & 35                     & 42                     & 19                     & 15                     &  6                     & 12                     &  8                     & 10                     & Right                  & German 1. Bundesliga  \\\\\n",
       "\t3 & ST                     & 87                     & 94                     & 80                     & 88                     & 34                     & 75                     & 87                     & 95                     & 90                     & ...                    & 24                     & 32                     & 24                     &  7                     & 11                     & 15                     & 14                     & 11                     & Right                  & English Premier League\\\\\n",
       "\t4 & LW                     & 91                     & 83                     & 86                     & 94                     & 37                     & 63                     & 85                     & 83                     & 63                     & ...                    & 35                     & 32                     & 29                     &  9                     &  9                     & 15                     & 15                     & 11                     & Right                  & French Ligue 1        \\\\\n",
       "\t5 & RCM                    & 76                     & 86                     & 93                     & 88                     & 64                     & 78                     & 94                     & 82                     & 55                     & ...                    & 68                     & 65                     & 53                     & 15                     & 13                     &  5                     & 10                     & 13                     & Right                  & English Premier League\\\\\n",
       "\t7 & ST                     & 97                     & 88                     & 80                     & 92                     & 36                     & 77                     & 78                     & 93                     & 72                     & ...                    & 26                     & 34                     & 32                     & 13                     &  5                     &  7                     & 11                     &  6                     & Right                  & French Ligue 1        \\\\\n",
       "\\end{tabular}\n"
      ],
      "text/markdown": [
       "\n",
       "| <!--/--> | club_position | pace | shooting | passing | dribbling | defending | physic | attacking_crossing | attacking_finishing | attacking_heading_accuracy | ... | defending_marking_awareness | defending_standing_tackle | defending_sliding_tackle | goalkeeping_diving | goalkeeping_handling | goalkeeping_kicking | goalkeeping_positioning | goalkeeping_reflexes | preferred_foot | league_name |\n",
       "|---|---|---|---|---|---|---|---|---|---|---|---|---|---|---|---|---|---|---|---|---|---|\n",
       "| 1 | RW                     | 85                     | 92                     | 91                     | 95                     | 34                     | 65                     | 85                     | 95                     | 70                     | ...                    | 20                     | 35                     | 24                     |  6                     | 11                     | 15                     | 14                     |  8                     | Left                   | French Ligue 1         |\n",
       "| 2 | ST                     | 78                     | 92                     | 79                     | 86                     | 44                     | 82                     | 71                     | 95                     | 90                     | ...                    | 35                     | 42                     | 19                     | 15                     |  6                     | 12                     |  8                     | 10                     | Right                  | German 1. Bundesliga   |\n",
       "| 3 | ST                     | 87                     | 94                     | 80                     | 88                     | 34                     | 75                     | 87                     | 95                     | 90                     | ...                    | 24                     | 32                     | 24                     |  7                     | 11                     | 15                     | 14                     | 11                     | Right                  | English Premier League |\n",
       "| 4 | LW                     | 91                     | 83                     | 86                     | 94                     | 37                     | 63                     | 85                     | 83                     | 63                     | ...                    | 35                     | 32                     | 29                     |  9                     |  9                     | 15                     | 15                     | 11                     | Right                  | French Ligue 1         |\n",
       "| 5 | RCM                    | 76                     | 86                     | 93                     | 88                     | 64                     | 78                     | 94                     | 82                     | 55                     | ...                    | 68                     | 65                     | 53                     | 15                     | 13                     |  5                     | 10                     | 13                     | Right                  | English Premier League |\n",
       "| 7 | ST                     | 97                     | 88                     | 80                     | 92                     | 36                     | 77                     | 78                     | 93                     | 72                     | ...                    | 26                     | 34                     | 32                     | 13                     |  5                     |  7                     | 11                     |  6                     | Right                  | French Ligue 1         |\n",
       "\n"
      ],
      "text/plain": [
       "  club_position pace shooting passing dribbling defending physic\n",
       "1 RW            85   92       91      95        34        65    \n",
       "2 ST            78   92       79      86        44        82    \n",
       "3 ST            87   94       80      88        34        75    \n",
       "4 LW            91   83       86      94        37        63    \n",
       "5 RCM           76   86       93      88        64        78    \n",
       "7 ST            97   88       80      92        36        77    \n",
       "  attacking_crossing attacking_finishing attacking_heading_accuracy ...\n",
       "1 85                 95                  70                         ...\n",
       "2 71                 95                  90                         ...\n",
       "3 87                 95                  90                         ...\n",
       "4 85                 83                  63                         ...\n",
       "5 94                 82                  55                         ...\n",
       "7 78                 93                  72                         ...\n",
       "  defending_marking_awareness defending_standing_tackle\n",
       "1 20                          35                       \n",
       "2 35                          42                       \n",
       "3 24                          32                       \n",
       "4 35                          32                       \n",
       "5 68                          65                       \n",
       "7 26                          34                       \n",
       "  defending_sliding_tackle goalkeeping_diving goalkeeping_handling\n",
       "1 24                        6                 11                  \n",
       "2 19                       15                  6                  \n",
       "3 24                        7                 11                  \n",
       "4 29                        9                  9                  \n",
       "5 53                       15                 13                  \n",
       "7 32                       13                  5                  \n",
       "  goalkeeping_kicking goalkeeping_positioning goalkeeping_reflexes\n",
       "1 15                  14                       8                  \n",
       "2 12                   8                      10                  \n",
       "3 15                  14                      11                  \n",
       "4 15                  15                      11                  \n",
       "5  5                  10                      13                  \n",
       "7  7                  11                       6                  \n",
       "  preferred_foot league_name           \n",
       "1 Left           French Ligue 1        \n",
       "2 Right          German 1. Bundesliga  \n",
       "3 Right          English Premier League\n",
       "4 Right          French Ligue 1        \n",
       "5 Right          English Premier League\n",
       "7 Right          French Ligue 1        "
      ]
     },
     "metadata": {},
     "output_type": "display_data"
    }
   ],
   "source": [
    "head(df)"
   ]
  },
  {
   "cell_type": "code",
   "execution_count": 96,
   "id": "045df770",
   "metadata": {},
   "outputs": [
    {
     "name": "stdout",
     "output_type": "stream",
     "text": [
      " Factor w/ 30 levels \"\",\"CAM\",\"CB\",..: 27 29 29 16 21 29 29 21 5 16 ...\n"
     ]
    }
   ],
   "source": [
    "str(df$club_position)"
   ]
  },
  {
   "cell_type": "code",
   "execution_count": null,
   "id": "428bc54a",
   "metadata": {},
   "outputs": [],
   "source": [
    "###Removing positions that are not relevant to the analysis"
   ]
  },
  {
   "cell_type": "code",
   "execution_count": 97,
   "id": "5cb47721",
   "metadata": {},
   "outputs": [],
   "source": [
    "df<-df %>% \n",
    "filter(club_position!=\"SUB\") %>% \n",
    "filter(club_position!=\"RES\") %>% \n",
    "drop_na()"
   ]
  },
  {
   "cell_type": "markdown",
   "id": "b1fe1e14",
   "metadata": {},
   "source": [
    "##Let us categorize the positions into real life actual positions. Mutate to the rescue"
   ]
  },
  {
   "cell_type": "code",
   "execution_count": 98,
   "id": "5e3e8612",
   "metadata": {},
   "outputs": [],
   "source": [
    "df1<-df %>% \n",
    "mutate(position=\n",
    "      case_when(club_position== \"CF\" ~ \"Striker\",\n",
    "               club_position==\"RW\"~\"Winger\",\n",
    "                club_position==\"LM\"~\"Winger\",\n",
    "                 club_position==\"RM\"~\"Winger\",\n",
    "               club_position==\"LW\"~\"Winger\",\n",
    "               club_position==\"LF\"~\"Striker\",\n",
    "               club_position==\"RF\"~\"Striker\",\n",
    "               club_position==\"ST\"~\"Striker\",\n",
    "               club_position==\"LS\"~\"Striker\",\n",
    "               club_position==\"RS\"~\"Striker\",\n",
    "               club_position==\"CDM\"~\"Defensive_Midfield\",\n",
    "               club_position==\"CDM\"~\"Defensive_Midfield\",\n",
    "               club_position==\"CAM\"~\"Attacking_Midfield\",\n",
    "               club_position==\"LDM\"~\"Defensive_Midfield\",\n",
    "               club_position==\"RDM\"~\"Defensive_Midfield\",\n",
    "               club_position==\"RCM\"~\"Central_Midfield\",\n",
    "               club_position==\"LCM\"~\"Central_Midfield\",\n",
    "               club_position==\"RCM\"~\"Central_Midfield\",\n",
    "               club_position==\"LDM\"~\"Defensive_Midfield\",\n",
    "               club_position==\"LAM\"~\"Attacking_Midfield\",\n",
    "               club_position==\"RAM\"~\"Attacking_Midfield\",\n",
    "               club_position==\"CB\"~\"Defender\",\n",
    "               club_position==\"RCB\"~\"Defender\",\n",
    "               club_position==\"LCB\"~\"Defender\",\n",
    "               club_position==\"RB\"~\"Right_Back\",\n",
    "               club_position==\"RWB\"~\"Right_Back\",\n",
    "               club_position==\"LB\"~\"Left_Back\",\n",
    "               club_position==\"LWB\"~\"Left_Back\",\n",
    "               club_position==\"GK\"~\"Goalie\"))\n",
    "            "
   ]
  },
  {
   "cell_type": "code",
   "execution_count": 99,
   "id": "496fa311",
   "metadata": {},
   "outputs": [],
   "source": [
    "df1<-df1 %>% \n",
    "select(-league_name)"
   ]
  },
  {
   "cell_type": "markdown",
   "id": "5733a4ed",
   "metadata": {},
   "source": [
    "###Checking the class of position"
   ]
  },
  {
   "cell_type": "code",
   "execution_count": 100,
   "id": "d3ccef6c",
   "metadata": {},
   "outputs": [
    {
     "name": "stdout",
     "output_type": "stream",
     "text": [
      " chr [1:7063] \"Winger\" \"Striker\" \"Striker\" \"Winger\" \"Central_Midfield\" ...\n"
     ]
    }
   ],
   "source": [
    "str(df1$position)"
   ]
  },
  {
   "cell_type": "markdown",
   "id": "7b41640b",
   "metadata": {},
   "source": [
    "##Change to a factor"
   ]
  },
  {
   "cell_type": "code",
   "execution_count": 101,
   "id": "d2f336a7",
   "metadata": {},
   "outputs": [],
   "source": [
    "df1$position<-as.factor(df1$position)"
   ]
  },
  {
   "cell_type": "code",
   "execution_count": null,
   "id": "221a18f4",
   "metadata": {},
   "outputs": [],
   "source": [
    "###Lets start with random seed so the outcome will be repeatable and store train and test data. Splitting 70-30"
   ]
  },
  {
   "cell_type": "code",
   "execution_count": 102,
   "id": "7533659d",
   "metadata": {},
   "outputs": [],
   "source": [
    "\n",
    "set.seed(222)\n",
    "ind <- sample(2, nrow(df1), replace = TRUE, prob = c(0.7, 0.3))\n",
    "train <- df1[ind==1,]\n",
    "test <- df1[ind==2,]\n"
   ]
  },
  {
   "cell_type": "code",
   "execution_count": 103,
   "id": "fa88e474",
   "metadata": {},
   "outputs": [],
   "source": [
    "test<-na.omit(test)"
   ]
  },
  {
   "cell_type": "code",
   "execution_count": 104,
   "id": "709d2ae7",
   "metadata": {},
   "outputs": [
    {
     "data": {
      "text/html": [
       "<ol class=list-inline>\n",
       "\t<li>2047</li>\n",
       "\t<li>43</li>\n",
       "</ol>\n"
      ],
      "text/latex": [
       "\\begin{enumerate*}\n",
       "\\item 2047\n",
       "\\item 43\n",
       "\\end{enumerate*}\n"
      ],
      "text/markdown": [
       "1. 2047\n",
       "2. 43\n",
       "\n",
       "\n"
      ],
      "text/plain": [
       "[1] 2047   43"
      ]
     },
     "metadata": {},
     "output_type": "display_data"
    }
   ],
   "source": [
    "dim(test)"
   ]
  },
  {
   "cell_type": "code",
   "execution_count": 105,
   "id": "746887f6",
   "metadata": {},
   "outputs": [],
   "source": [
    "train<-na.omit(train)"
   ]
  },
  {
   "cell_type": "code",
   "execution_count": 106,
   "id": "ebe77678",
   "metadata": {},
   "outputs": [
    {
     "data": {
      "text/html": [
       "<ol class=list-inline>\n",
       "\t<li>4880</li>\n",
       "\t<li>43</li>\n",
       "</ol>\n"
      ],
      "text/latex": [
       "\\begin{enumerate*}\n",
       "\\item 4880\n",
       "\\item 43\n",
       "\\end{enumerate*}\n"
      ],
      "text/markdown": [
       "1. 4880\n",
       "2. 43\n",
       "\n",
       "\n"
      ],
      "text/plain": [
       "[1] 4880   43"
      ]
     },
     "metadata": {},
     "output_type": "display_data"
    }
   ],
   "source": [
    "dim(train)"
   ]
  },
  {
   "cell_type": "code",
   "execution_count": null,
   "id": "f854d748",
   "metadata": {},
   "outputs": [],
   "source": [
    "###Time to run the model on the train data"
   ]
  },
  {
   "cell_type": "code",
   "execution_count": 144,
   "id": "bf853e9f",
   "metadata": {},
   "outputs": [],
   "source": [
    "rf <- randomForest(factor(position)~., data=train, importance=TRUE,proximity=TRUE) "
   ]
  },
  {
   "cell_type": "code",
   "execution_count": 145,
   "id": "62c07462",
   "metadata": {},
   "outputs": [
    {
     "data": {
      "text/plain": [
       "\n",
       "Call:\n",
       " randomForest(formula = factor(position) ~ ., data = train, importance = TRUE,      proximity = TRUE) \n",
       "               Type of random forest: classification\n",
       "                     Number of trees: 500\n",
       "No. of variables tried at each split: 6\n",
       "\n",
       "        OOB estimate of  error rate: 2.03%\n",
       "Confusion matrix:\n",
       "                   Attacking_Midfield Central_Midfield Defender\n",
       "Attacking_Midfield                214                4        1\n",
       "Central_Midfield                    2              632        4\n",
       "Defender                            0                0     1102\n",
       "Defensive_Midfield                  3                1        4\n",
       "Left_Back                           0                1        0\n",
       "Right_Back                          1                1        1\n",
       "Striker                             1               10        0\n",
       "Winger                              0                0        9\n",
       "                   Defensive_Midfield Left_Back Right_Back Striker Winger\n",
       "Attacking_Midfield                  5         2          2       7      3\n",
       "Central_Midfield                    0         0          0       4      3\n",
       "Defender                            1         0          1       0      1\n",
       "Defensive_Midfield                435         1          0       1      2\n",
       "Left_Back                           2       438          0       1      5\n",
       "Right_Back                          1         0        446       1      4\n",
       "Striker                             2         0          0     686      5\n",
       "Winger                              1         1          0       0    828\n",
       "                   class.error\n",
       "Attacking_Midfield 0.100840336\n",
       "Central_Midfield   0.020155039\n",
       "Defender           0.002714932\n",
       "Defensive_Midfield 0.026845638\n",
       "Left_Back          0.020134228\n",
       "Right_Back         0.019780220\n",
       "Striker            0.025568182\n",
       "Winger             0.013110846"
      ]
     },
     "metadata": {},
     "output_type": "display_data"
    }
   ],
   "source": [
    "rf\n"
   ]
  },
  {
   "cell_type": "code",
   "execution_count": 112,
   "id": "9fed63b4",
   "metadata": {},
   "outputs": [
    {
     "name": "stderr",
     "output_type": "stream",
     "text": [
      "also installing the dependencies 'SparseM', 'slam'\n",
      "\n"
     ]
    },
    {
     "name": "stdout",
     "output_type": "stream",
     "text": [
      "\n",
      "  There are binary versions available but the source versions are later:\n",
      "      binary source needs_compilation\n",
      "slam  0.1-48 0.1-50              TRUE\n",
      "e1071  1.7-6  1.7-9              TRUE\n",
      "\n",
      "  Binaries will be installed\n",
      "package 'SparseM' successfully unpacked and MD5 sums checked\n",
      "package 'slam' successfully unpacked and MD5 sums checked\n",
      "package 'e1071' successfully unpacked and MD5 sums checked\n",
      "\n",
      "The downloaded binary packages are in\n",
      "\tC:\\Users\\patri\\AppData\\Local\\Temp\\Rtmp61EPdJ\\downloaded_packages\n"
     ]
    }
   ],
   "source": [
    "install.packages('e1071', dependencies=TRUE)"
   ]
  },
  {
   "cell_type": "code",
   "execution_count": 123,
   "id": "4a3195e2",
   "metadata": {},
   "outputs": [
    {
     "data": {
      "text/plain": [
       "Confusion Matrix and Statistics\n",
       "\n",
       "                    Reference\n",
       "Prediction           Attacking_Midfield Central_Midfield Defender\n",
       "  Attacking_Midfield                238                0        0\n",
       "  Central_Midfield                    0              645        0\n",
       "  Defender                            0                0     1105\n",
       "  Defensive_Midfield                  0                0        0\n",
       "  Left_Back                           0                0        0\n",
       "  Right_Back                          0                0        0\n",
       "  Striker                             0                0        0\n",
       "  Winger                              0                0        0\n",
       "                    Reference\n",
       "Prediction           Defensive_Midfield Left_Back Right_Back Striker Winger\n",
       "  Attacking_Midfield                  0         0          0       0      0\n",
       "  Central_Midfield                    0         0          0       0      0\n",
       "  Defender                            0         0          0       0      0\n",
       "  Defensive_Midfield                447         0          0       0      0\n",
       "  Left_Back                           0       447          0       0      0\n",
       "  Right_Back                          0         0        455       0      0\n",
       "  Striker                             0         0          0     704      0\n",
       "  Winger                              0         0          0       0    839\n",
       "\n",
       "Overall Statistics\n",
       "                                     \n",
       "               Accuracy : 1          \n",
       "                 95% CI : (0.9992, 1)\n",
       "    No Information Rate : 0.2264     \n",
       "    P-Value [Acc > NIR] : < 2.2e-16  \n",
       "                                     \n",
       "                  Kappa : 1          \n",
       "                                     \n",
       " Mcnemar's Test P-Value : NA         \n",
       "\n",
       "Statistics by Class:\n",
       "\n",
       "                     Class: Attacking_Midfield Class: Central_Midfield\n",
       "Sensitivity                            1.00000                  1.0000\n",
       "Specificity                            1.00000                  1.0000\n",
       "Pos Pred Value                         1.00000                  1.0000\n",
       "Neg Pred Value                         1.00000                  1.0000\n",
       "Prevalence                             0.04877                  0.1322\n",
       "Detection Rate                         0.04877                  0.1322\n",
       "Detection Prevalence                   0.04877                  0.1322\n",
       "Balanced Accuracy                      1.00000                  1.0000\n",
       "                     Class: Defender Class: Defensive_Midfield Class: Left_Back\n",
       "Sensitivity                   1.0000                    1.0000           1.0000\n",
       "Specificity                   1.0000                    1.0000           1.0000\n",
       "Pos Pred Value                1.0000                    1.0000           1.0000\n",
       "Neg Pred Value                1.0000                    1.0000           1.0000\n",
       "Prevalence                    0.2264                    0.0916           0.0916\n",
       "Detection Rate                0.2264                    0.0916           0.0916\n",
       "Detection Prevalence          0.2264                    0.0916           0.0916\n",
       "Balanced Accuracy             1.0000                    1.0000           1.0000\n",
       "                     Class: Right_Back Class: Striker Class: Winger\n",
       "Sensitivity                    1.00000         1.0000        1.0000\n",
       "Specificity                    1.00000         1.0000        1.0000\n",
       "Pos Pred Value                 1.00000         1.0000        1.0000\n",
       "Neg Pred Value                 1.00000         1.0000        1.0000\n",
       "Prevalence                     0.09324         0.1443        0.1719\n",
       "Detection Rate                 0.09324         0.1443        0.1719\n",
       "Detection Prevalence           0.09324         0.1443        0.1719\n",
       "Balanced Accuracy              1.00000         1.0000        1.0000"
      ]
     },
     "metadata": {},
     "output_type": "display_data"
    }
   ],
   "source": [
    "p1 <- predict(rf, train)\n",
    "confusionMatrix(p1, train$ position)"
   ]
  },
  {
   "cell_type": "code",
   "execution_count": 124,
   "id": "88bb08a6",
   "metadata": {},
   "outputs": [
    {
     "data": {
      "text/plain": [
       "Confusion Matrix and Statistics\n",
       "\n",
       "                    Reference\n",
       "Prediction           Attacking_Midfield Central_Midfield Defender\n",
       "  Attacking_Midfield                 89                0        0\n",
       "  Central_Midfield                    1              292        1\n",
       "  Defender                            1                0      482\n",
       "  Defensive_Midfield                  1                0        0\n",
       "  Left_Back                           0                1        0\n",
       "  Right_Back                          0                0        0\n",
       "  Striker                             2                2        0\n",
       "  Winger                              2                0        0\n",
       "                    Reference\n",
       "Prediction           Defensive_Midfield Left_Back Right_Back Striker Winger\n",
       "  Attacking_Midfield                  0         0          0       0      0\n",
       "  Central_Midfield                    0         0          0       4      0\n",
       "  Defender                            0         0          0       1      2\n",
       "  Defensive_Midfield                163         0          0       1      0\n",
       "  Left_Back                           1       180          0       1      2\n",
       "  Right_Back                          0         0        171       0      2\n",
       "  Striker                             0         1          0     287      0\n",
       "  Winger                              3         3          5       1    345\n",
       "\n",
       "Overall Statistics\n",
       "                                          \n",
       "               Accuracy : 0.9814          \n",
       "                 95% CI : (0.9746, 0.9868)\n",
       "    No Information Rate : 0.236           \n",
       "    P-Value [Acc > NIR] : < 2.2e-16       \n",
       "                                          \n",
       "                  Kappa : 0.9781          \n",
       "                                          \n",
       " Mcnemar's Test P-Value : NA              \n",
       "\n",
       "Statistics by Class:\n",
       "\n",
       "                     Class: Attacking_Midfield Class: Central_Midfield\n",
       "Sensitivity                            0.92708                  0.9898\n",
       "Specificity                            1.00000                  0.9966\n",
       "Pos Pred Value                         1.00000                  0.9799\n",
       "Neg Pred Value                         0.99642                  0.9983\n",
       "Prevalence                             0.04690                  0.1441\n",
       "Detection Rate                         0.04348                  0.1426\n",
       "Detection Prevalence                   0.04348                  0.1456\n",
       "Balanced Accuracy                      0.96354                  0.9932\n",
       "                     Class: Defender Class: Defensive_Midfield Class: Left_Back\n",
       "Sensitivity                   0.9979                   0.97605          0.97826\n",
       "Specificity                   0.9974                   0.99894          0.99732\n",
       "Pos Pred Value                0.9918                   0.98788          0.97297\n",
       "Neg Pred Value                0.9994                   0.99787          0.99785\n",
       "Prevalence                    0.2360                   0.08158          0.08989\n",
       "Detection Rate                0.2355                   0.07963          0.08793\n",
       "Detection Prevalence          0.2374                   0.08061          0.09038\n",
       "Balanced Accuracy             0.9977                   0.98749          0.98779\n",
       "                     Class: Right_Back Class: Striker Class: Winger\n",
       "Sensitivity                    0.97159         0.9729        0.9829\n",
       "Specificity                    0.99893         0.9971        0.9917\n",
       "Pos Pred Value                 0.98844         0.9829        0.9610\n",
       "Neg Pred Value                 0.99733         0.9954        0.9964\n",
       "Prevalence                     0.08598         0.1441        0.1715\n",
       "Detection Rate                 0.08354         0.1402        0.1685\n",
       "Detection Prevalence           0.08451         0.1426        0.1754\n",
       "Balanced Accuracy              0.98526         0.9850        0.9873"
      ]
     },
     "metadata": {},
     "output_type": "display_data"
    }
   ],
   "source": [
    "p2 <- predict(rf, test)\n",
    "confusionMatrix(p2, test$ position)"
   ]
  },
  {
   "cell_type": "code",
   "execution_count": 125,
   "id": "d3e7d369",
   "metadata": {},
   "outputs": [
    {
     "data": {
      "image/png": "[encoded data removed]",
      "text/plain": [
       "Plot with title \"rf\""
      ]
     },
     "metadata": {},
     "output_type": "display_data"
    }
   ],
   "source": [
    "plot(rf)"
   ]
  },
  {
   "cell_type": "code",
   "execution_count": 118,
   "id": "2683cdf2",
   "metadata": {},
   "outputs": [
    {
     "data": {
      "image/png": "[encoded data removed]",
      "text/plain": [
       "plot without title"
      ]
     },
     "metadata": {},
     "output_type": "display_data"
    }
   ],
   "source": [
    "MDSplot(rf, train$position)"
   ]
  },
  {
   "cell_type": "code",
   "execution_count": 132,
   "id": "6f30ca04",
   "metadata": {},
   "outputs": [
    {
     "data": {
      "image/png": "[encoded data removed]",
      "text/plain": [
       "Plot with title \"Partial Dependence on pace\""
      ]
     },
     "metadata": {},
     "output_type": "display_data"
    }
   ],
   "source": [
    "partialPlot(rf, train, pace, \"Defender\")"
   ]
  },
  {
   "cell_type": "code",
   "execution_count": null,
   "id": "3592ea49",
   "metadata": {},
   "outputs": [],
   "source": []
  }
 ],
 "metadata": {
  "kernelspec": {
   "display_name": "R",
   "language": "R",
   "name": "ir"
  },
  "language_info": {
   "codemirror_mode": "r",
   "file_extension": ".r",
   "mimetype": "text/x-r-source",
   "name": "R",
   "pygments_lexer": "r",
   "version": "3.6.1"
  }
 },
 "nbformat": 4,
 "nbformat_minor": 5
}
